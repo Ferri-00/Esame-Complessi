{
 "cells": [
  {
   "cell_type": "code",
   "execution_count": 1,
   "id": "0fa79ffc",
   "metadata": {},
   "outputs": [],
   "source": [
    "import networkx as nx\n",
    "import matplotlib.pyplot as plt\n",
    "from networkx.utils import py_random_state\n",
    "from networkx.generators.random_graphs import _random_subset\n",
    "from networkx.generators.classic import star_graph\n",
    "import numpy as np\n",
    "import random\n",
    "\n",
    "import scipy.stats as stats\n",
    "from scipy.optimize import curve_fit\n",
    "\n",
    "\n",
    "import time\n",
    "import os"
   ]
  },
  {
   "cell_type": "markdown",
   "id": "23caa3c5",
   "metadata": {},
   "source": [
    "Per via di problemi dovuti alle versioni delle librerie di networkx installate abbiamo aggiunto la funzione della libreria nel file per poterla usare senza preoccuparci delle versioni. La funzione originale può essere trovata nella documentazione della libreria al link https://networkx.org/documentation/stable/_modules/networkx/generators/random_graphs.html#barabasi_albert_graph"
   ]
  },
  {
   "cell_type": "code",
   "execution_count": 2,
   "id": "e87f6a32",
   "metadata": {},
   "outputs": [],
   "source": [
    "@py_random_state(2)\n",
    "def barabasi_albert(n, m, seed=None, initial_graph=None):\n",
    "    if m < 1 or m >= n:\n",
    "        raise nx.NetworkXError(\n",
    "            f\"Barabási–Albert network must have m >= 1 and m < n, m = {m}, n = {n}\"\n",
    "        )\n",
    "\n",
    "    if initial_graph is None:\n",
    "        G = star_graph(m)\n",
    "    else:\n",
    "        if len(initial_graph) < m or len(initial_graph) > n:\n",
    "            raise nx.NetworkXError(\n",
    "                f\"Barabási–Albert initial graph needs between m={m} and n={n} nodes\"\n",
    "            )\n",
    "        G = initial_graph.copy()\n",
    "\n",
    "    repeated_nodes = [n for n, d in G.degree() for _ in range(d)]\n",
    "    source = len(G)\n",
    "    while source < n:\n",
    "        targets = _random_subset(repeated_nodes, m, seed)\n",
    "        G.add_edges_from(zip([source] * m, targets))\n",
    "        repeated_nodes.extend(targets)\n",
    "        repeated_nodes.extend([source] * m)\n",
    "\n",
    "        source += 1\n",
    "    return G"
   ]
  },
  {
   "cell_type": "code",
   "execution_count": 3,
   "id": "80476f9a",
   "metadata": {},
   "outputs": [],
   "source": [
    "def linear_search(lys, element):\n",
    "    for i in range(len(lys)):\n",
    "        if lys[i] == element:\n",
    "            return i\n",
    "    return -1\n",
    "\n",
    "seed = np.random.RandomState()\n",
    "def exploration_time (G, explorations_per_graph):\n",
    "    start_node = _random_subset(G.nodes, 1, seed).pop()\n",
    "        \n",
    "    def exploration(node, G, explored_nodes):\n",
    "        if linear_search(explored_nodes, node) < 0:\n",
    "            explored_nodes += [node]\n",
    "        neighbours = list(G[node])\n",
    "        new_node = _random_subset(neighbours, 1, seed).pop()\n",
    "        return new_node\n",
    "\n",
    "    exploration_time = []\n",
    "    explored_nodes = []\n",
    "    \n",
    "    for i in range(explorations_per_graph):\n",
    "        t = 0\n",
    "        while True:\n",
    "            start_node = exploration(start_node, G, explored_nodes)\n",
    "\n",
    "            if len(explored_nodes) == len(G.nodes):\n",
    "                exploration_time += [t]\n",
    "                explored_nodes.clear()\n",
    "                break\n",
    "            t += 1\n",
    "\n",
    "    mean_exploration_time = sum(exploration_time)/explorations_per_graph\n",
    "    print(\"Mean exploration time:\", mean_exploration_time, \"for\", len(G.nodes) ,\"nodes\")\n",
    "\n",
    "    return mean_exploration_time"
   ]
  },
  {
   "cell_type": "code",
   "execution_count": 4,
   "id": "326822cd",
   "metadata": {},
   "outputs": [],
   "source": [
    "time_steps = int(1e5) \n",
    "explorations_per_graph = 2"
   ]
  },
  {
   "cell_type": "markdown",
   "id": "7d154bf3",
   "metadata": {},
   "source": [
    "## Exploration for random graph"
   ]
  },
  {
   "cell_type": "markdown",
   "id": "baf2ab44",
   "metadata": {},
   "source": [
    "In funzione del numero di nodi t(N)"
   ]
  },
  {
   "cell_type": "code",
   "execution_count": 5,
   "id": "ac9353ca",
   "metadata": {
    "scrolled": false
   },
   "outputs": [
    {
     "name": "stdout",
     "output_type": "stream",
     "text": [
      "Mean exploration time: 90.5 for 20 nodes\n",
      "Mean exploration time: 2023.0 for 220 nodes\n",
      "Mean exploration time: 3232.0 for 420 nodes\n",
      "Mean exploration time: 4423.5 for 620 nodes\n",
      "Mean exploration time: 5046.5 for 820 nodes\n",
      "Mean exploration time: 7227.5 for 1020 nodes\n",
      "Mean exploration time: 7930.0 for 1220 nodes\n",
      "Mean exploration time: 9995.5 for 1420 nodes\n",
      "Mean exploration time: 15120.0 for 1620 nodes\n",
      "Mean exploration time: 13055.0 for 1820 nodes\n",
      "Mean exploration time: 16511.0 for 2020 nodes\n",
      "Mean exploration time: 18247.5 for 2220 nodes\n",
      "Mean exploration time: 22389.0 for 2420 nodes\n",
      "Mean exploration time: 24123.0 for 2620 nodes\n",
      "Mean exploration time: 25311.5 for 2820 nodes\n",
      "Mean exploration time: 30107.5 for 3020 nodes\n",
      "Mean exploration time: 28143.5 for 3220 nodes\n",
      "Mean exploration time: 31176.0 for 3420 nodes\n",
      "Mean exploration time: 33193.0 for 3620 nodes\n",
      "Mean exploration time: 31673.5 for 3820 nodes\n"
     ]
    }
   ],
   "source": [
    "N = [20+i*200 for i in range(20)] # vettore dei nodi dei diversi grafi\n",
    "P = 0.25\n",
    "Times = []\n",
    "\n",
    "# per ogni N creo un grafo e faccio una media dei tempi di esplorazione che plotto in funzione di N    \n",
    "for i in range(len(N)):\n",
    "    G = nx.erdos_renyi_graph(N[i], P)\n",
    "    while min([d for n, d in G.degree()]) == 0:\n",
    "          G = nx.erdos_renyi_graph(N[i], P)\n",
    "            \n",
    "    Times += [exploration_time(G, explorations_per_graph)]  \n"
   ]
  },
  {
   "cell_type": "code",
   "execution_count": 7,
   "id": "64e94eef",
   "metadata": {},
   "outputs": [
    {
     "name": "stdout",
     "output_type": "stream",
     "text": [
      "[    9.33861278 -1479.18654135]\n"
     ]
    },
    {
     "data": {
      "image/png": "[encoded data removed]",
      "text/plain": [
       "<Figure size 432x288 with 1 Axes>"
      ]
     },
     "metadata": {
      "needs_background": "light"
     },
     "output_type": "display_data"
    }
   ],
   "source": [
    "def log_law(x):\n",
    "    return x*np.log(x)\n",
    "\n",
    "linear_fit=np.polyfit(N,Times,1)\n",
    "\n",
    "print(linear_fit)\n",
    "\n",
    "fit = [linear_fit[0]*n+linear_fit[1] for n in N]\n",
    "fit_function = log_law(N)\n",
    "\n",
    "fig, ax = plt.subplots()\n",
    "    \n",
    "ax.plot(N, Times, '.', label = f\"Exploration time, P = {P}\")\n",
    "ax.plot(N, fit, '-', label = f\"fit: {round(linear_fit[1],4)} + x • {round(linear_fit[0],3)}\")\n",
    "ax.plot(N, fit_function, '-', label = f\"N * log(N)\")\n",
    "\n",
    "ax.set_xlabel(\"Number of nodes\")\n",
    "ax.set_ylabel(f\"Exploration time\")\n",
    "\n",
    "ax.legend()\n",
    "\n",
    "plt.show()"
   ]
  },
  {
   "cell_type": "markdown",
   "id": "31e00b04",
   "metadata": {},
   "source": [
    "## Exploration for scale-free graph"
   ]
  },
  {
   "cell_type": "markdown",
   "id": "3c374431",
   "metadata": {},
   "source": [
    "In funzione del numero di nodi t(N)"
   ]
  },
  {
   "cell_type": "code",
   "execution_count": 9,
   "id": "f0039134",
   "metadata": {},
   "outputs": [
    {
     "name": "stdout",
     "output_type": "stream",
     "text": [
      "Mean exploration time: 145.0 for 20 nodes\n",
      "Mean exploration time: 2709.0 for 220 nodes\n",
      "Mean exploration time: 5059.0 for 420 nodes\n",
      "Mean exploration time: 8138.5 for 620 nodes\n",
      "Mean exploration time: 14230.0 for 820 nodes\n",
      "Mean exploration time: 14000.5 for 1020 nodes\n",
      "Mean exploration time: 21041.5 for 1220 nodes\n",
      "Mean exploration time: 23303.0 for 1420 nodes\n",
      "Mean exploration time: 24207.5 for 1620 nodes\n",
      "Mean exploration time: 31101.0 for 1820 nodes\n",
      "Mean exploration time: 45435.5 for 2020 nodes\n",
      "Mean exploration time: 38343.5 for 2220 nodes\n",
      "Mean exploration time: 38187.0 for 2420 nodes\n",
      "Mean exploration time: 40617.5 for 2620 nodes\n",
      "Mean exploration time: 53698.5 for 2820 nodes\n",
      "Mean exploration time: 58613.5 for 3020 nodes\n",
      "Mean exploration time: 55110.5 for 3220 nodes\n",
      "Mean exploration time: 52829.0 for 3420 nodes\n",
      "Mean exploration time: 67797.0 for 3620 nodes\n",
      "Mean exploration time: 70080.5 for 3820 nodes\n"
     ]
    }
   ],
   "source": [
    "N = [20+i*200 for i in range(20)]\n",
    "M = 4\n",
    "Times = []\n",
    "\n",
    "G = nx.complete_graph(M)\n",
    "\n",
    "for i in range(len(N)):\n",
    "    G = barabasi_albert(N[i], M, initial_graph = G)\n",
    "    Times += [exploration_time(G, explorations_per_graph)]  "
   ]
  },
  {
   "cell_type": "code",
   "execution_count": 10,
   "id": "8a4ca76c",
   "metadata": {},
   "outputs": [
    {
     "name": "stdout",
     "output_type": "stream",
     "text": [
      "[-9.12900118e-08  7.17759865e-04  1.68026112e+01 -1.28371409e+03]\n"
     ]
    },
    {
     "data": {
      "image/png": "[encoded data removed]",
      "text/plain": [
       "<Figure size 432x288 with 1 Axes>"
      ]
     },
     "metadata": {
      "needs_background": "light"
     },
     "output_type": "display_data"
    }
   ],
   "source": [
    "def log_law(x):\n",
    "    return x*np.log(x)\n",
    "\n",
    "linear_fit=np.polyfit(N,Times,3)\n",
    "print(linear_fit)\n",
    "\n",
    "fit = [linear_fit[0]*n**3+linear_fit[1]*n**2+linear_fit[2]*n+linear_fit[3] for n in N]\n",
    "fit_function = log_law(N)\n",
    "\n",
    "fig, ax = plt.subplots()\n",
    "    \n",
    "ax.plot(N, Times, '.', label = f\"Exploration time, M = {M}\")\n",
    "ax.plot(N, fit, '-', label = f\"fit: {round(linear_fit[3],4)} + x^3 • {round(linear_fit[0],3)}\")\n",
    "ax.plot(N, fit_function, '-',\n",
    "        label = f\"N * log(N)\")\n",
    "\n",
    "ax.set_xlabel(\"Number of nodes\")\n",
    "ax.set_ylabel(f\"Exploration time\")\n",
    "\n",
    "ax.legend()\n",
    "\n",
    "plt.show()"
   ]
  }
 ],
 "metadata": {
  "kernelspec": {
   "display_name": "Python 3 (ipykernel)",
   "language": "python",
   "name": "python3"
  },
  "language_info": {
   "codemirror_mode": {
    "name": "ipython",
    "version": 3
   },
   "file_extension": ".py",
   "mimetype": "text/x-python",
   "name": "python",
   "nbconvert_exporter": "python",
   "pygments_lexer": "ipython3",
   "version": "3.10.4"
  }
 },
 "nbformat": 4,
 "nbformat_minor": 5
}
