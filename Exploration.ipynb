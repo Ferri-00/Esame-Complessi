{
 "cells": [
  {
   "cell_type": "code",
   "execution_count": 1,
   "id": "0fa79ffc",
   "metadata": {},
   "outputs": [],
   "source": [
    "import networkx as nx\n",
    "import matplotlib.pyplot as plt\n",
    "from networkx.utils import py_random_state\n",
    "from networkx.generators.random_graphs import _random_subset\n",
    "import numpy as np\n",
    "import random\n",
    "\n",
    "from scipy.optimize import curve_fit\n",
    "\n",
    "import time\n",
    "import os"
   ]
  },
  {
   "cell_type": "code",
   "execution_count": 2,
   "id": "80476f9a",
   "metadata": {},
   "outputs": [],
   "source": [
    "seed = np.random.RandomState()           \n",
    "time_steps = int(1e4) \n",
    "# t0 = time.time()\n",
    "\n",
    "explorations_per_graph=100\n",
    "\n",
    "def LinearSearch(lys, element):\n",
    "    for i in range(len(lys)):\n",
    "        if lys[i] == element:\n",
    "            return i\n",
    "    return -1\n",
    "\n",
    "#definisco una funzione del grafo per poi fare la media tra grafi differenti\n",
    "\n",
    "def time_nodes (G, explorations_per_graph):\n",
    "    initial_node = _random_subset(len(G.nodes), 1, seed).pop()\n",
    "       \n",
    "    #dinamica di esplorazione: semplicemente riempio una lista dei nuovi nodi in cui va il walker. Linear search \n",
    "    #mi guarda se il nodo è gia presente e non lo aggiunge. Exploration fa un evoluzione temporale restituendo il nuovo nodo\n",
    "    \n",
    "    def exploration(initial_node, G, explored_nodes):\n",
    "        if LinearSearch(explored_nodes, initial_node) < 0:\n",
    "               explored_nodes += [initial_node]\n",
    "        neighbours = list(G[initial_node])\n",
    "        new_node = _random_subset(neighbours, 1, seed).pop()\n",
    "        return new_node\n",
    "\n",
    "    exploration_time = []\n",
    "    explored_nodes = []\n",
    "\n",
    "    #ripeto l'esplorazione di \"time_steps\" passi temporali \"exploration_per_graph\" volte per fare una media - i tempi \n",
    "    #di esplorazione variano molto di volta in volta. Semplicemente ogni iterazione mi cambia il nodo iniziale con quello\n",
    "    #nuovo chiamando la funzione esplorazione. Quando tutti i nodi sono esplorati salvo il tempo impiegato e svuoto il vettore\n",
    "    #Infine faccio una media dei tempi.\n",
    "    \n",
    "    for i in range(explorations_per_graph):\n",
    "        t = 0\n",
    "        while True:\n",
    "            initial_node = exploration(initial_node, G, explored_nodes)\n",
    "            if len(explored_nodes) == len(G.nodes):\n",
    "                exploration_time += [t]\n",
    "             #  print(\"All nodes explored in \", t , \"steps\")\n",
    "                explored_nodes.clear()\n",
    "                break\n",
    "            \n",
    "            if t > time_steps:\n",
    "                print(f\"Exceeded {time_steps} iteration for network exploration\")\n",
    "                break\n",
    "            t += 1\n",
    "\n",
    "    mean_exploration_time = sum(exploration_time)/explorations_per_graph\n",
    "    print(\"mean_exploration_time: \", mean_exploration_time, \"for\", len(G.nodes) ,\"nodes\")\n",
    "\n",
    "    return mean_exploration_time\n",
    "    \n",
    "#print(exploration_time)\n",
    "#print(explored_nodes) \n",
    "#print(len(explored_nodes),\"Explored nodes\")\n",
    "     \n",
    "\n",
    "# print(f\"done in {int((time.time()-t0)/60)} minutes and {((time.time()-t0)%60)} seconds\")"
   ]
  },
  {
   "cell_type": "markdown",
   "id": "7d154bf3",
   "metadata": {},
   "source": [
    "Exploration for random graph"
   ]
  },
  {
   "cell_type": "code",
   "execution_count": 3,
   "id": "ac9353ca",
   "metadata": {},
   "outputs": [
    {
     "name": "stdout",
     "output_type": "stream",
     "text": [
      "mean_exploration_time:  210.24 for 20 nodes\n",
      "mean_exploration_time:  397.64 for 70 nodes\n",
      "mean_exploration_time:  724.01 for 120 nodes\n",
      "mean_exploration_time:  1014.52 for 170 nodes\n",
      "mean_exploration_time:  1443.32 for 220 nodes\n",
      "mean_exploration_time:  1687.41 for 270 nodes\n",
      "mean_exploration_time:  2051.46 for 320 nodes\n",
      "mean_exploration_time:  2408.61 for 370 nodes\n",
      "mean_exploration_time:  3000.67 for 420 nodes\n",
      "mean_exploration_time:  3379.66 for 470 nodes\n",
      "mean_exploration_time:  3689.81 for 520 nodes\n",
      "mean_exploration_time:  3990.09 for 570 nodes\n",
      "mean_exploration_time:  4354.37 for 620 nodes\n",
      "mean_exploration_time:  4914.38 for 670 nodes\n",
      "mean_exploration_time:  5229.98 for 720 nodes\n",
      "mean_exploration_time:  5444.95 for 770 nodes\n",
      "mean_exploration_time:  5864.53 for 820 nodes\n",
      "Exceeded 10'000 iteration for network exploration\n",
      "Exceeded 10'000 iteration for network exploration\n",
      "mean_exploration_time:  6103.93 for 870 nodes\n",
      "Exceeded 10'000 iteration for network exploration\n",
      "Exceeded 10'000 iteration for network exploration\n",
      "mean_exploration_time:  6583.56 for 920 nodes\n",
      "Exceeded 10'000 iteration for network exploration\n",
      "Exceeded 10'000 iteration for network exploration\n",
      "Exceeded 10'000 iteration for network exploration\n",
      "Exceeded 10'000 iteration for network exploration\n",
      "Exceeded 10'000 iteration for network exploration\n",
      "mean_exploration_time:  6509.69 for 970 nodes\n"
     ]
    },
    {
     "data": {
      "image/png": "[encoded data removed]",
      "text/plain": [
       "<Figure size 432x288 with 1 Axes>"
      ]
     },
     "metadata": {
      "needs_background": "light"
     },
     "output_type": "display_data"
    }
   ],
   "source": [
    "N = [20+i*50 for i in range(20)] #vettore dei nodi dei diversi grafi\n",
    "P = 0.25\n",
    "Times = []\n",
    "\n",
    "#per ogni N creo un grafo e faccio una media dei tempi di esplorazione che plotto in funzione di N    \n",
    "for i in range(len(N)):\n",
    "    G = nx.erdos_renyi_graph(N[i], P)\n",
    "    while min([d for n, d in G.degree()]) == 0:\n",
    "          G = nx.erdos_renyi_graph(N[i], P)\n",
    "    Times += [time_nodes(G, explorations_per_graph)]  \n",
    "\n",
    "fig, ax = plt.subplots()\n",
    "    \n",
    "ax.plot(N, Times, '.', label = 'exploration_time')\n",
    "ax.set_xlabel(\"Number of nodes\")\n",
    "ax.set_ylabel(\"Exploration time\")\n",
    "\n",
    "plt.show()"
   ]
  },
  {
   "cell_type": "markdown",
   "id": "31e00b04",
   "metadata": {},
   "source": [
    "Exploration for scale-free graph"
   ]
  },
  {
   "cell_type": "code",
   "execution_count": 4,
   "id": "f0039134",
   "metadata": {},
   "outputs": [
    {
     "name": "stdout",
     "output_type": "stream",
     "text": [
      "mean_exploration_time:  109.77 for 20 nodes\n",
      "mean_exploration_time:  205.26 for 30 nodes\n",
      "mean_exploration_time:  302.33 for 40 nodes\n",
      "mean_exploration_time:  390.77 for 50 nodes\n",
      "mean_exploration_time:  539.06 for 60 nodes\n",
      "mean_exploration_time:  614.14 for 70 nodes\n",
      "mean_exploration_time:  787.56 for 80 nodes\n",
      "mean_exploration_time:  862.14 for 90 nodes\n",
      "mean_exploration_time:  989.75 for 100 nodes\n",
      "mean_exploration_time:  1081.36 for 110 nodes\n",
      "mean_exploration_time:  1264.32 for 120 nodes\n",
      "mean_exploration_time:  1390.93 for 130 nodes\n",
      "mean_exploration_time:  1536.53 for 140 nodes\n",
      "mean_exploration_time:  1690.33 for 150 nodes\n",
      "mean_exploration_time:  1823.04 for 160 nodes\n",
      "mean_exploration_time:  1958.43 for 170 nodes\n",
      "mean_exploration_time:  2432.73 for 180 nodes\n",
      "mean_exploration_time:  2200.94 for 190 nodes\n",
      "mean_exploration_time:  2274.85 for 200 nodes\n",
      "mean_exploration_time:  2446.52 for 210 nodes\n"
     ]
    },
    {
     "data": {
      "image/png": "[encoded data removed]",
      "text/plain": [
       "<Figure size 432x288 with 1 Axes>"
      ]
     },
     "metadata": {
      "needs_background": "light"
     },
     "output_type": "display_data"
    }
   ],
   "source": [
    "N = [20+i*10 for i in range(20)]\n",
    "M = 3\n",
    "Times = []\n",
    "\n",
    "for i in range(len(N)):\n",
    "    G = nx.barabasi_albert_graph(N[i], M)\n",
    "    Times += [time_nodes(G,explorations_per_graph)]  \n",
    "\n",
    "fig, ax = plt.subplots()\n",
    "    \n",
    "ax.plot(N, Times, '.', label = 'exploration_time')\n",
    "ax.set_xlabel(\"Number of nodes\")\n",
    "ax.set_ylabel(\"Exploration time\")\n",
    "\n",
    "plt.show()"
   ]
  }
 ],
 "metadata": {
  "kernelspec": {
   "display_name": "Python 3 (ipykernel)",
   "language": "python",
   "name": "python3"
  },
  "language_info": {
   "codemirror_mode": {
    "name": "ipython",
    "version": 3
   },
   "file_extension": ".py",
   "mimetype": "text/x-python",
   "name": "python",
   "nbconvert_exporter": "python",
   "pygments_lexer": "ipython3",
   "version": "3.10.2"
  }
 },
 "nbformat": 4,
 "nbformat_minor": 5
}
