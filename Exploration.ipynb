{
 "cells": [
  {
   "cell_type": "code",
   "execution_count": null,
   "id": "baa14c45",
   "metadata": {},
   "outputs": [],
   "source": [
    "import networkx as nx\n",
    "import matplotlib.pyplot as plt\n",
    "from networkx.utils import py_random_state\n",
    "from networkx.generators.random_graphs import _random_subset\n",
    "import numpy as np\n",
    "import random\n",
    "\n",
    "from scipy.optimize import curve_fit\n",
    "\n",
    "import time\n",
    "import os"
   ]
  },
  {
   "cell_type": "code",
   "execution_count": null,
   "id": "2ed259cf",
   "metadata": {},
   "outputs": [],
   "source": []
  },
  {
   "cell_type": "code",
   "execution_count": null,
   "id": "7273676b",
   "metadata": {},
   "outputs": [],
   "source": [
    "seed = np.random.RandomState()           \n",
    "time_steps = int(1e4) \n",
    "t0 = time.time()\n",
    "\n",
    "explorations_per_graph=100\n",
    "\n",
    "def LinearSearch(lys, element):\n",
    "    for i in range (len(lys)):\n",
    "        if lys[i] == element:\n",
    "            return i\n",
    "    return -1\n",
    "\n",
    "#definisco una funzione del grafo per poi fare la media tra grafi differenti\n",
    "\n",
    "def time_nodes (G,explorations_per_graph):\n",
    "\n",
    "        initial_node = _random_subset(len(G.nodes), 1, seed).pop()\n",
    "\n",
    "        def exploration(initial_node, G, history):\n",
    "            if LinearSearch(history, initial_node) < 0:\n",
    "                   history += [initial_node]\n",
    "            neighbours = list(G[initial_node])\n",
    "            new_node = _random_subset(neighbours, 1, seed).pop()\n",
    "            return new_node\n",
    "\n",
    "        exploration_time = []\n",
    "\n",
    "        history = []\n",
    "\n",
    "        for i in range(explorations_per_graph):\n",
    "             for t in range(time_steps):\n",
    "                initial_node = exploration(initial_node, G, history)\n",
    "                if len(history) == len(G.nodes):\n",
    "                    exploration_time += [t]\n",
    "                 #  print(\"All nodes explored in \", t , \"steps\")\n",
    "                    history.clear()\n",
    "                    break \n",
    "\n",
    "        mean_exploration_time = sum(exploration_time)/explorations\n",
    "        print(\"mean_exploration_time: \", mean_exploration_time, len(G.nodes) ,\"nodes\")\n",
    "        return mean_exploration_time\n",
    "    \n",
    "#print(exploration_time)\n",
    "#print(history) \n",
    "#print(len(history),\"Explored nodes\")\n",
    "     \n",
    "\n",
    "print(f\"done in {int((time.time()-t0)/60)} minutes and {((time.time()-t0)%60)} seconds\")\n"
   ]
  },
  {
   "cell_type": "code",
   "execution_count": 17,
   "id": "3b73af16",
   "metadata": {},
   "outputs": [
    {
     "name": "stdout",
     "output_type": "stream",
     "text": [
      "mean_exploration_time:  98.94\n",
      "mean_exploration_time:  208.24\n",
      "mean_exploration_time:  331.17\n",
      "mean_exploration_time:  460.52\n",
      "mean_exploration_time:  573.81\n",
      "mean_exploration_time:  700.94\n",
      "mean_exploration_time:  870.8\n",
      "mean_exploration_time:  994.63\n",
      "mean_exploration_time:  1089.0\n",
      "mean_exploration_time:  1290.35\n",
      "mean_exploration_time:  1372.98\n",
      "mean_exploration_time:  1529.43\n",
      "mean_exploration_time:  1672.63\n",
      "mean_exploration_time:  1810.05\n",
      "mean_exploration_time:  1943.75\n",
      "mean_exploration_time:  2075.97\n",
      "mean_exploration_time:  2301.56\n",
      "mean_exploration_time:  2349.78\n",
      "mean_exploration_time:  2585.64\n",
      "mean_exploration_time:  2771.7\n",
      "mean_exploration_time:  2890.29\n",
      "mean_exploration_time:  2906.53\n",
      "mean_exploration_time:  3195.71\n",
      "mean_exploration_time:  3490.64\n",
      "mean_exploration_time:  3364.74\n",
      "mean_exploration_time:  3624.12\n",
      "mean_exploration_time:  3972.83\n",
      "mean_exploration_time:  3959.76\n",
      "mean_exploration_time:  4165.01\n",
      "mean_exploration_time:  4262.23\n"
     ]
    },
    {
     "data": {
      "text/plain": [
       "[<matplotlib.lines.Line2D at 0x7fc682e8feb0>]"
      ]
     },
     "execution_count": 17,
     "metadata": {},
     "output_type": "execute_result"
    },
    {
     "data": {
      "image/png": "[encoded data removed]",
      "text/plain": [
       "<Figure size 432x288 with 1 Axes>"
      ]
     },
     "metadata": {
      "needs_background": "light"
     },
     "output_type": "display_data"
    }
   ],
   "source": [
    "#random_graph\n",
    "\n",
    "N = []\n",
    "P = 0.25\n",
    "Times = []\n",
    "\n",
    "for i in range(20):\n",
    "    N+= [20+i*50]    \n",
    "\n",
    "for i in range(len(N)):\n",
    "    G = nx.erdos_renyi_graph(N[i], P)\n",
    "    while min([d for n, d in G.degree()]) == 0:\n",
    "          G = nx.erdos_renyi_graph(N[i], P)\n",
    "    Times += [time_nodes(G,explorations_per_graph)]  \n",
    "\n",
    "plt.plot(N, Times, '.', label = 'exploration_time')\n",
    "    \n"
   ]
  },
  {
   "cell_type": "code",
   "execution_count": null,
   "id": "c35bae12",
   "metadata": {},
   "outputs": [],
   "source": [
    "#scale-free-graph\n",
    "\n",
    "N = []\n",
    "M = 3\n",
    "P = 0.25\n",
    "Times = []\n",
    "\n",
    "for i in range(20):\n",
    "    N+= [20+i*10]    \n",
    "\n",
    "for i in range(len(N)):\n",
    "    G = nx.barabasi_albert_graph(N[i], M)\n",
    "    Times += [time_nodes(G,explorations_per_graph)]  \n",
    "\n",
    "plt.plot(N, Times, '.', label = 'exploration_time')\n",
    "    "
   ]
  },
  {
   "cell_type": "code",
   "execution_count": null,
   "id": "183b1c3b",
   "metadata": {},
   "outputs": [],
   "source": []
  }
 ],
 "metadata": {
  "kernelspec": {
   "display_name": "Python 3",
   "language": "python",
   "name": "python3"
  },
  "language_info": {
   "codemirror_mode": {
    "name": "ipython",
    "version": 3
   },
   "file_extension": ".py",
   "mimetype": "text/x-python",
   "name": "python",
   "nbconvert_exporter": "python",
   "pygments_lexer": "ipython3",
   "version": "3.8.8"
  }
 },
 "nbformat": 4,
 "nbformat_minor": 5
}
