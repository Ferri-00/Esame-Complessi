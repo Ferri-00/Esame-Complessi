{
 "cells": [
  {
   "cell_type": "code",
   "execution_count": 31,
   "id": "0fa79ffc",
   "metadata": {},
   "outputs": [],
   "source": [
    "import networkx as nx\n",
    "import matplotlib.pyplot as plt\n",
    "from networkx.utils import py_random_state\n",
    "from networkx.generators.random_graphs import _random_subset\n",
    "import numpy as np\n",
    "import random\n",
    "\n",
    "from scipy.optimize import curve_fit\n",
    "\n",
    "import time\n",
    "import os"
   ]
  },
  {
   "cell_type": "code",
   "execution_count": null,
   "id": "c5106d71",
   "metadata": {},
   "outputs": [],
   "source": []
  },
  {
   "cell_type": "code",
   "execution_count": 35,
   "id": "80476f9a",
   "metadata": {},
   "outputs": [
    {
     "name": "stdout",
     "output_type": "stream",
     "text": [
      "done in 0 minutes and 0.0003001689910888672 seconds\n"
     ]
    }
   ],
   "source": [
    "seed = np.random.RandomState()           \n",
    "time_steps = int(1e4) \n",
    "t0 = time.time()\n",
    "\n",
    "explorations_per_graph=100\n",
    "\n",
    "def LinearSearch(lys, element):\n",
    "    for i in range (len(lys)):\n",
    "        if lys[i] == element:\n",
    "            return i\n",
    "    return -1\n",
    "\n",
    "#definisco una funzione del grafo per poi fare la media tra grafi differenti\n",
    "\n",
    "def time_nodes (G,explorations_per_graph):\n",
    "\n",
    "        initial_node = _random_subset(len(G.nodes), 1, seed).pop()\n",
    "       \n",
    "    #dinamica di esplorazione: semplicemente riempio una lista dei nuovi nodi in cui va il walker. Linear search \n",
    "    #mi guarda se il nodo è gia presente e non lo aggiunge. Exploration fa un evoluzione temporale restituendo il nuovo nodo\n",
    "    \n",
    "        def exploration(initial_node, G, explored_nodes):\n",
    "            if LinearSearch(explored_nodes, initial_node) < 0:\n",
    "                   explored_nodes += [initial_node]\n",
    "            neighbours = list(G[initial_node])\n",
    "            new_node = _random_subset(neighbours, 1, seed).pop()\n",
    "            return new_node\n",
    "\n",
    "        exploration_time = []\n",
    "\n",
    "        explored_nodes = []\n",
    "\n",
    "    #ripeto l'esplorazione di \"time_steps\" passi temporali \"exploration_per_graph\" volte per fare una media - i tempi \n",
    "    #di esplorazione variano molto di volta in volta. Semplicemente ogni iterazione mi cambia il nodo iniziale con quello\n",
    "    #nuovo chiamando la funzione esplorazione. Quando tutti i nodi sono esplorati salvo il tempo impiegato e svuoto il vettore\n",
    "    #Infine faccio una media dei tempi.\n",
    "    \n",
    "        for i in range(explorations_per_graph):\n",
    "             for t in range(time_steps):\n",
    "                initial_node = exploration(initial_node, G, explored_nodes)\n",
    "                if len(explored_nodes) == len(G.nodes):\n",
    "                    exploration_time += [t]\n",
    "                 #  print(\"All nodes explored in \", t , \"steps\")\n",
    "                    explored_nodes.clear()\n",
    "                    break \n",
    "\n",
    "        mean_exploration_time = sum(exploration_time)/explorations_per_graph\n",
    "        print(\"mean_exploration_time: \", mean_exploration_time, len(G.nodes) ,\"nodes\")\n",
    "        \n",
    "        return mean_exploration_time\n",
    "    \n",
    "#print(exploration_time)\n",
    "#print(explored_nodes) \n",
    "#print(len(explored_nodes),\"Explored nodes\")\n",
    "     \n",
    "\n",
    "print(f\"done in {int((time.time()-t0)/60)} minutes and {((time.time()-t0)%60)} seconds\")\n"
   ]
  },
  {
   "cell_type": "code",
   "execution_count": 36,
   "id": "ac9353ca",
   "metadata": {},
   "outputs": [
    {
     "name": "stdout",
     "output_type": "stream",
     "text": [
      "mean_exploration_time:  112.8 20 nodes\n",
      "mean_exploration_time:  373.3 70 nodes\n",
      "mean_exploration_time:  709.85 120 nodes\n",
      "mean_exploration_time:  986.13 170 nodes\n",
      "mean_exploration_time:  1342.52 220 nodes\n",
      "mean_exploration_time:  1774.72 270 nodes\n",
      "mean_exploration_time:  2047.63 320 nodes\n",
      "mean_exploration_time:  2491.56 370 nodes\n",
      "mean_exploration_time:  2883.96 420 nodes\n",
      "mean_exploration_time:  3285.02 470 nodes\n",
      "mean_exploration_time:  3656.23 520 nodes\n",
      "mean_exploration_time:  3861.41 570 nodes\n",
      "mean_exploration_time:  4292.33 620 nodes\n",
      "mean_exploration_time:  4783.0 670 nodes\n",
      "mean_exploration_time:  5144.77 720 nodes\n",
      "mean_exploration_time:  5630.8 770 nodes\n",
      "mean_exploration_time:  6045.66 820 nodes\n",
      "mean_exploration_time:  6459.26 870 nodes\n",
      "mean_exploration_time:  6697.21 920 nodes\n",
      "mean_exploration_time:  6682.55 970 nodes\n"
     ]
    },
    {
     "data": {
      "text/plain": [
       "[<matplotlib.lines.Line2D at 0x7fc685bf70d0>]"
      ]
     },
     "execution_count": 36,
     "metadata": {},
     "output_type": "execute_result"
    },
    {
     "data": {
      "image/png": "[encoded data removed]",
      "text/plain": [
       "<Figure size 432x288 with 1 Axes>"
      ]
     },
     "metadata": {
      "needs_background": "light"
     },
     "output_type": "display_data"
    }
   ],
   "source": [
    "#random_graph\n",
    "\n",
    "N = []\n",
    "P = 0.25\n",
    "Times = []\n",
    "\n",
    "#vettore dei nodi dei diversi grafi\n",
    "for i in range(20):\n",
    "    N+= [20+i*50]    \n",
    "\n",
    "#per ogni N creo un grafo e faccio una media dei tempi di esplorazione che plotto in funzione di N    \n",
    "for i in range(len(N)):\n",
    "    G = nx.erdos_renyi_graph(N[i], P)\n",
    "    while min([d for n, d in G.degree()]) == 0:\n",
    "          G = nx.erdos_renyi_graph(N[i], P)\n",
    "    Times += [time_nodes(G,explorations_per_graph)]  \n",
    "\n",
    "plt.plot(N, Times, '.', label = 'exploration_time')\n",
    "    \n"
   ]
  },
  {
   "cell_type": "code",
   "execution_count": 37,
   "id": "f0039134",
   "metadata": {},
   "outputs": [
    {
     "name": "stdout",
     "output_type": "stream",
     "text": [
      "mean_exploration_time:  112.06 20 nodes\n",
      "mean_exploration_time:  262.27 30 nodes\n",
      "mean_exploration_time:  349.05 40 nodes\n",
      "mean_exploration_time:  390.87 50 nodes\n",
      "mean_exploration_time:  521.19 60 nodes\n",
      "mean_exploration_time:  630.88 70 nodes\n",
      "mean_exploration_time:  735.92 80 nodes\n",
      "mean_exploration_time:  904.17 90 nodes\n",
      "mean_exploration_time:  1038.87 100 nodes\n",
      "mean_exploration_time:  1118.37 110 nodes\n",
      "mean_exploration_time:  1291.84 120 nodes\n",
      "mean_exploration_time:  1336.01 130 nodes\n",
      "mean_exploration_time:  1426.39 140 nodes\n",
      "mean_exploration_time:  1686.52 150 nodes\n",
      "mean_exploration_time:  1771.59 160 nodes\n",
      "mean_exploration_time:  1843.69 170 nodes\n",
      "mean_exploration_time:  2074.05 180 nodes\n",
      "mean_exploration_time:  2221.34 190 nodes\n",
      "mean_exploration_time:  2356.68 200 nodes\n",
      "mean_exploration_time:  2474.68 210 nodes\n"
     ]
    },
    {
     "data": {
      "text/plain": [
       "[<matplotlib.lines.Line2D at 0x7fc686d17d60>]"
      ]
     },
     "execution_count": 37,
     "metadata": {},
     "output_type": "execute_result"
    },
    {
     "data": {
      "image/png": "[encoded data removed]",
      "text/plain": [
       "<Figure size 432x288 with 1 Axes>"
      ]
     },
     "metadata": {
      "needs_background": "light"
     },
     "output_type": "display_data"
    }
   ],
   "source": [
    "#scale-free-graph\n",
    "\n",
    "N = []\n",
    "M = 3\n",
    "P = 0.25\n",
    "Times = []\n",
    "\n",
    "for i in range(20):\n",
    "    N+= [20+i*10]    \n",
    "\n",
    "for i in range(len(N)):\n",
    "    G = nx.barabasi_albert_graph(N[i], M)\n",
    "    Times += [time_nodes(G,explorations_per_graph)]  \n",
    "\n",
    "plt.plot(N, Times, '.', label = 'exploration_time')\n",
    "    "
   ]
  },
  {
   "cell_type": "code",
   "execution_count": null,
   "id": "94c5fcc6",
   "metadata": {},
   "outputs": [],
   "source": []
  }
 ],
 "metadata": {
  "kernelspec": {
   "display_name": "Python 3",
   "language": "python",
   "name": "python3"
  },
  "language_info": {
   "codemirror_mode": {
    "name": "ipython",
    "version": 3
   },
   "file_extension": ".py",
   "mimetype": "text/x-python",
   "name": "python",
   "nbconvert_exporter": "python",
   "pygments_lexer": "ipython3",
   "version": "3.8.8"
  }
 },
 "nbformat": 4,
 "nbformat_minor": 5
}
