{
 "cells": [
  {
   "cell_type": "code",
   "execution_count": 1,
   "id": "0fa79ffc",
   "metadata": {},
   "outputs": [],
   "source": [
    "import networkx as nx\n",
    "import matplotlib.pyplot as plt\n",
    "from networkx.utils import py_random_state\n",
    "from networkx.generators.random_graphs import _random_subset\n",
    "import numpy as np\n",
    "import random\n",
    "\n",
    "from scipy.optimize import curve_fit\n",
    "\n",
    "import time\n",
    "import os"
   ]
  },
  {
   "cell_type": "code",
   "execution_count": 2,
   "id": "80476f9a",
   "metadata": {},
   "outputs": [],
   "source": [
    "seed = np.random.RandomState()           \n",
    "time_steps = int(1e5) \n",
    "# t0 = time.time()\n",
    "\n",
    "explorations_per_graph=100\n",
    "\n",
    "def LinearSearch(lys, element):\n",
    "    for i in range(len(lys)):\n",
    "        if lys[i] == element:\n",
    "            return i\n",
    "    return -1\n",
    "\n",
    "#definisco una funzione del grafo per poi fare la media tra grafi differenti\n",
    "\n",
    "def time_nodes (G, explorations_per_graph):\n",
    "    initial_node = _random_subset(len(G.nodes), 1, seed).pop()\n",
    "       \n",
    "    #dinamica di esplorazione: semplicemente riempio una lista dei nuovi nodi in cui va il walker. Linear search \n",
    "    #mi guarda se il nodo è gia presente e non lo aggiunge. Exploration fa un evoluzione temporale restituendo il nuovo nodo\n",
    "    \n",
    "    def exploration(initial_node, G, explored_nodes):\n",
    "        if LinearSearch(explored_nodes, initial_node) < 0:\n",
    "               explored_nodes += [initial_node]\n",
    "        neighbours = list(G[initial_node])\n",
    "        new_node = _random_subset(neighbours, 1, seed).pop()\n",
    "        return new_node\n",
    "\n",
    "    exploration_time = []\n",
    "    explored_nodes = []\n",
    "\n",
    "    #ripeto l'esplorazione di \"time_steps\" passi temporali \"exploration_per_graph\" volte per fare una media - i tempi \n",
    "    #di esplorazione variano molto di volta in volta. Semplicemente ogni iterazione mi cambia il nodo iniziale con quello\n",
    "    #nuovo chiamando la funzione esplorazione. Quando tutti i nodi sono esplorati salvo il tempo impiegato e svuoto il vettore\n",
    "    #Infine faccio una media dei tempi.\n",
    "    \n",
    "    for i in range(explorations_per_graph):\n",
    "        t = 0\n",
    "        while True:\n",
    "            initial_node = exploration(initial_node, G, explored_nodes)\n",
    "            if len(explored_nodes) == len(G.nodes):\n",
    "                exploration_time += [t]\n",
    "             #  print(\"All nodes explored in \", t , \"steps\")\n",
    "                explored_nodes.clear()\n",
    "                break\n",
    "            \n",
    "            if t > time_steps:\n",
    "                print(f\"Exceeded {time_steps} iteration for network exploration\")\n",
    "                break\n",
    "            t += 1\n",
    "\n",
    "    mean_exploration_time = sum(exploration_time)/explorations_per_graph\n",
    "    print(\"mean_exploration_time: \", mean_exploration_time, \"for\", len(G.nodes) ,\"nodes\")\n",
    "\n",
    "    return mean_exploration_time\n",
    "    \n",
    "#print(exploration_time)\n",
    "#print(explored_nodes) \n",
    "#print(len(explored_nodes),\"Explored nodes\")\n",
    "     \n",
    "\n",
    "# print(f\"done in {int((time.time()-t0)/60)} minutes and {((time.time()-t0)%60)} seconds\")"
   ]
  },
  {
   "cell_type": "markdown",
   "id": "7d154bf3",
   "metadata": {},
   "source": [
    "Exploration for random graph"
   ]
  },
  {
   "cell_type": "code",
   "execution_count": 69,
   "id": "ac9353ca",
   "metadata": {
    "scrolled": false
   },
   "outputs": [
    {
     "name": "stdout",
     "output_type": "stream",
     "text": [
      "mean_exploration_time:  190.25 20 nodes\n",
      "mean_exploration_time:  216.99 40 nodes\n",
      "mean_exploration_time:  329.7 60 nodes\n",
      "mean_exploration_time:  441.45 80 nodes\n",
      "mean_exploration_time:  557.42 100 nodes\n",
      "mean_exploration_time:  691.04 120 nodes\n",
      "mean_exploration_time:  796.71 140 nodes\n",
      "mean_exploration_time:  1025.22 160 nodes\n",
      "mean_exploration_time:  1146.41 180 nodes\n",
      "mean_exploration_time:  1229.7 200 nodes\n",
      "mean_exploration_time:  1352.18 220 nodes\n",
      "mean_exploration_time:  1559.53 240 nodes\n",
      "mean_exploration_time:  1720.18 260 nodes\n",
      "mean_exploration_time:  1799.19 280 nodes\n",
      "mean_exploration_time:  2005.61 300 nodes\n",
      "mean_exploration_time:  2084.13 320 nodes\n",
      "mean_exploration_time:  2217.58 340 nodes\n",
      "mean_exploration_time:  2362.77 360 nodes\n",
      "mean_exploration_time:  2505.16 380 nodes\n",
      "mean_exploration_time:  2695.85 400 nodes\n"
     ]
    },
    {
     "data": {
      "image/png": "[encoded data removed]",
      "text/plain": [
       "<Figure size 432x288 with 1 Axes>"
      ]
     },
     "metadata": {
      "needs_background": "light"
     },
     "output_type": "display_data"
    }
   ],
   "source": [
    "N = [20+i*20 for i in range(20)] #vettore dei nodi dei diversi grafi\n",
    "P = 0.25\n",
    "Times = []\n",
    "\n",
    "#per ogni N creo un grafo e faccio una media dei tempi di esplorazione che plotto in funzione di N    \n",
    "for i in range(len(N)):\n",
    "    G = nx.erdos_renyi_graph(N[i], P)\n",
    "    while min([d for n, d in G.degree()]) == 0:\n",
    "          G = nx.erdos_renyi_graph(N[i], P)\n",
    "    Times += [time_nodes(G, explorations_per_graph)]  \n",
    "\n",
    "fig, ax = plt.subplots()\n",
    "    \n",
    "ax.plot(N, Times, '.', label = 'exploration_time')\n",
    "ax.set_xlabel(\"Number of nodes\")\n",
    "ax.set_ylabel(\"Exploration time\")\n",
    "\n",
    "plt.show()\n"
   ]
  },
  {
   "cell_type": "markdown",
   "id": "31e00b04",
   "metadata": {},
   "source": [
    "Exploration for scale-free graph"
   ]
  },
  {
   "cell_type": "code",
   "execution_count": 74,
   "id": "64e94eef",
   "metadata": {},
   "outputs": [
    {
     "name": "stdout",
     "output_type": "stream",
     "text": [
      "[  6.78834474 -79.19889474]\n"
     ]
    },
    {
     "data": {
      "image/png": "[encoded data removed]",
      "text/plain": [
       "<Figure size 432x288 with 1 Axes>"
      ]
     },
     "metadata": {
      "needs_background": "light"
     },
     "output_type": "display_data"
    }
   ],
   "source": [
    "linear_fit=np.polyfit(N,Times,1)\n",
    "\n",
    "print(linear_fit)\n",
    "\n",
    "fit = [linear_fit[0]*n+linear_fit[1] for n in N]\n",
    "fig, ax = plt.subplots()\n",
    "    \n",
    "ax.plot(N, Times, '.', label = 'exploration_time')\n",
    "ax.set_xlabel(\"Number of nodes\")\n",
    "ax.set_ylabel(\"Exploration time\")\n",
    "\n",
    "ax.plot(N, fit, '--', label = 'fit')\n",
    "plt.show()\n"
   ]
  },
  {
   "cell_type": "code",
   "execution_count": 75,
   "id": "f0039134",
   "metadata": {},
   "outputs": [
    {
     "name": "stdout",
     "output_type": "stream",
     "text": [
      "mean_exploration_time:  38.85 10 nodes\n",
      "mean_exploration_time:  120.05 20 nodes\n",
      "mean_exploration_time:  199.07 30 nodes\n",
      "mean_exploration_time:  309.54 40 nodes\n",
      "mean_exploration_time:  410.09 50 nodes\n",
      "mean_exploration_time:  486.56 60 nodes\n",
      "mean_exploration_time:  665.48 70 nodes\n",
      "mean_exploration_time:  766.92 80 nodes\n",
      "mean_exploration_time:  880.12 90 nodes\n",
      "mean_exploration_time:  974.17 100 nodes\n",
      "mean_exploration_time:  1107.42 110 nodes\n",
      "mean_exploration_time:  1302.78 120 nodes\n",
      "mean_exploration_time:  1392.57 130 nodes\n",
      "mean_exploration_time:  1562.05 140 nodes\n",
      "mean_exploration_time:  1624.83 150 nodes\n",
      "mean_exploration_time:  1738.31 160 nodes\n",
      "mean_exploration_time:  1894.5 170 nodes\n",
      "mean_exploration_time:  2140.19 180 nodes\n",
      "mean_exploration_time:  2225.4 190 nodes\n",
      "mean_exploration_time:  2380.61 200 nodes\n"
     ]
    },
    {
     "data": {
      "image/png": "[encoded data removed]",
      "text/plain": [
       "<Figure size 432x288 with 1 Axes>"
      ]
     },
     "metadata": {
      "needs_background": "light"
     },
     "output_type": "display_data"
    }
   ],
   "source": [
    "N = [10+i*10 for i in range(20)]\n",
    "M = 3\n",
    "Times = []\n",
    "\n",
    "for i in range(len(N)):\n",
    "    G = nx.barabasi_albert_graph(N[i], M)\n",
    "    Times += [time_nodes(G,explorations_per_graph)]  \n",
    "\n",
    "fig, ax = plt.subplots()\n",
    "    \n",
    "ax.plot(N, Times, '.', label = 'exploration_time')\n",
    "ax.set_xlabel(\"Number of nodes\")\n",
    "ax.set_ylabel(\"Exploration time\")\n",
    "\n",
    "plt.show()"
   ]
  },
  {
   "cell_type": "code",
   "execution_count": 76,
   "id": "8a4ca76c",
   "metadata": {},
   "outputs": [
    {
     "name": "stdout",
     "output_type": "stream",
     "text": [
      "[  12.45608947 -196.91389474]\n"
     ]
    },
    {
     "data": {
      "image/png": "[encoded data removed]",
      "text/plain": [
       "<Figure size 432x288 with 1 Axes>"
      ]
     },
     "metadata": {
      "needs_background": "light"
     },
     "output_type": "display_data"
    }
   ],
   "source": [
    "linear_fit=np.polyfit(N,Times,1)\n",
    "\n",
    "print(linear_fit)\n",
    "\n",
    "fit = [linear_fit[0]*n+linear_fit[1] for n in N]\n",
    "fig, ax = plt.subplots()\n",
    "    \n",
    "ax.plot(N, Times, '.', label = 'exploration_time')\n",
    "ax.set_xlabel(\"Number of nodes\")\n",
    "ax.set_ylabel(\"Exploration time\")\n",
    "\n",
    "ax.plot(N, fit, '--', label = 'fit')\n",
    "plt.show()\n"
   ]
  },
  {
   "cell_type": "code",
   "execution_count": null,
   "id": "d95b1f8e",
   "metadata": {},
   "outputs": [],
   "source": []
  }
 ],
 "metadata": {
  "kernelspec": {
   "display_name": "Python 3",
   "language": "python",
   "name": "python3"
  },
  "language_info": {
   "codemirror_mode": {
    "name": "ipython",
    "version": 3
   },
   "file_extension": ".py",
   "mimetype": "text/x-python",
   "name": "python",
   "nbconvert_exporter": "python",
   "pygments_lexer": "ipython3",
   "version": "3.8.8"
  }
 },
 "nbformat": 4,
 "nbformat_minor": 5
}
