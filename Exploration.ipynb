{
 "cells": [
  {
   "cell_type": "code",
   "execution_count": 1,
   "id": "0fa79ffc",
   "metadata": {},
   "outputs": [],
   "source": [
    "import networkx as nx\n",
    "import matplotlib.pyplot as plt\n",
    "from networkx.utils import py_random_state\n",
    "from networkx.generators.random_graphs import _random_subset\n",
    "from networkx.generators.classic import star_graph\n",
    "import numpy as np\n",
    "import random\n",
    "\n",
    "import scipy.stats as stats\n",
    "from scipy.optimize import curve_fit\n",
    "\n",
    "\n",
    "import time\n",
    "import os"
   ]
  },
  {
   "cell_type": "code",
   "execution_count": 2,
   "id": "e87f6a32",
   "metadata": {},
   "outputs": [],
   "source": [
    "@py_random_state(2)\n",
    "def barabasi_albert(n, m, seed=None, initial_graph=None):\n",
    "    \"\"\"Returns a random graph using Barabási–Albert preferential attachment\n",
    "\n",
    "    A graph of $n$ nodes is grown by attaching new nodes each with $m$\n",
    "    edges that are preferentially attached to existing nodes with high degree.\n",
    "\n",
    "    Parameters\n",
    "    ----------\n",
    "    n : int\n",
    "        Number of nodes\n",
    "    m : int\n",
    "        Number of edges to attach from a new node to existing nodes\n",
    "    seed : integer, random_state, or None (default)\n",
    "        Indicator of random number generation state.\n",
    "        See :ref:`Randomness<randomness>`.\n",
    "    initial_graph : Graph or None (default)\n",
    "        Initial network for Barabási–Albert algorithm.\n",
    "        It should be a connected graph for most use cases.\n",
    "        A copy of `initial_graph` is used.\n",
    "        If None, starts from a star graph on (m+1) nodes.\n",
    "\n",
    "    Returns\n",
    "    -------\n",
    "    G : Graph\n",
    "\n",
    "    Raises\n",
    "    ------\n",
    "    NetworkXError\n",
    "        If `m` does not satisfy ``1 <= m < n``, or\n",
    "        the initial graph number of nodes m0 does not satisfy ``m <= m0 <= n``.\n",
    "\n",
    "    References\n",
    "    ----------\n",
    "    .. [1] A. L. Barabási and R. Albert \"Emergence of scaling in\n",
    "       random networks\", Science 286, pp 509-512, 1999.\n",
    "    \"\"\"\n",
    "\n",
    "    if m < 1 or m >= n:\n",
    "        raise nx.NetworkXError(\n",
    "            f\"Barabási–Albert network must have m >= 1 and m < n, m = {m}, n = {n}\"\n",
    "        )\n",
    "\n",
    "    if initial_graph is None:\n",
    "        # Default initial graph : star graph on (m + 1) nodes\n",
    "        G = star_graph(m)\n",
    "    else:\n",
    "        if len(initial_graph) < m or len(initial_graph) > n:\n",
    "            raise nx.NetworkXError(\n",
    "                f\"Barabási–Albert initial graph needs between m={m} and n={n} nodes\"\n",
    "            )\n",
    "        G = initial_graph.copy()\n",
    "\n",
    "    # List of existing nodes, with nodes repeated once for each adjacent edge\n",
    "    repeated_nodes = [n for n, d in G.degree() for _ in range(d)]\n",
    "    # Start adding the other n - m0 nodes.\n",
    "    source = len(G)\n",
    "    while source < n:\n",
    "        # Now choose m unique nodes from the existing nodes\n",
    "        # Pick uniformly from repeated_nodes (preferential attachment)\n",
    "        targets = _random_subset(repeated_nodes, m, seed)\n",
    "        # Add edges to m nodes from the source.\n",
    "        G.add_edges_from(zip([source] * m, targets))\n",
    "        # Add one node to the list for each new edge just created.\n",
    "        repeated_nodes.extend(targets)\n",
    "        # And the new node \"source\" has m edges to add to the list.\n",
    "        repeated_nodes.extend([source] * m)\n",
    "\n",
    "        source += 1\n",
    "    return G"
   ]
  },
  {
   "cell_type": "code",
   "execution_count": 3,
   "id": "80476f9a",
   "metadata": {},
   "outputs": [],
   "source": [
    "seed = np.random.RandomState()           \n",
    "time_steps = int(1e5) \n",
    "# t0 = time.time()\n",
    "\n",
    "explorations_per_graph=10\n",
    "\n",
    "def LinearSearch(lys, element):\n",
    "    for i in range(len(lys)):\n",
    "        if lys[i] == element:\n",
    "            return i\n",
    "    return -1\n",
    "\n",
    "#definisco una funzione del grafo per poi fare la media tra grafi differenti\n",
    "\n",
    "def time_nodes (G, explorations_per_graph):\n",
    "    initial_node = _random_subset(G.nodes, 1, seed).pop()\n",
    "       \n",
    "    #dinamica di esplorazione: semplicemente riempio una lista dei nuovi nodi in cui va il walker. Linear search \n",
    "    #mi guarda se il nodo è gia presente e non lo aggiunge. Exploration fa un evoluzione temporale restituendo il nuovo nodo\n",
    "    \n",
    "    def exploration(initial_node, G, explored_nodes):\n",
    "        if LinearSearch(explored_nodes, initial_node) < 0:\n",
    "               explored_nodes += [initial_node]\n",
    "        neighbours = list(G[initial_node])\n",
    "        new_node = _random_subset(neighbours, 1, seed).pop()\n",
    "        return new_node\n",
    "\n",
    "    exploration_time = []\n",
    "    explored_nodes = []\n",
    "\n",
    "    #ripeto l'esplorazione di \"time_steps\" passi temporali \"exploration_per_graph\" volte per fare una media - i tempi \n",
    "    #di esplorazione variano molto di volta in volta. Semplicemente ogni iterazione mi cambia il nodo iniziale con quello\n",
    "    #nuovo chiamando la funzione esplorazione. Quando tutti i nodi sono esplorati salvo il tempo impiegato e svuoto il vettore\n",
    "    #Infine faccio una media dei tempi.\n",
    "    \n",
    "    for i in range(explorations_per_graph):\n",
    "        t = 0\n",
    "        while True:\n",
    "            initial_node = exploration(initial_node, G, explored_nodes)\n",
    "            if len(explored_nodes) == len(G.nodes):\n",
    "                exploration_time += [t]\n",
    "                explored_nodes.clear()\n",
    "                break\n",
    "            t += 1\n",
    "\n",
    "    mean_exploration_time = sum(exploration_time)/explorations_per_graph\n",
    "    print(\"mean_exploration_time: \", mean_exploration_time, \"for\", len(G.nodes) ,\"nodes\")\n",
    "\n",
    "    return mean_exploration_time\n",
    "    \n",
    "#print(exploration_time)\n",
    "#print(explored_nodes) \n",
    "#print(len(explored_nodes),\"Explored nodes\")\n",
    "     \n",
    "\n",
    "# print(f\"done in {int((time.time()-t0)/60)} minutes and {((time.time()-t0)%60)} seconds\")"
   ]
  },
  {
   "cell_type": "markdown",
   "id": "7d154bf3",
   "metadata": {},
   "source": [
    "Exploration for random graph"
   ]
  },
  {
   "cell_type": "markdown",
   "id": "baf2ab44",
   "metadata": {},
   "source": [
    "in funzione del numero di nodi t(N)"
   ]
  },
  {
   "cell_type": "code",
   "execution_count": 4,
   "id": "ac9353ca",
   "metadata": {
    "scrolled": false
   },
   "outputs": [
    {
     "name": "stdout",
     "output_type": "stream",
     "text": [
      "mean_exploration_time:  146.7 for 20 nodes\n",
      "mean_exploration_time:  226.6 for 40 nodes\n",
      "mean_exploration_time:  348.7 for 60 nodes\n",
      "mean_exploration_time:  462.9 for 80 nodes\n",
      "mean_exploration_time:  523.6 for 100 nodes\n",
      "mean_exploration_time:  700.7 for 120 nodes\n",
      "mean_exploration_time:  842.6 for 140 nodes\n",
      "mean_exploration_time:  888.6 for 160 nodes\n",
      "mean_exploration_time:  1233.0 for 180 nodes\n",
      "mean_exploration_time:  1259.5 for 200 nodes\n",
      "mean_exploration_time:  1337.9 for 220 nodes\n",
      "mean_exploration_time:  1437.7 for 240 nodes\n",
      "mean_exploration_time:  1680.7 for 260 nodes\n",
      "mean_exploration_time:  1893.8 for 280 nodes\n",
      "mean_exploration_time:  1958.4 for 300 nodes\n",
      "mean_exploration_time:  2283.4 for 320 nodes\n",
      "mean_exploration_time:  2172.0 for 340 nodes\n",
      "mean_exploration_time:  2609.5 for 360 nodes\n",
      "mean_exploration_time:  2301.2 for 380 nodes\n",
      "mean_exploration_time:  2610.7 for 400 nodes\n"
     ]
    }
   ],
   "source": [
    "N = [20+i*20 for i in range(20)] # vettore dei nodi dei diversi grafi\n",
    "P = 0.25\n",
    "Times = []\n",
    "\n",
    "#per ogni N creo un grafo e faccio una media dei tempi di esplorazione che plotto in funzione di N    \n",
    "for i in range(len(N)):\n",
    "    G = nx.erdos_renyi_graph(N[i], P)\n",
    "    while min([d for n, d in G.degree()]) == 0:\n",
    "          G = nx.erdos_renyi_graph(N[i], P)\n",
    "    Times += [time_nodes(G, explorations_per_graph)]  \n"
   ]
  },
  {
   "cell_type": "code",
   "execution_count": 5,
   "id": "64e94eef",
   "metadata": {},
   "outputs": [
    {
     "data": {
      "image/png": "[encoded data removed]",
      "text/plain": [
       "<Figure size 432x288 with 1 Axes>"
      ]
     },
     "metadata": {
      "needs_background": "light"
     },
     "output_type": "display_data"
    },
    {
     "name": "stdout",
     "output_type": "stream",
     "text": [
      "[  6.80086466 -82.27157895]\n"
     ]
    },
    {
     "data": {
      "image/png": "[encoded data removed]",
      "text/plain": [
       "<Figure size 432x288 with 1 Axes>"
      ]
     },
     "metadata": {
      "needs_background": "light"
     },
     "output_type": "display_data"
    }
   ],
   "source": [
    "fig, ax = plt.subplots()\n",
    "    \n",
    "ax.plot(N, Times, '.', label = 'exploration_time')\n",
    "ax.set_xlabel(\"Number of nodes\")\n",
    "ax.set_ylabel(\"Exploration time\")\n",
    "\n",
    "plt.show()\n",
    "\n",
    "linear_fit=np.polyfit(N,Times,1)\n",
    "\n",
    "print(linear_fit)\n",
    "\n",
    "fit = [linear_fit[0]*n+linear_fit[1] for n in N]\n",
    "fig, ax = plt.subplots()\n",
    "    \n",
    "ax.plot(N, Times, '.', label = 'exploration_time')\n",
    "ax.set_xlabel(\"Number of nodes\")\n",
    "ax.set_ylabel(\"Exploration time\")\n",
    "\n",
    "ax.plot(N, fit, '--', label = 'fit')\n",
    "plt.show()\n"
   ]
  },
  {
   "cell_type": "markdown",
   "id": "110cc7cc",
   "metadata": {},
   "source": [
    "in funzione di P t(P)"
   ]
  },
  {
   "cell_type": "code",
   "execution_count": 6,
   "id": "0b9084d3",
   "metadata": {},
   "outputs": [
    {
     "name": "stdout",
     "output_type": "stream",
     "text": [
      "mean_exploration_time:  299.7 for 50 nodes\n",
      "0.1\n",
      "mean_exploration_time:  443.4 for 50 nodes\n",
      "0.12000000000000001\n",
      "mean_exploration_time:  394.9 for 50 nodes\n",
      "0.14\n",
      "mean_exploration_time:  290.2 for 50 nodes\n",
      "0.16\n",
      "mean_exploration_time:  232.1 for 50 nodes\n",
      "0.18\n",
      "mean_exploration_time:  249.8 for 50 nodes\n",
      "0.2\n",
      "mean_exploration_time:  260.9 for 50 nodes\n",
      "0.22\n",
      "mean_exploration_time:  228.6 for 50 nodes\n",
      "0.24000000000000002\n",
      "mean_exploration_time:  297.2 for 50 nodes\n",
      "0.26\n",
      "mean_exploration_time:  244.7 for 50 nodes\n",
      "0.28\n",
      "mean_exploration_time:  335.6 for 50 nodes\n",
      "0.30000000000000004\n",
      "mean_exploration_time:  241.6 for 50 nodes\n",
      "0.32\n",
      "mean_exploration_time:  281.4 for 50 nodes\n",
      "0.33999999999999997\n",
      "mean_exploration_time:  234.3 for 50 nodes\n",
      "0.36\n",
      "mean_exploration_time:  223.5 for 50 nodes\n",
      "0.38\n",
      "mean_exploration_time:  222.7 for 50 nodes\n",
      "0.4\n",
      "mean_exploration_time:  248.3 for 50 nodes\n",
      "0.42000000000000004\n",
      "mean_exploration_time:  223.6 for 50 nodes\n",
      "0.44000000000000006\n",
      "mean_exploration_time:  246.0 for 50 nodes\n",
      "0.45999999999999996\n",
      "mean_exploration_time:  267.1 for 50 nodes\n",
      "0.48\n",
      "mean_exploration_time:  243.0 for 50 nodes\n",
      "0.5\n",
      "mean_exploration_time:  323.4 for 50 nodes\n",
      "0.52\n",
      "mean_exploration_time:  195.7 for 50 nodes\n",
      "0.54\n",
      "mean_exploration_time:  227.3 for 50 nodes\n",
      "0.56\n",
      "mean_exploration_time:  238.4 for 50 nodes\n",
      "0.58\n",
      "mean_exploration_time:  219.7 for 50 nodes\n",
      "0.6\n",
      "mean_exploration_time:  190.5 for 50 nodes\n",
      "0.62\n",
      "mean_exploration_time:  230.1 for 50 nodes\n",
      "0.64\n",
      "mean_exploration_time:  237.6 for 50 nodes\n",
      "0.66\n",
      "mean_exploration_time:  211.9 for 50 nodes\n",
      "0.6799999999999999\n",
      "mean_exploration_time:  200.6 for 50 nodes\n",
      "0.7\n",
      "mean_exploration_time:  220.6 for 50 nodes\n",
      "0.72\n",
      "mean_exploration_time:  220.5 for 50 nodes\n",
      "0.74\n",
      "mean_exploration_time:  221.2 for 50 nodes\n",
      "0.76\n",
      "mean_exploration_time:  235.7 for 50 nodes\n",
      "0.78\n",
      "mean_exploration_time:  268.5 for 50 nodes\n",
      "0.8\n",
      "mean_exploration_time:  234.0 for 50 nodes\n",
      "0.82\n",
      "mean_exploration_time:  209.1 for 50 nodes\n",
      "0.84\n",
      "mean_exploration_time:  223.6 for 50 nodes\n",
      "0.86\n",
      "mean_exploration_time:  251.3 for 50 nodes\n",
      "0.88\n",
      "mean_exploration_time:  208.9 for 50 nodes\n",
      "0.9\n",
      "mean_exploration_time:  211.7 for 50 nodes\n",
      "0.92\n",
      "mean_exploration_time:  222.8 for 50 nodes\n",
      "0.94\n",
      "mean_exploration_time:  200.4 for 50 nodes\n",
      "0.96\n",
      "mean_exploration_time:  199.7 for 50 nodes\n",
      "0.98\n"
     ]
    }
   ],
   "source": [
    "N = 50 # vettore dei nodi dei diversi grafi\n",
    "P = [0.1+i*0.02 for i in range(45)]\n",
    "Times = []\n",
    "\n",
    "#per ogni N creo un grafo e faccio una media dei tempi di esplorazione che plotto in funzione di N    \n",
    "for i in range(len(P)):\n",
    "    G = nx.erdos_renyi_graph(N, P[i])\n",
    "    while min([d for n, d in G.degree()]) == 0:\n",
    "          G = nx.erdos_renyi_graph(N, P[i])\n",
    "    Times += [time_nodes(G, explorations_per_graph)]\n",
    "    print(P[i])"
   ]
  },
  {
   "cell_type": "code",
   "execution_count": 7,
   "id": "661ff0b6",
   "metadata": {},
   "outputs": [
    {
     "name": "stdout",
     "output_type": "stream",
     "text": [
      "Power_divergenceResult(statistic=10758.077385047798, pvalue=0.0)\n"
     ]
    },
    {
     "data": {
      "image/png": "[encoded data removed]",
      "text/plain": [
       "<Figure size 432x288 with 1 Axes>"
      ]
     },
     "metadata": {
      "needs_background": "light"
     },
     "output_type": "display_data"
    }
   ],
   "source": [
    "fig, ax = plt.subplots()\n",
    "    \n",
    "ax.plot(P, Times, '.', label = 'exploration_time')\n",
    "ax.set_xlabel(\"Number of nodes\")\n",
    "ax.set_ylabel(\"Exploration time\")\n",
    "\n",
    "\n",
    "def power_law(x, a, b):\n",
    "    return a*np.power(x, b)\n",
    "\n",
    "x_low = 1\n",
    "poptPower, pcovPower = curve_fit(power_law, P[x_low:], Times[x_low:]) \n",
    "\n",
    "fit_function = power_law(P[x_low:], *poptPower)\n",
    "\n",
    "ax.plot(P[x_low:], fit_function, '-',\n",
    "        label = f\"fit: a={round(poptPower[0],3)}, b={round(poptPower[1],4)}\")\n",
    "\n",
    "ax.legend()\n",
    "print(stats.chisquare(P[x_low:], fit_function))\n",
    "\n",
    "plt.show()\n",
    "\n"
   ]
  },
  {
   "cell_type": "markdown",
   "id": "31e00b04",
   "metadata": {},
   "source": [
    "Exploration for scale-free graph"
   ]
  },
  {
   "cell_type": "markdown",
   "id": "3c374431",
   "metadata": {},
   "source": [
    "in funzione del numero di nodi t(N)"
   ]
  },
  {
   "cell_type": "code",
   "execution_count": 8,
   "id": "f0039134",
   "metadata": {},
   "outputs": [
    {
     "name": "stdout",
     "output_type": "stream",
     "text": [
      "mean_exploration_time:  30.4 for 10 nodes\n",
      "mean_exploration_time:  126.8 for 20 nodes\n",
      "mean_exploration_time:  230.2 for 30 nodes\n",
      "mean_exploration_time:  303.4 for 40 nodes\n",
      "mean_exploration_time:  359.7 for 50 nodes\n",
      "mean_exploration_time:  499.1 for 60 nodes\n",
      "mean_exploration_time:  578.0 for 70 nodes\n",
      "mean_exploration_time:  689.9 for 80 nodes\n",
      "mean_exploration_time:  901.4 for 90 nodes\n",
      "mean_exploration_time:  989.0 for 100 nodes\n",
      "mean_exploration_time:  1083.5 for 110 nodes\n",
      "mean_exploration_time:  1387.0 for 120 nodes\n",
      "mean_exploration_time:  1406.7 for 130 nodes\n",
      "mean_exploration_time:  1529.8 for 140 nodes\n",
      "mean_exploration_time:  1435.9 for 150 nodes\n",
      "mean_exploration_time:  2002.7 for 160 nodes\n",
      "mean_exploration_time:  1716.5 for 170 nodes\n",
      "mean_exploration_time:  1680.1 for 180 nodes\n",
      "mean_exploration_time:  2166.7 for 190 nodes\n",
      "mean_exploration_time:  2096.6 for 200 nodes\n"
     ]
    }
   ],
   "source": [
    "N = [10+i*10 for i in range(20)]\n",
    "M = 3\n",
    "Times = []\n",
    "\n",
    "G = nx.complete_graph(M)\n",
    "\n",
    "for i in range(len(N)):\n",
    "    G = barabasi_albert(N[i], M, initial_graph = G)\n",
    "    Times += [time_nodes(G,explorations_per_graph)]  "
   ]
  },
  {
   "cell_type": "code",
   "execution_count": 9,
   "id": "8a4ca76c",
   "metadata": {},
   "outputs": [
    {
     "data": {
      "image/png": "[encoded data removed]",
      "text/plain": [
       "<Figure size 432x288 with 1 Axes>"
      ]
     },
     "metadata": {
      "needs_background": "light"
     },
     "output_type": "display_data"
    },
    {
     "name": "stdout",
     "output_type": "stream",
     "text": [
      "[  11.45541353 -142.14842105]\n"
     ]
    },
    {
     "data": {
      "image/png": "[encoded data removed]",
      "text/plain": [
       "<Figure size 432x288 with 1 Axes>"
      ]
     },
     "metadata": {
      "needs_background": "light"
     },
     "output_type": "display_data"
    }
   ],
   "source": [
    "fig, ax = plt.subplots()\n",
    "    \n",
    "ax.plot(N, Times, '.', label = 'exploration_time')\n",
    "ax.set_xlabel(\"Number of nodes\")\n",
    "ax.set_ylabel(\"Exploration time\")\n",
    "\n",
    "plt.show()\n",
    "\n",
    "#fit lineare\n",
    "\n",
    "linear_fit=np.polyfit(N,Times,1)\n",
    "\n",
    "print(linear_fit)\n",
    "\n",
    "fit = [linear_fit[0]*n+linear_fit[1] for n in N]\n",
    "fig, ax = plt.subplots()\n",
    "    \n",
    "ax.plot(N, Times, '.', label = 'exploration_time')\n",
    "ax.set_xlabel(\"Number of nodes\")\n",
    "ax.set_ylabel(\"Exploration time\")\n",
    "\n",
    "ax.plot(N, fit, '--', label = 'fit')\n",
    "plt.show()"
   ]
  },
  {
   "cell_type": "markdown",
   "id": "d996d95e",
   "metadata": {},
   "source": [
    "in funzione di M - t(M)"
   ]
  },
  {
   "cell_type": "code",
   "execution_count": 10,
   "id": "115db343",
   "metadata": {},
   "outputs": [
    {
     "name": "stdout",
     "output_type": "stream",
     "text": [
      "mean_exploration_time:  2124.6 for 200 nodes\n",
      "M =  3\n",
      "mean_exploration_time:  2133.2 for 200 nodes\n",
      "M =  4\n",
      "mean_exploration_time:  2237.4 for 200 nodes\n",
      "M =  5\n",
      "mean_exploration_time:  2408.4 for 200 nodes\n",
      "M =  6\n",
      "mean_exploration_time:  2420.8 for 200 nodes\n",
      "M =  7\n",
      "mean_exploration_time:  2315.5 for 200 nodes\n",
      "M =  8\n",
      "mean_exploration_time:  2587.4 for 200 nodes\n",
      "M =  9\n",
      "mean_exploration_time:  1998.5 for 200 nodes\n",
      "M =  10\n",
      "mean_exploration_time:  2181.6 for 200 nodes\n",
      "M =  11\n",
      "mean_exploration_time:  2393.9 for 200 nodes\n",
      "M =  12\n",
      "mean_exploration_time:  2428.5 for 200 nodes\n",
      "M =  13\n",
      "mean_exploration_time:  2414.0 for 200 nodes\n",
      "M =  14\n",
      "mean_exploration_time:  2573.5 for 200 nodes\n",
      "M =  15\n",
      "mean_exploration_time:  2619.4 for 200 nodes\n",
      "M =  16\n",
      "mean_exploration_time:  2410.5 for 200 nodes\n",
      "M =  17\n",
      "mean_exploration_time:  2273.6 for 200 nodes\n",
      "M =  18\n",
      "mean_exploration_time:  2681.1 for 200 nodes\n",
      "M =  19\n",
      "mean_exploration_time:  2418.1 for 200 nodes\n",
      "M =  20\n",
      "mean_exploration_time:  2158.6 for 200 nodes\n",
      "M =  21\n",
      "mean_exploration_time:  2655.8 for 200 nodes\n",
      "M =  22\n"
     ]
    }
   ],
   "source": [
    "N = 200\n",
    "M = [3+i*1 for i in range(20)]\n",
    "Times = []\n",
    "\n",
    "G = nx.complete_graph(M[0])\n",
    "\n",
    "for i in range(len(M)):\n",
    "    G = barabasi_albert(N, M[i], initial_graph = G)\n",
    "    Times += [time_nodes(G,explorations_per_graph)]  \n",
    "    print (\"M = \", M[i])"
   ]
  },
  {
   "cell_type": "code",
   "execution_count": 11,
   "id": "fad8cd6d",
   "metadata": {},
   "outputs": [
    {
     "data": {
      "image/png": "[encoded data removed]",
      "text/plain": [
       "<Figure size 432x288 with 1 Axes>"
      ]
     },
     "metadata": {
      "needs_background": "light"
     },
     "output_type": "display_data"
    }
   ],
   "source": [
    "fig, ax = plt.subplots()\n",
    "    \n",
    "ax.plot(M, Times, '.', label = 'exploration_time')\n",
    "ax.set_xlabel(\"Number of nodes\")\n",
    "ax.set_ylabel(\"Exploration time\")\n",
    "\n",
    "plt.show()"
   ]
  },
  {
   "cell_type": "code",
   "execution_count": null,
   "id": "914cc3bf",
   "metadata": {},
   "outputs": [],
   "source": []
  }
 ],
 "metadata": {
  "kernelspec": {
   "display_name": "Python 3",
   "language": "python",
   "name": "python3"
  },
  "language_info": {
   "codemirror_mode": {
    "name": "ipython",
    "version": 3
   },
   "file_extension": ".py",
   "mimetype": "text/x-python",
   "name": "python",
   "nbconvert_exporter": "python",
   "pygments_lexer": "ipython3",
   "version": "3.8.8"
  }
 },
 "nbformat": 4,
 "nbformat_minor": 5
}
