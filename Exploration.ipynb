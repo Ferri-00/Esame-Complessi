{
 "cells": [
  {
   "cell_type": "code",
   "execution_count": 1,
   "id": "0fa79ffc",
   "metadata": {},
   "outputs": [],
   "source": [
    "import networkx as nx\n",
    "import matplotlib.pyplot as plt\n",
    "from networkx.utils import py_random_state\n",
    "from networkx.generators.random_graphs import _random_subset\n",
    "from networkx.generators.classic import star_graph\n",
    "import numpy as np\n",
    "import random\n",
    "\n",
    "import scipy.stats as stats\n",
    "from scipy.optimize import curve_fit\n",
    "\n",
    "\n",
    "import time\n",
    "import os"
   ]
  },
  {
   "cell_type": "code",
   "execution_count": 2,
   "id": "e87f6a32",
   "metadata": {},
   "outputs": [],
   "source": [
    "@py_random_state(2)\n",
    "def barabasi_albert(n, m, seed=None, initial_graph=None):\n",
    "    \"\"\"Returns a random graph using Barabási–Albert preferential attachment\n",
    "\n",
    "    A graph of $n$ nodes is grown by attaching new nodes each with $m$\n",
    "    edges that are preferentially attached to existing nodes with high degree.\n",
    "\n",
    "    Parameters\n",
    "    ----------\n",
    "    n : int\n",
    "        Number of nodes\n",
    "    m : int\n",
    "        Number of edges to attach from a new node to existing nodes\n",
    "    seed : integer, random_state, or None (default)\n",
    "        Indicator of random number generation state.\n",
    "        See :ref:`Randomness<randomness>`.\n",
    "    initial_graph : Graph or None (default)\n",
    "        Initial network for Barabási–Albert algorithm.\n",
    "        It should be a connected graph for most use cases.\n",
    "        A copy of `initial_graph` is used.\n",
    "        If None, starts from a star graph on (m+1) nodes.\n",
    "\n",
    "    Returns\n",
    "    -------\n",
    "    G : Graph\n",
    "\n",
    "    Raises\n",
    "    ------\n",
    "    NetworkXError\n",
    "        If `m` does not satisfy ``1 <= m < n``, or\n",
    "        the initial graph number of nodes m0 does not satisfy ``m <= m0 <= n``.\n",
    "\n",
    "    References\n",
    "    ----------\n",
    "    .. [1] A. L. Barabási and R. Albert \"Emergence of scaling in\n",
    "       random networks\", Science 286, pp 509-512, 1999.\n",
    "    \"\"\"\n",
    "\n",
    "    if m < 1 or m >= n:\n",
    "        raise nx.NetworkXError(\n",
    "            f\"Barabási–Albert network must have m >= 1 and m < n, m = {m}, n = {n}\"\n",
    "        )\n",
    "\n",
    "    if initial_graph is None:\n",
    "        # Default initial graph : star graph on (m + 1) nodes\n",
    "        G = star_graph(m)\n",
    "    else:\n",
    "        if len(initial_graph) < m or len(initial_graph) > n:\n",
    "            raise nx.NetworkXError(\n",
    "                f\"Barabási–Albert initial graph needs between m={m} and n={n} nodes\"\n",
    "            )\n",
    "        G = initial_graph.copy()\n",
    "\n",
    "    # List of existing nodes, with nodes repeated once for each adjacent edge\n",
    "    repeated_nodes = [n for n, d in G.degree() for _ in range(d)]\n",
    "    # Start adding the other n - m0 nodes.\n",
    "    source = len(G)\n",
    "    while source < n:\n",
    "        # Now choose m unique nodes from the existing nodes\n",
    "        # Pick uniformly from repeated_nodes (preferential attachment)\n",
    "        targets = _random_subset(repeated_nodes, m, seed)\n",
    "        # Add edges to m nodes from the source.\n",
    "        G.add_edges_from(zip([source] * m, targets))\n",
    "        # Add one node to the list for each new edge just created.\n",
    "        repeated_nodes.extend(targets)\n",
    "        # And the new node \"source\" has m edges to add to the list.\n",
    "        repeated_nodes.extend([source] * m)\n",
    "\n",
    "        source += 1\n",
    "    return G"
   ]
  },
  {
   "cell_type": "code",
   "execution_count": 3,
   "id": "80476f9a",
   "metadata": {},
   "outputs": [],
   "source": [
    "seed = np.random.RandomState()           \n",
    "time_steps = int(1e5) \n",
    "# t0 = time.time()\n",
    "\n",
    "explorations_per_graph=50\n",
    "\n",
    "def LinearSearch(lys, element):\n",
    "    for i in range(len(lys)):\n",
    "        if lys[i] == element:\n",
    "            return i\n",
    "    return -1\n",
    "\n",
    "#definisco una funzione del grafo per poi fare la media tra grafi differenti\n",
    "\n",
    "def time_nodes (G, explorations_per_graph):\n",
    "    initial_node = _random_subset(G.nodes, 1, seed).pop()\n",
    "       \n",
    "    #dinamica di esplorazione: semplicemente riempio una lista dei nuovi nodi in cui va il walker. Linear search \n",
    "    #mi guarda se il nodo è gia presente e non lo aggiunge. Exploration fa un evoluzione temporale restituendo il nuovo nodo\n",
    "    \n",
    "    def exploration(initial_node, G, explored_nodes):\n",
    "        if LinearSearch(explored_nodes, initial_node) < 0:\n",
    "               explored_nodes += [initial_node]\n",
    "        neighbours = list(G[initial_node])\n",
    "        new_node = _random_subset(neighbours, 1, seed).pop()\n",
    "        return new_node\n",
    "\n",
    "    exploration_time = []\n",
    "    explored_nodes = []\n",
    "\n",
    "    #ripeto l'esplorazione di \"time_steps\" passi temporali \"exploration_per_graph\" volte per fare una media - i tempi \n",
    "    #di esplorazione variano molto di volta in volta. Semplicemente ogni iterazione mi cambia il nodo iniziale con quello\n",
    "    #nuovo chiamando la funzione esplorazione. Quando tutti i nodi sono esplorati salvo il tempo impiegato e svuoto il vettore\n",
    "    #Infine faccio una media dei tempi.\n",
    "    \n",
    "    for i in range(explorations_per_graph):\n",
    "        t = 0\n",
    "        while True:\n",
    "            initial_node = exploration(initial_node, G, explored_nodes)\n",
    "            if len(explored_nodes) == len(G.nodes):\n",
    "                exploration_time += [t]\n",
    "                explored_nodes.clear()\n",
    "                break\n",
    "            t += 1\n",
    "\n",
    "    mean_exploration_time = sum(exploration_time)/explorations_per_graph\n",
    "    print(\"mean_exploration_time: \", mean_exploration_time, \"for\", len(G.nodes) ,\"nodes\")\n",
    "\n",
    "    return mean_exploration_time\n",
    "    \n",
    "#print(exploration_time)\n",
    "#print(explored_nodes) \n",
    "#print(len(explored_nodes),\"Explored nodes\")\n",
    "     \n",
    "\n",
    "# print(f\"done in {int((time.time()-t0)/60)} minutes and {((time.time()-t0)%60)} seconds\")"
   ]
  },
  {
   "cell_type": "markdown",
   "id": "7d154bf3",
   "metadata": {},
   "source": [
    "Exploration for random graph"
   ]
  },
  {
   "cell_type": "markdown",
   "id": "baf2ab44",
   "metadata": {},
   "source": [
    "in funzione del numero di nodi t(N)"
   ]
  },
  {
   "cell_type": "code",
   "execution_count": 4,
   "id": "ac9353ca",
   "metadata": {
    "scrolled": false
   },
   "outputs": [
    {
     "name": "stdout",
     "output_type": "stream",
     "text": [
      "mean_exploration_time:  99.0 for 20 nodes\n",
      "mean_exploration_time:  234.1 for 40 nodes\n",
      "mean_exploration_time:  325.88 for 60 nodes\n",
      "mean_exploration_time:  454.84 for 80 nodes\n",
      "mean_exploration_time:  593.06 for 100 nodes\n",
      "mean_exploration_time:  686.18 for 120 nodes\n",
      "mean_exploration_time:  846.24 for 140 nodes\n",
      "mean_exploration_time:  985.68 for 160 nodes\n",
      "mean_exploration_time:  1251.24 for 180 nodes\n",
      "mean_exploration_time:  1221.24 for 200 nodes\n",
      "mean_exploration_time:  1414.48 for 220 nodes\n",
      "mean_exploration_time:  1523.26 for 240 nodes\n",
      "mean_exploration_time:  1719.76 for 260 nodes\n",
      "mean_exploration_time:  1914.34 for 280 nodes\n",
      "mean_exploration_time:  1940.84 for 300 nodes\n",
      "mean_exploration_time:  2123.94 for 320 nodes\n",
      "mean_exploration_time:  2294.52 for 340 nodes\n",
      "mean_exploration_time:  2371.22 for 360 nodes\n",
      "mean_exploration_time:  2556.04 for 380 nodes\n",
      "mean_exploration_time:  2750.74 for 400 nodes\n"
     ]
    }
   ],
   "source": [
    "N = [20+i*20 for i in range(20)] # vettore dei nodi dei diversi grafi\n",
    "P = 0.25\n",
    "Times = []\n",
    "\n",
    "#per ogni N creo un grafo e faccio una media dei tempi di esplorazione che plotto in funzione di N    \n",
    "for i in range(len(N)):\n",
    "    G = nx.erdos_renyi_graph(N[i], P)\n",
    "    while min([d for n, d in G.degree()]) == 0:\n",
    "          G = nx.erdos_renyi_graph(N[i], P)\n",
    "    Times += [time_nodes(G, explorations_per_graph)]  \n"
   ]
  },
  {
   "cell_type": "code",
   "execution_count": 5,
   "id": "64e94eef",
   "metadata": {},
   "outputs": [
    {
     "data": {
      "image/png": "[encoded data removed]",
      "text/plain": [
       "<Figure size 432x288 with 1 Axes>"
      ]
     },
     "metadata": {
      "needs_background": "light"
     },
     "output_type": "display_data"
    },
    {
     "name": "stdout",
     "output_type": "stream",
     "text": [
      "[  6.94511278 -93.14368421]\n"
     ]
    },
    {
     "data": {
      "image/png": "[encoded data removed]",
      "text/plain": [
       "<Figure size 432x288 with 1 Axes>"
      ]
     },
     "metadata": {
      "needs_background": "light"
     },
     "output_type": "display_data"
    }
   ],
   "source": [
    "fig, ax = plt.subplots()\n",
    "    \n",
    "ax.plot(N, Times, '.', label = 'exploration_time')\n",
    "ax.set_xlabel(\"Number of nodes\")\n",
    "ax.set_ylabel(\"Exploration time\")\n",
    "\n",
    "plt.show()\n",
    "\n",
    "linear_fit=np.polyfit(N,Times,1)\n",
    "\n",
    "print(linear_fit)\n",
    "\n",
    "fit = [linear_fit[0]*n+linear_fit[1] for n in N]\n",
    "fig, ax = plt.subplots()\n",
    "    \n",
    "ax.plot(N, Times, '.', label = f\"exploration time, P = {P}\")\n",
    "ax.set_xlabel(\"Number of nodes\")\n",
    "ax.set_ylabel(f\"Exploration time\")\n",
    "\n",
    "ax.plot(N, fit, '-', label = f\"fit: {round(linear_fit[1],4)} + x • {round(linear_fit[0],3)}\")\n",
    "\n",
    "ax.legend()\n",
    "\n",
    "plt.show()\n"
   ]
  },
  {
   "cell_type": "markdown",
   "id": "110cc7cc",
   "metadata": {},
   "source": [
    "in funzione di P t(P)"
   ]
  },
  {
   "cell_type": "code",
   "execution_count": 6,
   "id": "0b9084d3",
   "metadata": {},
   "outputs": [
    {
     "name": "stdout",
     "output_type": "stream",
     "text": [
      "mean_exploration_time:  603.0 for 50 nodes\n",
      "0.1\n",
      "mean_exploration_time:  392.44 for 50 nodes\n",
      "0.12000000000000001\n",
      "mean_exploration_time:  343.48 for 50 nodes\n",
      "0.14\n",
      "mean_exploration_time:  314.38 for 50 nodes\n",
      "0.16\n",
      "mean_exploration_time:  307.92 for 50 nodes\n",
      "0.18\n",
      "mean_exploration_time:  312.44 for 50 nodes\n",
      "0.2\n",
      "mean_exploration_time:  323.44 for 50 nodes\n",
      "0.22\n",
      "mean_exploration_time:  284.36 for 50 nodes\n",
      "0.24000000000000002\n",
      "mean_exploration_time:  318.12 for 50 nodes\n",
      "0.26\n",
      "mean_exploration_time:  274.34 for 50 nodes\n",
      "0.28\n",
      "mean_exploration_time:  256.42 for 50 nodes\n",
      "0.30000000000000004\n",
      "mean_exploration_time:  247.24 for 50 nodes\n",
      "0.32\n",
      "mean_exploration_time:  261.22 for 50 nodes\n",
      "0.33999999999999997\n",
      "mean_exploration_time:  233.88 for 50 nodes\n",
      "0.36\n",
      "mean_exploration_time:  273.96 for 50 nodes\n",
      "0.38\n",
      "mean_exploration_time:  225.26 for 50 nodes\n",
      "0.4\n",
      "mean_exploration_time:  278.0 for 50 nodes\n",
      "0.42000000000000004\n",
      "mean_exploration_time:  258.42 for 50 nodes\n",
      "0.44000000000000006\n",
      "mean_exploration_time:  233.32 for 50 nodes\n",
      "0.45999999999999996\n",
      "mean_exploration_time:  235.0 for 50 nodes\n",
      "0.48\n",
      "mean_exploration_time:  248.3 for 50 nodes\n",
      "0.5\n",
      "mean_exploration_time:  225.34 for 50 nodes\n",
      "0.52\n",
      "mean_exploration_time:  229.24 for 50 nodes\n",
      "0.54\n",
      "mean_exploration_time:  231.94 for 50 nodes\n",
      "0.56\n",
      "mean_exploration_time:  235.92 for 50 nodes\n",
      "0.58\n",
      "mean_exploration_time:  247.94 for 50 nodes\n",
      "0.6\n",
      "mean_exploration_time:  228.62 for 50 nodes\n",
      "0.62\n",
      "mean_exploration_time:  219.48 for 50 nodes\n",
      "0.64\n",
      "mean_exploration_time:  222.22 for 50 nodes\n",
      "0.66\n",
      "mean_exploration_time:  222.7 for 50 nodes\n",
      "0.6799999999999999\n",
      "mean_exploration_time:  240.18 for 50 nodes\n",
      "0.7\n",
      "mean_exploration_time:  222.26 for 50 nodes\n",
      "0.72\n",
      "mean_exploration_time:  218.3 for 50 nodes\n",
      "0.74\n",
      "mean_exploration_time:  246.1 for 50 nodes\n",
      "0.76\n",
      "mean_exploration_time:  238.08 for 50 nodes\n",
      "0.78\n",
      "mean_exploration_time:  242.36 for 50 nodes\n",
      "0.8\n",
      "mean_exploration_time:  214.84 for 50 nodes\n",
      "0.82\n",
      "mean_exploration_time:  220.18 for 50 nodes\n",
      "0.84\n",
      "mean_exploration_time:  210.6 for 50 nodes\n",
      "0.86\n",
      "mean_exploration_time:  236.32 for 50 nodes\n",
      "0.88\n",
      "mean_exploration_time:  219.28 for 50 nodes\n",
      "0.9\n",
      "mean_exploration_time:  215.9 for 50 nodes\n",
      "0.92\n",
      "mean_exploration_time:  233.28 for 50 nodes\n",
      "0.94\n",
      "mean_exploration_time:  205.7 for 50 nodes\n",
      "0.96\n",
      "mean_exploration_time:  214.7 for 50 nodes\n",
      "0.98\n"
     ]
    }
   ],
   "source": [
    "N = 50 # vettore dei nodi dei diversi grafi\n",
    "P = [0.1+i*0.02 for i in range(45)]\n",
    "Times = []\n",
    "\n",
    "#per ogni N creo un grafo e faccio una media dei tempi di esplorazione che plotto in funzione di N    \n",
    "for i in range(len(P)):\n",
    "    G = nx.erdos_renyi_graph(N, P[i])\n",
    "    while min([d for n, d in G.degree()]) == 0:\n",
    "          G = nx.erdos_renyi_graph(N, P[i])\n",
    "    Times += [time_nodes(G, explorations_per_graph)]\n",
    "    print(P[i])"
   ]
  },
  {
   "cell_type": "code",
   "execution_count": 7,
   "id": "661ff0b6",
   "metadata": {},
   "outputs": [
    {
     "name": "stdout",
     "output_type": "stream",
     "text": [
      "Power_divergenceResult(statistic=11011.340022519471, pvalue=0.0)\n"
     ]
    },
    {
     "data": {
      "image/png": "[encoded data removed]",
      "text/plain": [
       "<Figure size 432x288 with 1 Axes>"
      ]
     },
     "metadata": {
      "needs_background": "light"
     },
     "output_type": "display_data"
    }
   ],
   "source": [
    "fig, ax = plt.subplots()\n",
    "\n",
    "x_low = 1\n",
    "    \n",
    "ax.plot(P[x_low:], Times[x_low:], '.', label = f\"exploration time, N = {N}\")\n",
    "ax.set_xlabel(\"P\")\n",
    "ax.set_ylabel(f\"Exploration time\")\n",
    "\n",
    "\n",
    "def power_law(x, a, b):\n",
    "    return a*np.power(x, b)\n",
    "\n",
    "\n",
    "poptPower, pcovPower = curve_fit(power_law, P[x_low:], Times[x_low:]) \n",
    "\n",
    "fit_function = power_law(P[x_low:], *poptPower)\n",
    "\n",
    "ax.plot(P[x_low:], fit_function, '-',\n",
    "        label = f\"fit: {round(poptPower[0],3)} • x ^ ({round(poptPower[1],4)})\")\n",
    "\n",
    "ax.legend()\n",
    "print(stats.chisquare(P[x_low:], fit_function))\n",
    "\n",
    "plt.show()\n",
    "\n"
   ]
  },
  {
   "cell_type": "markdown",
   "id": "31e00b04",
   "metadata": {},
   "source": [
    "Exploration for scale-free graph"
   ]
  },
  {
   "cell_type": "markdown",
   "id": "3c374431",
   "metadata": {},
   "source": [
    "in funzione del numero di nodi t(N)"
   ]
  },
  {
   "cell_type": "code",
   "execution_count": 8,
   "id": "f0039134",
   "metadata": {},
   "outputs": [
    {
     "name": "stdout",
     "output_type": "stream",
     "text": [
      "mean_exploration_time:  115.8 for 20 nodes\n",
      "mean_exploration_time:  294.46 for 40 nodes\n",
      "mean_exploration_time:  461.08 for 60 nodes\n",
      "mean_exploration_time:  763.12 for 80 nodes\n",
      "mean_exploration_time:  1053.08 for 100 nodes\n",
      "mean_exploration_time:  1252.22 for 120 nodes\n",
      "mean_exploration_time:  1447.28 for 140 nodes\n",
      "mean_exploration_time:  1878.94 for 160 nodes\n",
      "mean_exploration_time:  2152.64 for 180 nodes\n",
      "mean_exploration_time:  2212.12 for 200 nodes\n",
      "mean_exploration_time:  2633.58 for 220 nodes\n",
      "mean_exploration_time:  2976.72 for 240 nodes\n",
      "mean_exploration_time:  3133.98 for 260 nodes\n",
      "mean_exploration_time:  3488.54 for 280 nodes\n",
      "mean_exploration_time:  3879.0 for 300 nodes\n",
      "mean_exploration_time:  4212.34 for 320 nodes\n",
      "mean_exploration_time:  4492.14 for 340 nodes\n",
      "mean_exploration_time:  4887.6 for 360 nodes\n",
      "mean_exploration_time:  5386.32 for 380 nodes\n",
      "mean_exploration_time:  5268.26 for 400 nodes\n"
     ]
    }
   ],
   "source": [
    "N = [20+i*20 for i in range(20)]\n",
    "M = 3\n",
    "Times = []\n",
    "\n",
    "G = nx.complete_graph(M)\n",
    "\n",
    "for i in range(len(N)):\n",
    "    G = barabasi_albert(N[i], M, initial_graph = G)\n",
    "    Times += [time_nodes(G,explorations_per_graph)]  "
   ]
  },
  {
   "cell_type": "code",
   "execution_count": 9,
   "id": "8a4ca76c",
   "metadata": {},
   "outputs": [
    {
     "data": {
      "image/png": "[encoded data removed]",
      "text/plain": [
       "<Figure size 432x288 with 1 Axes>"
      ]
     },
     "metadata": {
      "needs_background": "light"
     },
     "output_type": "display_data"
    },
    {
     "name": "stdout",
     "output_type": "stream",
     "text": [
      "[  14.33022632 -409.88652632]\n"
     ]
    },
    {
     "data": {
      "image/png": "[encoded data removed]",
      "text/plain": [
       "<Figure size 432x288 with 1 Axes>"
      ]
     },
     "metadata": {
      "needs_background": "light"
     },
     "output_type": "display_data"
    }
   ],
   "source": [
    "fig, ax = plt.subplots()\n",
    "    \n",
    "ax.plot(N, Times, '.', label = 'exploration_time')\n",
    "ax.set_xlabel(\"Number of nodes\")\n",
    "ax.set_ylabel(\"Exploration time\")\n",
    "\n",
    "plt.show()\n",
    "\n",
    "#fit lineare\n",
    "\n",
    "linear_fit=np.polyfit(N,Times,1)\n",
    "\n",
    "print(linear_fit)\n",
    "\n",
    "fit = [linear_fit[0]*n+linear_fit[1] for n in N]\n",
    "\n",
    "fig, ax = plt.subplots()\n",
    "    \n",
    "ax.plot(N, Times, '.', label = f\"exploration time, M = {M}\")\n",
    "ax.set_xlabel(\"Number of nodes\")\n",
    "ax.set_ylabel(f\"Exploration time\")\n",
    "\n",
    "ax.plot(N, fit, '-', label = f\"fit: {round(linear_fit[1],4)} + x • {round(linear_fit[0],3)}\")\n",
    "\n",
    "ax.legend()\n",
    "plt.show()"
   ]
  },
  {
   "cell_type": "markdown",
   "id": "d996d95e",
   "metadata": {},
   "source": [
    "in funzione di M - t(M)"
   ]
  },
  {
   "cell_type": "code",
   "execution_count": 10,
   "id": "115db343",
   "metadata": {},
   "outputs": [
    {
     "name": "stdout",
     "output_type": "stream",
     "text": [
      "mean_exploration_time:  2424.62 for 200 nodes\n",
      "M =  3\n",
      "mean_exploration_time:  2255.14 for 200 nodes\n",
      "M =  4\n",
      "mean_exploration_time:  2302.38 for 200 nodes\n",
      "M =  5\n",
      "mean_exploration_time:  2389.46 for 200 nodes\n",
      "M =  6\n",
      "mean_exploration_time:  2234.54 for 200 nodes\n",
      "M =  7\n",
      "mean_exploration_time:  2432.48 for 200 nodes\n",
      "M =  8\n",
      "mean_exploration_time:  2391.34 for 200 nodes\n",
      "M =  9\n",
      "mean_exploration_time:  2290.7 for 200 nodes\n",
      "M =  10\n",
      "mean_exploration_time:  2362.72 for 200 nodes\n",
      "M =  11\n",
      "mean_exploration_time:  2312.78 for 200 nodes\n",
      "M =  12\n",
      "mean_exploration_time:  2327.1 for 200 nodes\n",
      "M =  13\n",
      "mean_exploration_time:  2569.26 for 200 nodes\n",
      "M =  14\n",
      "mean_exploration_time:  2320.58 for 200 nodes\n",
      "M =  15\n",
      "mean_exploration_time:  2428.0 for 200 nodes\n",
      "M =  16\n",
      "mean_exploration_time:  2374.36 for 200 nodes\n",
      "M =  17\n",
      "mean_exploration_time:  2289.64 for 200 nodes\n",
      "M =  18\n",
      "mean_exploration_time:  2201.28 for 200 nodes\n",
      "M =  19\n",
      "mean_exploration_time:  2327.52 for 200 nodes\n",
      "M =  20\n",
      "mean_exploration_time:  2303.16 for 200 nodes\n",
      "M =  21\n",
      "mean_exploration_time:  2170.32 for 200 nodes\n",
      "M =  22\n"
     ]
    }
   ],
   "source": [
    "N = 200\n",
    "M = [3+i*1 for i in range(20)]\n",
    "Times = []\n",
    "\n",
    "G = nx.complete_graph(M[0])\n",
    "\n",
    "for i in range(len(M)):\n",
    "    G = barabasi_albert(N, M[i], initial_graph = G)\n",
    "    Times += [time_nodes(G,explorations_per_graph)]  \n",
    "    print (\"M = \", M[i])\n",
    "    \n",
    "mean_time = [np.mean(Times)]*len(Times)"
   ]
  },
  {
   "cell_type": "code",
   "execution_count": 11,
   "id": "fad8cd6d",
   "metadata": {},
   "outputs": [
    {
     "data": {
      "image/png": "[encoded data removed]",
      "text/plain": [
       "<Figure size 432x288 with 1 Axes>"
      ]
     },
     "metadata": {
      "needs_background": "light"
     },
     "output_type": "display_data"
    }
   ],
   "source": [
    "fig, ax = plt.subplots()\n",
    "    \n",
    "ax.plot(M, Times, '.', label = f\"exploration time, N = {N}\")\n",
    "ax.plot(M, mean_time, '-', label = f\"tempo medio: {round(mean_time[0],4)}\")\n",
    "ax.set_xlabel(\"M\")\n",
    "ax.set_ylabel(f\"Exploration time\")\n",
    "ax.legend()\n",
    "plt.show()"
   ]
  },
  {
   "cell_type": "code",
   "execution_count": null,
   "id": "4e366b5c",
   "metadata": {},
   "outputs": [],
   "source": []
  }
 ],
 "metadata": {
  "kernelspec": {
   "display_name": "Python 3",
   "language": "python",
   "name": "python3"
  },
  "language_info": {
   "codemirror_mode": {
    "name": "ipython",
    "version": 3
   },
   "file_extension": ".py",
   "mimetype": "text/x-python",
   "name": "python",
   "nbconvert_exporter": "python",
   "pygments_lexer": "ipython3",
   "version": "3.8.8"
  }
 },
 "nbformat": 4,
 "nbformat_minor": 5
}
