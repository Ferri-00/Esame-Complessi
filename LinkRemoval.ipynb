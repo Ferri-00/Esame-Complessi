{
 "cells": [
  {
   "cell_type": "code",
   "execution_count": 1,
   "id": "9da802ed",
   "metadata": {},
   "outputs": [],
   "source": [
    "import networkx as nx\n",
    "from networkx.generators.random_graphs import _random_subset\n",
    "import sympy as sp\n",
    "from sympy import symbols \n",
    "import numpy as np\n",
    "import matplotlib.pyplot as plt\n",
    "from scipy.optimize import minimize\n",
    "from sympy.utilities.lambdify import lambdify\n",
    "\n",
    "\n",
    "import copy\n",
    "import time\n",
    "import random as rd\n",
    "\n",
    "# graph = \"BA.adjlist\"\n",
    "# graph = \"ER.adjlist\"\n",
    "graph = \"CO.adjlist\"\n",
    "\n",
    "# eigen = \"BA-pS.txt\"\n",
    "# eigen = \"ER-pS.txt\"\n",
    "eigen = \"CO-pS.txt\""
   ]
  },
  {
   "cell_type": "markdown",
   "id": "579ce106",
   "metadata": {},
   "source": [
    "## Creazione del grafo"
   ]
  },
  {
   "cell_type": "code",
   "execution_count": 2,
   "id": "3852f043",
   "metadata": {},
   "outputs": [],
   "source": [
    "G = nx.read_adjlist(graph)\n",
    "\n",
    "nodes = sorted([int(n) for n in G.nodes])"
   ]
  },
  {
   "cell_type": "code",
   "execution_count": 3,
   "id": "eddf4b21",
   "metadata": {},
   "outputs": [],
   "source": [
    "N = len(G.nodes)"
   ]
  },
  {
   "cell_type": "code",
   "execution_count": 4,
   "id": "4f586996",
   "metadata": {},
   "outputs": [
    {
     "data": {
      "image/png": "[encoded data removed]",
      "text/plain": [
       "<Figure size 432x288 with 1 Axes>"
      ]
     },
     "metadata": {},
     "output_type": "display_data"
    }
   ],
   "source": [
    "nx.draw(G, with_labels=True)    \n",
    "plt.show()"
   ]
  },
  {
   "cell_type": "code",
   "execution_count": 5,
   "id": "7d9b47ad",
   "metadata": {},
   "outputs": [],
   "source": [
    "adjacency = list(G.adjacency())"
   ]
  },
  {
   "cell_type": "code",
   "execution_count": 6,
   "id": "51f3291d",
   "metadata": {},
   "outputs": [],
   "source": [
    "A = []\n",
    "for a, b in adjacency :\n",
    "    A += [[0]*len(adjacency)]\n",
    "\n",
    "for a, b in adjacency :\n",
    "    a = int(a)\n",
    "    for c in b :\n",
    "        c = int(c)\n",
    "        A[a][c] = 1"
   ]
  },
  {
   "cell_type": "markdown",
   "id": "efe7223a",
   "metadata": {},
   "source": [
    "Dinamica prima della rottura di un link"
   ]
  },
  {
   "cell_type": "code",
   "execution_count": 7,
   "id": "0b02a87a",
   "metadata": {},
   "outputs": [],
   "source": [
    "seed = np.random.RandomState()\n",
    "def dynamic_evolution(G, history = []):\n",
    "    evolution = [0] * len(G.nodes)\n",
    "    for n in G.nodes:\n",
    "        for i in range(G.nodes[n]['N_i']):\n",
    "            neighbours = list(G[n])\n",
    "            new_node = _random_subset(neighbours, 1, seed).pop()\n",
    "            evolution[int(new_node)] += 1\n",
    "    for n in G.nodes:\n",
    "        G.nodes[n]['N_i'] = evolution[int(n)]\n",
    "    history += [evolution]"
   ]
  },
  {
   "cell_type": "code",
   "execution_count": 8,
   "id": "be8dfc3a",
   "metadata": {},
   "outputs": [],
   "source": [
    "walker_per_node = int(3e3)"
   ]
  },
  {
   "cell_type": "code",
   "execution_count": 9,
   "id": "7eb99fc8",
   "metadata": {},
   "outputs": [],
   "source": [
    "long_history = [[]]\n",
    "for h in range(len(long_history)):\n",
    "    long_history[h] = [[walker_per_node] * len(G.nodes)]"
   ]
  },
  {
   "cell_type": "code",
   "execution_count": 10,
   "id": "bfd3d07a",
   "metadata": {},
   "outputs": [],
   "source": [
    "time_steps = int(5e1)"
   ]
  },
  {
   "cell_type": "code",
   "execution_count": 11,
   "id": "d9d4646d",
   "metadata": {},
   "outputs": [
    {
     "name": "stdout",
     "output_type": "stream",
     "text": [
      "done in 0 minutes and 33.53268313407898 seconds\n"
     ]
    }
   ],
   "source": [
    "t0 = time.time()\n",
    "\n",
    "for h in range(len(long_history)):\n",
    "    for n in G.nodes:\n",
    "        G.nodes[n]['N_i'] = walker_per_node\n",
    "    \n",
    "    for t in range(time_steps):\n",
    "        dynamic_evolution(G, long_history[h])\n",
    "\n",
    "print(f\"done in {int((time.time()-t0)/60)} minutes and {((time.time()-t0)%60)} seconds\")"
   ]
  },
  {
   "cell_type": "markdown",
   "id": "e4d94d98",
   "metadata": {},
   "source": [
    "## Rimozione di un link"
   ]
  },
  {
   "cell_type": "code",
   "execution_count": 12,
   "id": "e3518b31",
   "metadata": {
    "scrolled": true
   },
   "outputs": [],
   "source": [
    "index = []\n",
    "for i in range(N):\n",
    "    for j in range(i+1, N):\n",
    "        if A[i][j] == 1:\n",
    "            index += [(i,j)]\n",
    "\n",
    "removed_link = index[rd.randint(0, len(index)-1)]\n",
    "links = len(index) - 1\n",
    "\n",
    "G.remove_edge(str(removed_link[0]), str(removed_link[1]))"
   ]
  },
  {
   "cell_type": "code",
   "execution_count": 13,
   "id": "40fa9624",
   "metadata": {},
   "outputs": [
    {
     "name": "stdout",
     "output_type": "stream",
     "text": [
      "It was removed the link between node 1 and node 2\n"
     ]
    }
   ],
   "source": [
    "print(\"It was removed the link between node\", removed_link[0], \"and node\", removed_link[1])"
   ]
  },
  {
   "cell_type": "code",
   "execution_count": 14,
   "id": "a9f11894",
   "metadata": {
    "scrolled": true
   },
   "outputs": [],
   "source": [
    "A[removed_link[0]][removed_link[1]] = 0\n",
    "A[removed_link[1]][removed_link[0]] = 0"
   ]
  },
  {
   "cell_type": "markdown",
   "id": "25effcb0",
   "metadata": {},
   "source": [
    "Calcolare autovalori e autovettori del nuovo grafo dopo la rottura di un link"
   ]
  },
  {
   "cell_type": "code",
   "execution_count": 15,
   "id": "6069cfea",
   "metadata": {},
   "outputs": [
    {
     "name": "stdout",
     "output_type": "stream",
     "text": [
      "Eigenvector found\n",
      "Autovalori di P: [ 1.00000000e+00 -5.00000000e-01 -2.50000000e-01 -5.31778862e-18\n",
      " -2.50000000e-01]\n",
      "Eigenvector found\n",
      "Autovalori di L: [-4.4408921e-16  1.2500000e+00  1.5000000e+00  1.2500000e+00\n",
      "  1.0000000e+00]\n"
     ]
    }
   ],
   "source": [
    "adjacency = list(G.adjacency())\n",
    "A = []\n",
    "for a, b in adjacency :\n",
    "    A += [[0]*len(adjacency)]\n",
    "\n",
    "for a, b in adjacency :\n",
    "    a = int(a)\n",
    "    for c in b :\n",
    "        c = int(c)\n",
    "        A[a][c] = 1\n",
    "        \n",
    "P = []\n",
    "for a, b in adjacency :\n",
    "    P += [[0]*len(adjacency)]\n",
    "    \n",
    "for a, b in adjacency :\n",
    "    a = int(a)\n",
    "    for c in b: \n",
    "        c = int(c)\n",
    "        P[a][c] = 1./G.degree[str(a)]\n",
    "\n",
    "matrixP = np.array(P)\n",
    "autovaloriP, autovettoriP = np.linalg.eig(np.transpose(matrixP))\n",
    "autovettoriP = np.transpose(autovettoriP)\n",
    "\n",
    "diff = [np.abs(autovaloriP[i] - 1) for i in range(N)]\n",
    "minDiff = min(diff)\n",
    "for i in range(N):\n",
    "    if np.abs(autovaloriP[i] - 1) == minDiff:\n",
    "        pS2 = autovettoriP[i]\n",
    "        print(\"Eigenvector found\")\n",
    "        break\n",
    "\n",
    "if pS2[0] < 0:\n",
    "    pS2 = -pS2\n",
    "\n",
    "print('Autovalori di P:', autovaloriP)\n",
    "\n",
    "matrixL = np.identity(N) - matrixP\n",
    "\n",
    "autovaloriL, autovettoriL = np.linalg.eig(np.transpose(matrixL))\n",
    "autovettoriL = np.transpose(autovettoriL)\n",
    "\n",
    "diff = [np.abs(autovaloriL[i]) for i in range(N)]\n",
    "minDiff = min(diff)\n",
    "for i in range(N):\n",
    "    if np.abs(autovaloriL[i]) == minDiff:\n",
    "        pS2_L = autovettoriL[i]\n",
    "        print(\"Eigenvector found\")\n",
    "        break\n",
    "\n",
    "if pS2_L[0] < 0:\n",
    "    pS2_L = -pS2_L\n",
    "\n",
    "print('Autovalori di L:', autovaloriL)"
   ]
  },
  {
   "cell_type": "code",
   "execution_count": 16,
   "id": "94305f61",
   "metadata": {},
   "outputs": [
    {
     "name": "stdout",
     "output_type": "stream",
     "text": [
      "[ True  True  True  True  True]\n"
     ]
    }
   ],
   "source": [
    "i = 13\n",
    "print(np.round(pS2, i) == np.round(pS2_L, i))\n",
    "\n",
    "pS2  = np.round(pS2.real, i)"
   ]
  },
  {
   "cell_type": "markdown",
   "id": "3ab55c98",
   "metadata": {},
   "source": [
    "Dinamica dopo la rottura di un link"
   ]
  },
  {
   "cell_type": "code",
   "execution_count": 17,
   "id": "21e544ac",
   "metadata": {},
   "outputs": [
    {
     "name": "stdout",
     "output_type": "stream",
     "text": [
      "done in 0 minutes and 38.7990996837616 seconds\n"
     ]
    }
   ],
   "source": [
    "t0 = time.time()\n",
    "\n",
    "for h in range(len(long_history)):    \n",
    "    for t in range(time_steps):\n",
    "        dynamic_evolution(G, long_history[h])\n",
    "\n",
    "print(f\"done in {int((time.time()-t0)/60)} minutes and {((time.time()-t0)%60)} seconds\")"
   ]
  },
  {
   "cell_type": "markdown",
   "id": "3863287b",
   "metadata": {},
   "source": [
    "## Otimmizzazione dei pesi"
   ]
  },
  {
   "cell_type": "code",
   "execution_count": 18,
   "id": "3e902d8e",
   "metadata": {},
   "outputs": [
    {
     "name": "stdout",
     "output_type": "stream",
     "text": [
      "There are 9 indipendent weights\n"
     ]
    }
   ],
   "source": [
    "W = symbols(f'w:{links}')\n",
    "print(\"There are\", links, \"indipendent weights\")"
   ]
  },
  {
   "cell_type": "code",
   "execution_count": 19,
   "id": "18335585",
   "metadata": {},
   "outputs": [],
   "source": [
    "count = 0\n",
    "P = copy.deepcopy(A)\n",
    "for i in range(N):\n",
    "    for j in range(i+1, N):\n",
    "        if P[i][j] == 1:\n",
    "            P[i][j] = W[count]\n",
    "            P[j][i] = W[count]\n",
    "            count += 1"
   ]
  },
  {
   "cell_type": "markdown",
   "id": "b1026a0f",
   "metadata": {},
   "source": [
    "2* L'autovettore stazionario non coincide"
   ]
  },
  {
   "cell_type": "raw",
   "id": "ea278fd7",
   "metadata": {},
   "source": [
    "count = 0\n",
    "for i in range(N):\n",
    "    s = sum(P[i])\n",
    "    for j in range(i+1, N):\n",
    "        if P[i][j] != 0:\n",
    "            P[i][j] = W[count]/s\n",
    "            P[j][i] = W[count]/s\n",
    "            count += 1"
   ]
  },
  {
   "cell_type": "code",
   "execution_count": 20,
   "id": "fb861c28",
   "metadata": {},
   "outputs": [],
   "source": [
    "with open(eigen, \"r\") as file:\n",
    "    pS = file.read()\n",
    "    pS = pS.split(\"\\n\")\n",
    "    \n",
    "pS = [float(i) for i in pS[:-1]]\n",
    "pS = np.round(pS, 5)"
   ]
  },
  {
   "cell_type": "code",
   "execution_count": 21,
   "id": "42f2592f",
   "metadata": {},
   "outputs": [],
   "source": [
    "e = np.abs(np.dot(pS, P) - pS)**2\n",
    "E = e[0]\n",
    "for i in range(1, len(e)):\n",
    "    E += e[i]"
   ]
  },
  {
   "cell_type": "markdown",
   "id": "f6734123",
   "metadata": {},
   "source": [
    "1* Aggiungere la normalizzazione dei pesi alla funzione di costo fa ottenere molti autovettori vicini a 1 e l'autovettore stazionario non coincide con il valore atteso."
   ]
  },
  {
   "cell_type": "raw",
   "id": "a5b68de3",
   "metadata": {},
   "source": [
    "for i in range(len(P)):\n",
    "    E += (sum(P[i])-1)**2"
   ]
  },
  {
   "cell_type": "code",
   "execution_count": 22,
   "id": "1c8bc86c",
   "metadata": {
    "scrolled": true
   },
   "outputs": [
    {
     "name": "stdout",
     "output_type": "stream",
     "text": [
      "done in 0 minutes and 0.2760467529296875 seconds\n"
     ]
    }
   ],
   "source": [
    "t0 = time.time()\n",
    "\n",
    "my_func = lambdify(W, E)\n",
    "\n",
    "def my_func_v(x):\n",
    "    return my_func(*tuple(x))\n",
    "\n",
    "x0 = [1/links]*links\n",
    "# solution = minimize(my_func_v, x0, bounds = [[0, np.inf]]*len(x0), constraints=cons).x\n",
    "result = minimize(my_func_v, x0, bounds = [[0, np.inf]]*len(x0),\n",
    "                  method='Nelder-Mead', tol=1e-20, options={'xatol' : 1e-15, 'fatol' : 1e-10})\n",
    "solution = result.x\n",
    "\n",
    "print(f\"done in {int((time.time()-t0)/60)} minutes and {((time.time()-t0)%60)} seconds\")"
   ]
  },
  {
   "cell_type": "code",
   "execution_count": 23,
   "id": "5bfab8f1",
   "metadata": {},
   "outputs": [
    {
     "data": {
      "text/plain": [
       " final_simplex: (array([[0.25876432, 0.31913237, 0.1978216 , 0.22428171, 0.59893824,\n",
       "        0.14229744, 0.12534346, 0.55552416, 0.07789669],\n",
       "       [0.25876432, 0.31913237, 0.1978216 , 0.22428171, 0.59893824,\n",
       "        0.14229744, 0.12534346, 0.55552416, 0.07789669],\n",
       "       [0.25876432, 0.31913237, 0.1978216 , 0.22428171, 0.59893824,\n",
       "        0.14229744, 0.12534346, 0.55552416, 0.07789669],\n",
       "       [0.25876432, 0.31913237, 0.1978216 , 0.22428171, 0.59893824,\n",
       "        0.14229744, 0.12534346, 0.55552416, 0.07789669],\n",
       "       [0.25876432, 0.31913237, 0.1978216 , 0.22428171, 0.59893824,\n",
       "        0.14229744, 0.12534346, 0.55552416, 0.07789669],\n",
       "       [0.25876432, 0.31913237, 0.1978216 , 0.22428171, 0.59893824,\n",
       "        0.14229744, 0.12534346, 0.55552416, 0.07789669],\n",
       "       [0.25876432, 0.31913237, 0.1978216 , 0.22428171, 0.59893824,\n",
       "        0.14229744, 0.12534346, 0.55552416, 0.07789669],\n",
       "       [0.25876432, 0.31913237, 0.1978216 , 0.22428171, 0.59893824,\n",
       "        0.14229744, 0.12534346, 0.55552416, 0.07789669],\n",
       "       [0.25876432, 0.31913237, 0.1978216 , 0.22428171, 0.59893824,\n",
       "        0.14229744, 0.12534346, 0.55552416, 0.07789669],\n",
       "       [0.25876432, 0.31913237, 0.1978216 , 0.22428171, 0.59893824,\n",
       "        0.14229744, 0.12534346, 0.55552416, 0.07789669]]), array([0.00000000e+00, 3.08148791e-33, 6.16297582e-33, 6.16297582e-33,\n",
       "       6.16297582e-33, 1.23259516e-32, 1.23259516e-32, 1.54074396e-32,\n",
       "       1.84889275e-32, 3.08148791e-32]))\n",
       "           fun: 0.0\n",
       "       message: 'Optimization terminated successfully.'\n",
       "          nfev: 1445\n",
       "           nit: 874\n",
       "        status: 0\n",
       "       success: True\n",
       "             x: array([0.25876432, 0.31913237, 0.1978216 , 0.22428171, 0.59893824,\n",
       "       0.14229744, 0.12534346, 0.55552416, 0.07789669])"
      ]
     },
     "execution_count": 23,
     "metadata": {},
     "output_type": "execute_result"
    }
   ],
   "source": [
    "result"
   ]
  },
  {
   "cell_type": "code",
   "execution_count": 24,
   "id": "a565c3af",
   "metadata": {},
   "outputs": [],
   "source": [
    "count = 0\n",
    "P_new = copy.deepcopy(A)\n",
    "for i in range(N):\n",
    "    for j in range(i+1, N):\n",
    "        if P_new[i][j] == 1:\n",
    "            P_new[i][j] = solution[count]\n",
    "            P_new[j][i] = solution[count]\n",
    "            count += 1"
   ]
  },
  {
   "cell_type": "markdown",
   "id": "69366a94",
   "metadata": {},
   "source": [
    "2* l'autovettore stazionario non coincide con quello atteso"
   ]
  },
  {
   "cell_type": "raw",
   "id": "4638f1d5",
   "metadata": {},
   "source": [
    "for i in range(len(P_new)):\n",
    "    s = sum(P_new[i])\n",
    "    for j in range(len(P_new[i])):\n",
    "        P_new[i][j] = P_new[i][j]/s"
   ]
  },
  {
   "cell_type": "raw",
   "id": "bb0deb87",
   "metadata": {},
   "source": [
    "print(P_new)"
   ]
  },
  {
   "cell_type": "markdown",
   "id": "bb3c6e72",
   "metadata": {},
   "source": [
    "Calcolo dei nuovi autovalori e autovettori dopo l'ottimizzazione"
   ]
  },
  {
   "cell_type": "code",
   "execution_count": 25,
   "id": "3165eeb8",
   "metadata": {},
   "outputs": [],
   "source": [
    "matrixP = np.array(P_new)"
   ]
  },
  {
   "cell_type": "code",
   "execution_count": 26,
   "id": "b4f44642",
   "metadata": {},
   "outputs": [],
   "source": [
    "autovaloriP, autovettoriP = np.linalg.eig(np.transpose(matrixP))\n",
    "autovettoriP = np.transpose(autovettoriP)"
   ]
  },
  {
   "cell_type": "code",
   "execution_count": 27,
   "id": "f30ce06f",
   "metadata": {},
   "outputs": [
    {
     "name": "stdout",
     "output_type": "stream",
     "text": [
      "Eigenvector found\n"
     ]
    },
    {
     "data": {
      "text/plain": [
       "array([ 1.    ,  0.4101, -0.235 , -0.6909, -0.4843])"
      ]
     },
     "execution_count": 27,
     "metadata": {},
     "output_type": "execute_result"
    }
   ],
   "source": [
    "diff = [np.abs(autovaloriP[i] - 1) for i in range(N)]\n",
    "minDiff = min(diff)\n",
    "for i in range(N):\n",
    "    if np.abs(autovaloriP[i] - 1) == minDiff:\n",
    "        pS_new = autovettoriP[i]\n",
    "        print(\"Eigenvector found\")\n",
    "        break\n",
    "\n",
    "np.round(autovaloriP.real, 4)"
   ]
  },
  {
   "cell_type": "code",
   "execution_count": 28,
   "id": "6d4f745d",
   "metadata": {},
   "outputs": [],
   "source": [
    "if pS_new[0] < 0:\n",
    "    pS_new = -pS_new"
   ]
  },
  {
   "cell_type": "code",
   "execution_count": 29,
   "id": "da252db0",
   "metadata": {},
   "outputs": [],
   "source": [
    "pS_new = pS_new.real"
   ]
  },
  {
   "cell_type": "code",
   "execution_count": 30,
   "id": "42c6068e",
   "metadata": {},
   "outputs": [
    {
     "name": "stdout",
     "output_type": "stream",
     "text": [
      "1.0\n",
      "1.0\n",
      "1.0\n",
      "1.0\n"
     ]
    }
   ],
   "source": [
    "for i in range(4):\n",
    "    print(sum(P_new[i]))"
   ]
  },
  {
   "cell_type": "markdown",
   "id": "384ebc43",
   "metadata": {},
   "source": [
    "Dinamica dopo l'ottimizzazione dei pesi"
   ]
  },
  {
   "cell_type": "code",
   "execution_count": 31,
   "id": "a00c0924",
   "metadata": {},
   "outputs": [],
   "source": [
    "seed = np.random.RandomState()\n",
    "def dynamic_evolution_after(G, P_new, history = []):\n",
    "    evolution = [0]*N\n",
    "    for n in G.nodes:\n",
    "        for i in range(G.nodes[n]['N_i']):\n",
    "            neightbours = []\n",
    "            n = int(n)\n",
    "            for ind in range(len(P_new)):\n",
    "                if P_new[n][ind] != 0:\n",
    "                    if len(neightbours) != 0:\n",
    "                        neightbours += [[ind, P_new[n][ind] + neightbours[-1][1]]]\n",
    "                    else:\n",
    "                        neightbours = [[ind, P_new[n][ind]]]\n",
    "            s = sum(P_new[n])\n",
    "            prob = rd.uniform(0., s)\n",
    "\n",
    "            for neigh, p in neightbours:\n",
    "                if prob <= p:\n",
    "                    evolution[neigh] += 1\n",
    "                    break\n",
    "    for n in G.nodes:\n",
    "        G.nodes[n]['N_i'] = evolution[int(n)]\n",
    "    history += [evolution]"
   ]
  },
  {
   "cell_type": "code",
   "execution_count": 32,
   "id": "a33bdcc2",
   "metadata": {},
   "outputs": [],
   "source": [
    "history = [[], [], []]\n",
    "for h in range(len(history)):\n",
    "    history[h] = [[walker_per_node] * len(G.nodes)]"
   ]
  },
  {
   "cell_type": "code",
   "execution_count": 33,
   "id": "6d8dcf51",
   "metadata": {},
   "outputs": [
    {
     "name": "stdout",
     "output_type": "stream",
     "text": [
      "done in 0 minutes and 7.568663120269775 seconds\n"
     ]
    }
   ],
   "source": [
    "t0 = time.time()\n",
    "\n",
    "for h in range(len(long_history)):\n",
    "    h = int(h)\n",
    "    for t in range(time_steps):\n",
    "        dynamic_evolution_after(G, P_new, long_history[h])\n",
    "\n",
    "print(f\"done in {int((time.time()-t0)/60)} minutes and {((time.time()-t0)%60)} seconds\")"
   ]
  },
  {
   "cell_type": "code",
   "execution_count": 34,
   "id": "2eab849b",
   "metadata": {},
   "outputs": [],
   "source": [
    "time_steps = int(5e1)"
   ]
  },
  {
   "cell_type": "code",
   "execution_count": 35,
   "id": "b74b670d",
   "metadata": {},
   "outputs": [
    {
     "name": "stdout",
     "output_type": "stream",
     "text": [
      "done in 0 minutes and 21.25119686126709 seconds\n"
     ]
    }
   ],
   "source": [
    "t0 = time.time()\n",
    "\n",
    "for h in range(len(history)):\n",
    "    h = int(h)\n",
    "    for n in G.nodes:\n",
    "        G.nodes[n]['N_i'] = walker_per_node\n",
    "    \n",
    "    for t in range(time_steps):\n",
    "        dynamic_evolution_after(G, P_new, history[h])\n",
    "\n",
    "print(f\"done in {int((time.time()-t0)/60)} minutes and {((time.time()-t0)%60)} seconds\")"
   ]
  },
  {
   "cell_type": "markdown",
   "id": "384b33b5",
   "metadata": {},
   "source": [
    "## Rappresentazione dei risultati"
   ]
  },
  {
   "cell_type": "code",
   "execution_count": 36,
   "id": "304008d7",
   "metadata": {},
   "outputs": [
    {
     "data": {
      "image/png": "[encoded data removed]",
      "text/plain": [
       "<Figure size 288x720 with 2 Axes>"
      ]
     },
     "metadata": {
      "needs_background": "light"
     },
     "output_type": "display_data"
    },
    {
     "name": "stdout",
     "output_type": "stream",
     "text": [
      "Solution found minimizing 5 equation in 9 variables\n"
     ]
    }
   ],
   "source": [
    "fig, ax = plt.subplots(nrows = 2, ncols = 1, figsize=(0.8*N, 10))\n",
    "\n",
    "pSNorm = [h/sum(pS) for h in pS]\n",
    "pS2Norm = [h/sum(pS2) for h in pS2]\n",
    "pSNorm_new = [h/sum(abs(pS_new)) for h in pS_new]\n",
    "\n",
    "ax[0].bar(nodes, pSNorm, width=0.4, align='edge', color='blue', label=\"original eigenvector\")\n",
    "ax[0].bar(nodes, pSNorm_new, width=-0.4, align='edge', color='orange', label=\"new eigenvector\")\n",
    "ax[0].bar(nodes, pS2Norm, width=-0.2, align='edge', color='red', label=\"perturbed eigenvector\")\n",
    "\n",
    "hMean = [[(h1+h2+h3)/walker_per_node/N/3 \n",
    "          for h1, h2, h3 in zip(history[0][i], history[1][i], history[2][i])] \n",
    "         for i in range(len(history[0]))]\n",
    "\n",
    "ax[1].bar(nodes, [h/sum(history[0][-1]) for h in history[0][-1]], width=0.4, \n",
    "          align='edge', color='tab:cyan', label='relaxed distribution')\n",
    "ax[1].bar(nodes, hMean[-1], width=0.2, align='edge', color='blue', label='mean relaxed distribution')\n",
    "ax[1].bar(nodes, pSNorm_new, width=-0.4, align='edge', color='orange', label=\"new eigenvector\")\n",
    "\n",
    "for i in [0,1]:\n",
    "    ax[i].legend()\n",
    "    ax[i].set_xlabel(\"Nodes\")\n",
    "    ax[i].set_ylabel(\"Occupation (%)\")\n",
    "    ax[i].set_xticks(np.arange(0, N, 1))\n",
    "#     ax[i].grid(True)\n",
    "\n",
    "plt.show()\n",
    "\n",
    "print(f\"Solution found minimizing {N} equation in {links} variables\")"
   ]
  },
  {
   "cell_type": "code",
   "execution_count": 37,
   "id": "17ba9f03",
   "metadata": {},
   "outputs": [
    {
     "data": {
      "image/png": "[encoded data removed]",
      "text/plain": [
       "<Figure size 144x360 with 1 Axes>"
      ]
     },
     "metadata": {
      "needs_background": "light"
     },
     "output_type": "display_data"
    },
    {
     "name": "stdout",
     "output_type": "stream",
     "text": [
      "0.0001542483660130723\n"
     ]
    }
   ],
   "source": [
    "fig, ax = plt.subplots(nrows = 1, ncols = 1, figsize=(0.4*N, 5))\n",
    "\n",
    "ax.bar(nodes, [h/sum(history[0][-1]) - k for h, k in zip(history[0][-1], pSNorm_new)], width=0.4, \n",
    "       align='edge', color='tab:cyan', label='relaxed distribution')\n",
    "ax.bar(nodes, [h - k for h, k in zip(hMean[-1], pSNorm_new)],\n",
    "       width=0.2, align='edge', color='blue', label='mean relaxed distribution')\n",
    "\n",
    "ax.legend()\n",
    "ax.set_xlabel(\"Nodes\")\n",
    "ax.set_ylabel(\"Occupation difference(%)\")\n",
    "ax.set_xticks(np.arange(0, N, 1))\n",
    "# ax.grid(True)\n",
    "\n",
    "plt.show()\n",
    "\n",
    "print(sum([np.abs(h - k) for h, k in zip(hMean[-1], pSNorm_new)])/len(history[0]))"
   ]
  },
  {
   "cell_type": "code",
   "execution_count": 38,
   "id": "55b4d6da",
   "metadata": {},
   "outputs": [
    {
     "data": {
      "image/png": "[encoded data removed]",
      "text/plain": [
       "<Figure size 432x288 with 1 Axes>"
      ]
     },
     "metadata": {
      "needs_background": "light"
     },
     "output_type": "display_data"
    }
   ],
   "source": [
    "fig, ax = plt.subplots(nrows = 1, ncols = 1)\n",
    "node = [0, 2]\n",
    "color = ['red', 'orange', 'blue', 'green', 'purple']\n",
    "\n",
    "time_range = hMean\n",
    "index = np.arange(0, len(time_range), 1)\n",
    "\n",
    "col = 0\n",
    "for i in node:\n",
    "    ax.plot(index, [time_range[ind][i] for ind in index], label = f\"Node {i}\", color = color[col])\n",
    "    ax.plot(index, [pSNorm_new[i]]*len(index), label = f\"Expected value for node {i}\", color = color[col])\n",
    "    col += 1\n",
    "    \n",
    "ax.set_xlabel(\"Time steps\")\n",
    "ax.set_ylabel(\"Density of walkers per node\")\n",
    "ax.legend()\n",
    "\n",
    "plt.show()"
   ]
  },
  {
   "cell_type": "markdown",
   "id": "79c900e8",
   "metadata": {},
   "source": [
    "## Evoluzione dinamica totale"
   ]
  },
  {
   "cell_type": "code",
   "execution_count": 39,
   "id": "78cc0afd",
   "metadata": {},
   "outputs": [
    {
     "data": {
      "image/png": "[encoded data removed]",
      "text/plain": [
       "<Figure size 1080x288 with 1 Axes>"
      ]
     },
     "metadata": {
      "needs_background": "light"
     },
     "output_type": "display_data"
    }
   ],
   "source": [
    "fig, ax = plt.subplots(nrows = 1, ncols = 1, figsize=(15, 4))\n",
    "# node = nodes\n",
    "# color = ['red', 'orange', 'blue', 'green']\n",
    "\n",
    "time_range = long_history[0]\n",
    "index = np.arange(0, len(time_range), 1)\n",
    "index2 = np.arange(time_steps, 2*time_steps, 1)\n",
    "\n",
    "col = 0\n",
    "for i in node:\n",
    "    ax.plot(index, [time_range[ind][i]/walker_per_node/N for ind in index], label = f\"Node {i}\", color = color[col])\n",
    "    ax.plot(index, [pSNorm[i]]*len(index), label = f\"Expected value for node {i}\", color = color[col])\n",
    "    ax.plot(index2, [pS2Norm[i]]*len(index2), label = f\"Perturbed value for node {i}\", color = color[col])\n",
    "    \n",
    "#     index2 = np.arange(2*time_steps, 3*time_steps, 5)\n",
    "#     ax.plot(index2, [time_range[ind][i]/walker_per_node/N for ind in index2], label = f\"Node {i}\", color = color[col])\n",
    "\n",
    "    col += 1\n",
    "    \n",
    "ax.set_xlabel(\"Time steps\")\n",
    "ax.set_ylabel(\"Density of walkers per node\")\n",
    "ax.legend()\n",
    "\n",
    "plt.show()"
   ]
  }
 ],
 "metadata": {
  "kernelspec": {
   "display_name": "Python 3 (ipykernel)",
   "language": "python",
   "name": "python3"
  },
  "language_info": {
   "codemirror_mode": {
    "name": "ipython",
    "version": 3
   },
   "file_extension": ".py",
   "mimetype": "text/x-python",
   "name": "python",
   "nbconvert_exporter": "python",
   "pygments_lexer": "ipython3",
   "version": "3.9.7"
  }
 },
 "nbformat": 4,
 "nbformat_minor": 5
}
