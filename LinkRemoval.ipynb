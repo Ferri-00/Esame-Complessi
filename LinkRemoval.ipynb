{
 "cells": [
  {
   "cell_type": "code",
   "execution_count": 1,
   "id": "9da802ed",
   "metadata": {},
   "outputs": [],
   "source": [
    "import networkx as nx\n",
    "from networkx.generators.random_graphs import _random_subset\n",
    "import sympy as sp\n",
    "from sympy import symbols \n",
    "import numpy as np\n",
    "import matplotlib.pyplot as plt\n",
    "from scipy.optimize import minimize\n",
    "from sympy.utilities.lambdify import lambdify\n",
    "\n",
    "\n",
    "import copy\n",
    "import time\n",
    "import random as rd"
   ]
  },
  {
   "cell_type": "code",
   "execution_count": 2,
   "id": "3852f043",
   "metadata": {},
   "outputs": [],
   "source": [
    "G = nx.read_adjlist(\"BA.adjlist\")"
   ]
  },
  {
   "cell_type": "code",
   "execution_count": 3,
   "id": "eddf4b21",
   "metadata": {},
   "outputs": [],
   "source": [
    "N = len(G.nodes)"
   ]
  },
  {
   "cell_type": "code",
   "execution_count": 4,
   "id": "4f586996",
   "metadata": {},
   "outputs": [
    {
     "data": {
      "image/png": "[encoded data removed]",
      "text/plain": [
       "<Figure size 432x288 with 1 Axes>"
      ]
     },
     "metadata": {},
     "output_type": "display_data"
    }
   ],
   "source": [
    "nx.draw(G, with_labels=True)    \n",
    "plt.show()"
   ]
  },
  {
   "cell_type": "code",
   "execution_count": 5,
   "id": "7d9b47ad",
   "metadata": {},
   "outputs": [],
   "source": [
    "adjacency = list(G.adjacency())"
   ]
  },
  {
   "cell_type": "code",
   "execution_count": 6,
   "id": "51f3291d",
   "metadata": {},
   "outputs": [],
   "source": [
    "A = []\n",
    "for a, b in adjacency :\n",
    "    A += [[0]*len(adjacency)]\n",
    "\n",
    "for a, b in adjacency :\n",
    "    a = int(a)\n",
    "    for c in b :\n",
    "        c = int(c)\n",
    "        A[a][c] = 1"
   ]
  },
  {
   "cell_type": "code",
   "execution_count": 7,
   "id": "e3518b31",
   "metadata": {
    "scrolled": true
   },
   "outputs": [],
   "source": [
    "index = []\n",
    "for i in range(N):\n",
    "    for j in range(i+1, N):\n",
    "        if A[i][j] == 1:\n",
    "            index += [(i,j)]\n",
    "\n",
    "removed_link = index[rd.randint(0, len(index)-1)]\n",
    "links = len(index) - 1"
   ]
  },
  {
   "cell_type": "code",
   "execution_count": 8,
   "id": "40fa9624",
   "metadata": {},
   "outputs": [
    {
     "name": "stdout",
     "output_type": "stream",
     "text": [
      "It was removed the link between node 1 and node 6\n"
     ]
    }
   ],
   "source": [
    "print(\"It was removed the link between node\", removed_link[0], \"and node\", removed_link[1])"
   ]
  },
  {
   "cell_type": "code",
   "execution_count": 9,
   "id": "a9f11894",
   "metadata": {
    "scrolled": true
   },
   "outputs": [],
   "source": [
    "A[removed_link[0]][removed_link[1]] = 0\n",
    "A[removed_link[1]][removed_link[0]] = 0"
   ]
  },
  {
   "cell_type": "code",
   "execution_count": 10,
   "id": "3e902d8e",
   "metadata": {},
   "outputs": [
    {
     "name": "stdout",
     "output_type": "stream",
     "text": [
      "There are 15 indipendent weights\n"
     ]
    }
   ],
   "source": [
    "W = symbols(f'w:{links}')\n",
    "print(\"There are\", links, \"indipendent weights\")"
   ]
  },
  {
   "cell_type": "code",
   "execution_count": 11,
   "id": "18335585",
   "metadata": {},
   "outputs": [],
   "source": [
    "count = 0\n",
    "P = copy.deepcopy(A)\n",
    "for i in range(N):\n",
    "    for j in range(i+1, N):\n",
    "        if P[i][j] == 1:\n",
    "            P[i][j] = W[count]\n",
    "            P[j][i] = W[count]\n",
    "            count += 1"
   ]
  },
  {
   "cell_type": "markdown",
   "id": "b1026a0f",
   "metadata": {},
   "source": [
    "2* L'autovettore stazionario non coincide"
   ]
  },
  {
   "cell_type": "raw",
   "id": "ea278fd7",
   "metadata": {},
   "source": [
    "count = 0\n",
    "for i in range(N):\n",
    "    s = sum(P[i])\n",
    "    for j in range(i+1, N):\n",
    "        if P[i][j] != 0:\n",
    "            P[i][j] = W[count]/s\n",
    "            P[j][i] = W[count]/s\n",
    "            count += 1"
   ]
  },
  {
   "cell_type": "code",
   "execution_count": 12,
   "id": "fb861c28",
   "metadata": {},
   "outputs": [],
   "source": [
    "with open(\"BA-pS.txt\", \"r\") as file:\n",
    "    pS = file.read()\n",
    "    pS = pS.split(\"\\n\")\n",
    "pS = [float(i) for i in pS]\n",
    "pS = np.round(pS, 5)"
   ]
  },
  {
   "cell_type": "code",
   "execution_count": 13,
   "id": "42f2592f",
   "metadata": {},
   "outputs": [],
   "source": [
    "e = (np.dot(pS, P) - pS)**2\n",
    "E = e[0]\n",
    "for i in range(1, len(e)):\n",
    "    E += e[i]"
   ]
  },
  {
   "cell_type": "markdown",
   "id": "f6734123",
   "metadata": {},
   "source": [
    "1* Aggiungere la normalizzazione dei pesi alla funzione di costo fa ottenere molti autovettori vicini a 1 e l'autovettore stazionario non coincide con il valore atteso."
   ]
  },
  {
   "cell_type": "raw",
   "id": "a5b68de3",
   "metadata": {},
   "source": [
    "for i in range(len(P)):\n",
    "    E += (sum(P[i])-1)**2"
   ]
  },
  {
   "cell_type": "code",
   "execution_count": 14,
   "id": "1c8bc86c",
   "metadata": {
    "scrolled": true
   },
   "outputs": [
    {
     "name": "stdout",
     "output_type": "stream",
     "text": [
      "done in 0 minutes and 0.05603814125061035 seconds\n"
     ]
    }
   ],
   "source": [
    "t0 = time.time()\n",
    "\n",
    "my_func = lambdify(W, E)\n",
    "\n",
    "def my_func_v(x):\n",
    "    return my_func(*tuple(x))\n",
    "\n",
    "# def cons1(x, i):\n",
    "#     C = (sum(P[i])-1)**2\n",
    "#     func = lambdify(W, C)\n",
    "#     return func(*tuple(x))\n",
    "\n",
    "# cons = ([{'type' : 'eq', 'fun': lambda x: cons1(x, i)} for i in range(len(P))])\n",
    "\n",
    "x0 = [1/links]*links\n",
    "# solution = minimize(my_func_v, x0, bounds = [[0, np.inf]]*len(x0), constraints=cons).x\n",
    "result = minimize(my_func_v, x0, bounds = [[0, np.inf]]*len(x0), tol = 1e-6)\n",
    "solution = result.x\n",
    "\n",
    "print(f\"done in {int((time.time()-t0)/60)} minutes and {((time.time()-t0)%60)} seconds\")"
   ]
  },
  {
   "cell_type": "code",
   "execution_count": 15,
   "id": "a565c3af",
   "metadata": {},
   "outputs": [],
   "source": [
    "count = 0\n",
    "P_new = copy.deepcopy(A)\n",
    "for i in range(N):\n",
    "    for j in range(i+1, N):\n",
    "        if P_new[i][j] == 1:\n",
    "            P_new[i][j] = solution[count]\n",
    "            P_new[j][i] = solution[count]\n",
    "            count += 1"
   ]
  },
  {
   "cell_type": "markdown",
   "id": "69366a94",
   "metadata": {},
   "source": [
    "2* l'autovettore stazionario non coincide con quello atteso"
   ]
  },
  {
   "cell_type": "raw",
   "id": "4638f1d5",
   "metadata": {},
   "source": [
    "for i in range(len(P_new)):\n",
    "    s = sum(P_new[i])\n",
    "    for j in range(len(P_new[i])):\n",
    "        P_new[i][j] = P_new[i][j]/s"
   ]
  },
  {
   "cell_type": "raw",
   "id": "f9dd625e",
   "metadata": {},
   "source": [
    "print(P_new)"
   ]
  },
  {
   "cell_type": "code",
   "execution_count": 16,
   "id": "3165eeb8",
   "metadata": {},
   "outputs": [],
   "source": [
    "matrixP = np.array(P_new)"
   ]
  },
  {
   "cell_type": "code",
   "execution_count": 17,
   "id": "b4f44642",
   "metadata": {},
   "outputs": [],
   "source": [
    "autovaloriP, autovettoriP = np.linalg.eig(np.transpose(matrixP))\n",
    "autovettoriP = np.transpose(autovettoriP)"
   ]
  },
  {
   "cell_type": "code",
   "execution_count": 18,
   "id": "f30ce06f",
   "metadata": {},
   "outputs": [
    {
     "name": "stdout",
     "output_type": "stream",
     "text": [
      "Eigenvector found\n"
     ]
    },
    {
     "data": {
      "text/plain": [
       "array([ 1.    , -0.8027,  0.6131, -0.6328, -0.2469,  0.1371,  0.0792,\n",
       "        0.0216, -0.0702, -0.0982])"
      ]
     },
     "execution_count": 18,
     "metadata": {},
     "output_type": "execute_result"
    }
   ],
   "source": [
    "for i in range(N):\n",
    "    if np.round(autovaloriP[i], 1) == 1:\n",
    "        pS_new = autovettoriP[i]\n",
    "        print(\"Eigenvector found\")\n",
    "        break\n",
    "np.round(autovaloriP.real, 4)"
   ]
  },
  {
   "cell_type": "code",
   "execution_count": 19,
   "id": "6d4f745d",
   "metadata": {},
   "outputs": [],
   "source": [
    "if pS_new[0] < 0:\n",
    "    pS_new = -pS_new"
   ]
  },
  {
   "cell_type": "code",
   "execution_count": 20,
   "id": "da252db0",
   "metadata": {},
   "outputs": [],
   "source": [
    "pS_new = pS_new.real"
   ]
  },
  {
   "cell_type": "code",
   "execution_count": 21,
   "id": "7fd1f2ed",
   "metadata": {
    "scrolled": true
   },
   "outputs": [
    {
     "data": {
      "image/png": "[encoded data removed]",
      "text/plain": [
       "<Figure size 360x360 with 1 Axes>"
      ]
     },
     "metadata": {
      "needs_background": "light"
     },
     "output_type": "display_data"
    }
   ],
   "source": [
    "fig, ax = plt.subplots(figsize=(0.5*N, 5))\n",
    "\n",
    "pSNorm = [h/sum(pS) for h in pS]\n",
    "pSNorm_new = [abs(h)/sum(abs(pS_new)) for h in pS_new]\n",
    "nodes = sorted([int(n) for n in G.nodes])\n",
    "\n",
    "ax.bar(nodes, pSNorm, width=0.4, align='edge', color='blue', label=\"original eigenvector\")\n",
    "ax.bar(nodes, pSNorm_new, width=-0.4, align='edge', color='orange', label=\"new eigenvector\")\n",
    "\n",
    "ax.set_xticks(np.arange(0, N, 1))\n",
    "ax.legend()\n",
    "plt.show()"
   ]
  },
  {
   "cell_type": "code",
   "execution_count": 22,
   "id": "42c6068e",
   "metadata": {},
   "outputs": [
    {
     "name": "stdout",
     "output_type": "stream",
     "text": [
      "1.4438939139433367\n",
      "1.7120173457970593\n",
      "0.697193879092932\n",
      "1.2997865011975955\n",
      "0.40737276506163916\n",
      "0.5696898630441988\n",
      "0.49982538346315913\n",
      "0.40539265700128846\n",
      "0.3855428212009152\n",
      "0.3331545226556583\n"
     ]
    }
   ],
   "source": [
    "for i in range(len(P_new)):\n",
    "    print(sum(P_new[i]))"
   ]
  },
  {
   "cell_type": "code",
   "execution_count": 23,
   "id": "6441d266",
   "metadata": {},
   "outputs": [],
   "source": [
    "walker_per_node = 200"
   ]
  },
  {
   "cell_type": "code",
   "execution_count": 24,
   "id": "a00c0924",
   "metadata": {},
   "outputs": [],
   "source": [
    "seed = np.random.RandomState()\n",
    "def dynamic_evolution(G, P_new, history = []):\n",
    "    evolution = [0] * N\n",
    "    for n in G.nodes:\n",
    "        for i in range(G.nodes[n]['N_i']):\n",
    "            neightbours = []\n",
    "            n = int(n)\n",
    "            for ind in range(len(P_new[n])):\n",
    "                if P_new[n][ind] != 0:\n",
    "                    if len(neightbours) != 0:\n",
    "                        neightbours += [[ind, P_new[n][ind] + neightbours[-1][1]]]\n",
    "                    else:\n",
    "                        neightbours += [[ind, P_new[n][ind]]]\n",
    "            s = sum(P_new[n])\n",
    "            prob = rd.uniform(0., s)\n",
    "\n",
    "            for neigh, p in neightbours:\n",
    "                if prob <= p:\n",
    "                    evolution[neigh] += 1\n",
    "                    break\n",
    "    for n in G.nodes:\n",
    "        G.nodes[n]['N_i'] = evolution[int(n)]\n",
    "    history += [evolution]"
   ]
  },
  {
   "cell_type": "code",
   "execution_count": 25,
   "id": "3ad02072",
   "metadata": {},
   "outputs": [],
   "source": [
    "history = [[], [], []]\n",
    "for h in range(len(history)):\n",
    "    history[h] = [[walker_per_node] * len(G.nodes)]"
   ]
  },
  {
   "cell_type": "code",
   "execution_count": 26,
   "id": "f123d8c5",
   "metadata": {},
   "outputs": [],
   "source": [
    "time_steps = int(5e1)"
   ]
  },
  {
   "cell_type": "code",
   "execution_count": 27,
   "id": "b74b670d",
   "metadata": {},
   "outputs": [
    {
     "name": "stdout",
     "output_type": "stream",
     "text": [
      "done in 0 minutes and 2.0486643314361572 seconds\n"
     ]
    }
   ],
   "source": [
    "t0 = time.time()\n",
    "\n",
    "for h in range(len(history)):\n",
    "    h = int(h)\n",
    "    for n in G.nodes:\n",
    "        G.nodes[n]['N_i'] = walker_per_node\n",
    "    \n",
    "    for t in range(time_steps):\n",
    "#         t1 = time.time()\n",
    "        dynamic_evolution(G, P_new, history[h])\n",
    "#         print(f\"done in {int((time.time()-t1)/60)} minutes and {((time.time()-t1)%60)} seconds\")\n",
    "\n",
    "print(f\"done in {int((time.time()-t0)/60)} minutes and {((time.time()-t0)%60)} seconds\")"
   ]
  },
  {
   "cell_type": "code",
   "execution_count": 28,
   "id": "304008d7",
   "metadata": {},
   "outputs": [
    {
     "data": {
      "image/png": "[encoded data removed]",
      "text/plain": [
       "<Figure size 360x720 with 2 Axes>"
      ]
     },
     "metadata": {
      "needs_background": "light"
     },
     "output_type": "display_data"
    }
   ],
   "source": [
    "fig, ax = plt.subplots(nrows = 2, ncols = 1, figsize=(0.5*N, 10))\n",
    "\n",
    "pSNorm = [h/sum(pS) for h in pS]\n",
    "pSNorm_new = [h/sum(abs(pS_new)) for h in pS_new]\n",
    "nodes = sorted([int(n) for n in G.nodes])\n",
    "\n",
    "ax[0].bar(nodes, pSNorm, width=0.4, align='edge', color='blue', label=\"original eigenvector\")\n",
    "ax[0].bar(nodes, pSNorm_new, width=-0.4, align='edge', color='orange', label=\"new eigenvector\")\n",
    "\n",
    "hMean = [[(h1+h2+h3)/walker_per_node/N/3 \n",
    "          for h1, h2, h3 in zip(history[0][i], history[1][i], history[2][i])] \n",
    "         for i in range(len(history[0]))]\n",
    "\n",
    "ax[1].bar(nodes, [h/sum(history[0][-1]) for h in history[0][-1]], width=0.4, \n",
    "          align='edge', color='tab:cyan', label='relaxed distribution')\n",
    "ax[1].bar(nodes, hMean[-1], width=0.2, align='edge', color='blue', label='mean relaxed distribution')\n",
    "ax[1].bar(nodes, pSNorm_new, width=-0.4, align='edge', color='orange', label=\"new eigenvector\")\n",
    "\n",
    "for i in [0,1]:\n",
    "    ax[i].legend()\n",
    "    ax[i].set_xlabel(\"Nodes\")\n",
    "    ax[i].set_ylabel(\"Occupation (%)\")\n",
    "    ax[i].set_xticks(np.arange(0, N, 1))\n",
    "#     ax[i].grid(True)\n",
    "\n",
    "\n",
    "plt.show()"
   ]
  },
  {
   "cell_type": "code",
   "execution_count": 34,
   "id": "378d7c8d",
   "metadata": {},
   "outputs": [
    {
     "data": {
      "image/png": "[encoded data removed]",
      "text/plain": [
       "<Figure size 216x360 with 1 Axes>"
      ]
     },
     "metadata": {
      "needs_background": "light"
     },
     "output_type": "display_data"
    },
    {
     "name": "stdout",
     "output_type": "stream",
     "text": [
      "0.003555486774447578\n"
     ]
    }
   ],
   "source": [
    "fig, ax = plt.subplots(nrows = 1, ncols = 1, figsize=(0.3*N, 5))\n",
    "\n",
    "ax.bar(nodes, [h/sum(history[0][-1]) - k for h, k in zip(history[0][-1], pSNorm_new)], width=0.4, \n",
    "       align='edge', color='tab:cyan', label='relaxed distribution')\n",
    "ax.bar(nodes, [(h1+h2+h3)/(sum(history[0][-1]) + sum(history[1][-1]) + sum(history[2][-1])) - k \n",
    "                 for h1, h2, h3, k in zip(history[0][-1], history[1][-1], history[2][-1], pSNorm)],\n",
    "       width=0.2, align='edge', color='blue', label='mean relaxed distribution')\n",
    "\n",
    "ax.legend()\n",
    "ax.set_xlabel(\"Nodes\")\n",
    "ax.set_ylabel(\"Occupation difference(%)\")\n",
    "ax.set_xticks(np.arange(0, N, 1))\n",
    "# ax.grid(True)\n",
    "\n",
    "plt.show()\n",
    "\n",
    "print(sum([np.abs((h1+h2+h3)/(sum(history[0][-1]) + sum(history[1][-1]) + sum(history[2][-1])) - k)\n",
    "                 for h1, h2, h3, k in zip(history[0][-1], history[1][-1], history[2][-1], pSNorm)])/len(history[0]))"
   ]
  },
  {
   "cell_type": "code",
   "execution_count": 30,
   "id": "a7104643",
   "metadata": {},
   "outputs": [
    {
     "data": {
      "image/png": "[encoded data removed]",
      "text/plain": [
       "<Figure size 432x288 with 1 Axes>"
      ]
     },
     "metadata": {
      "needs_background": "light"
     },
     "output_type": "display_data"
    }
   ],
   "source": [
    "fig, ax = plt.subplots(nrows = 1, ncols = 1)\n",
    "node = [0, 2, 6]\n",
    "\n",
    "time_range = hMean\n",
    "index = np.arange(0, len(time_range), 2)\n",
    "\n",
    "for i in node:\n",
    "    ax.plot(index, [time_range[ind][i] for ind in index], label = f\"Node {i}\")\n",
    "    ax.plot(index, [pSNorm_new[i]]*len(index), label = f\"Expected value for node {i}\")\n",
    "    \n",
    "ax.set_xlabel(\"Time steps\")\n",
    "ax.set_ylabel(\"Density of walkers per node\")\n",
    "ax.legend()\n",
    "\n",
    "plt.show()"
   ]
  },
  {
   "cell_type": "code",
   "execution_count": null,
   "id": "feeb392c",
   "metadata": {},
   "outputs": [],
   "source": []
  }
 ],
 "metadata": {
  "kernelspec": {
   "display_name": "Python 3 (ipykernel)",
   "language": "python",
   "name": "python3"
  },
  "language_info": {
   "codemirror_mode": {
    "name": "ipython",
    "version": 3
   },
   "file_extension": ".py",
   "mimetype": "text/x-python",
   "name": "python",
   "nbconvert_exporter": "python",
   "pygments_lexer": "ipython3",
   "version": "3.10.4"
  }
 },
 "nbformat": 4,
 "nbformat_minor": 5
}
