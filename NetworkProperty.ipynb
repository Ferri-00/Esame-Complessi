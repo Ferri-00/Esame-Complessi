{
 "cells": [
  {
   "cell_type": "code",
   "execution_count": 17,
   "id": "cf65d71a",
   "metadata": {},
   "outputs": [],
   "source": [
    "import networkx as nx\n",
    "from networkx.utils import py_random_state\n",
    "from networkx.generators.random_graphs import _random_subset\n",
    "from networkx.generators.classic import star_graph\n",
    "import scipy.stats as stats\n",
    "\n",
    "from scipy.optimize import curve_fit\n",
    "import numpy as np\n",
    "\n",
    "import matplotlib.pyplot as plt"
   ]
  },
  {
   "cell_type": "code",
   "execution_count": 18,
   "id": "1bc114a1",
   "metadata": {},
   "outputs": [],
   "source": [
    "@py_random_state(2)\n",
    "def barabasi_albert(n, m, seed=None, initial_graph=None):\n",
    "    \"\"\"Returns a random graph using Barabási–Albert preferential attachment\n",
    "\n",
    "    A graph of $n$ nodes is grown by attaching new nodes each with $m$\n",
    "    edges that are preferentially attached to existing nodes with high degree.\n",
    "\n",
    "    Parameters\n",
    "    ----------\n",
    "    n : int\n",
    "        Number of nodes\n",
    "    m : int\n",
    "        Number of edges to attach from a new node to existing nodes\n",
    "    seed : integer, random_state, or None (default)\n",
    "        Indicator of random number generation state.\n",
    "        See :ref:`Randomness<randomness>`.\n",
    "    initial_graph : Graph or None (default)\n",
    "        Initial network for Barabási–Albert algorithm.\n",
    "        It should be a connected graph for most use cases.\n",
    "        A copy of `initial_graph` is used.\n",
    "        If None, starts from a star graph on (m+1) nodes.\n",
    "\n",
    "    Returns\n",
    "    -------\n",
    "    G : Graph\n",
    "\n",
    "    Raises\n",
    "    ------\n",
    "    NetworkXError\n",
    "        If `m` does not satisfy ``1 <= m < n``, or\n",
    "        the initial graph number of nodes m0 does not satisfy ``m <= m0 <= n``.\n",
    "\n",
    "    References\n",
    "    ----------\n",
    "    .. [1] A. L. Barabási and R. Albert \"Emergence of scaling in\n",
    "       random networks\", Science 286, pp 509-512, 1999.\n",
    "    \"\"\"\n",
    "\n",
    "    if m < 1 or m >= n:\n",
    "        raise nx.NetworkXError(\n",
    "            f\"Barabási–Albert network must have m >= 1 and m < n, m = {m}, n = {n}\"\n",
    "        )\n",
    "\n",
    "    if initial_graph is None:\n",
    "        # Default initial graph : star graph on (m + 1) nodes\n",
    "        G = star_graph(m)\n",
    "    else:\n",
    "        if len(initial_graph) < m or len(initial_graph) > n:\n",
    "            raise nx.NetworkXError(\n",
    "                f\"Barabási–Albert initial graph needs between m={m} and n={n} nodes\"\n",
    "            )\n",
    "        G = initial_graph.copy()\n",
    "\n",
    "    # List of existing nodes, with nodes repeated once for each adjacent edge\n",
    "    repeated_nodes = [n for n, d in G.degree() for _ in range(d)]\n",
    "    # Start adding the other n - m0 nodes.\n",
    "    source = len(G)\n",
    "    while source < n:\n",
    "        # Now choose m unique nodes from the existing nodes\n",
    "        # Pick uniformly from repeated_nodes (preferential attachment)\n",
    "        targets = _random_subset(repeated_nodes, m, seed)\n",
    "        # Add edges to m nodes from the source.\n",
    "        G.add_edges_from(zip([source] * m, targets))\n",
    "        # Add one node to the list for each new edge just created.\n",
    "        repeated_nodes.extend(targets)\n",
    "        # And the new node \"source\" has m edges to add to the list.\n",
    "        repeated_nodes.extend([source] * m)\n",
    "\n",
    "        source += 1\n",
    "    return G"
   ]
  },
  {
   "cell_type": "raw",
   "id": "c68115e3",
   "metadata": {},
   "source": [
    "@py_random_state(2)\n",
    "def erdos_renyi(n, p, seed=None, directed=False):\n",
    "    \"\"\"Returns a $G_{n,p}$ random graph, also known as an Erdős-Rényi graph\n",
    "    or a binomial graph.\n",
    "\n",
    "    The $G_{n,p}$ model chooses each of the possible edges with probability $p$.\n",
    "\n",
    "    Parameters\n",
    "    ----------\n",
    "    n : int\n",
    "        The number of nodes.\n",
    "    p : float\n",
    "        Probability for edge creation.\n",
    "    seed : integer, random_state, or None (default)\n",
    "        Indicator of random number generation state.\n",
    "        See :ref:`Randomness<randomness>`.\n",
    "    directed : bool, optional (default=False)\n",
    "        If True, this function returns a directed graph.\n",
    "\n",
    "    See Also\n",
    "    --------\n",
    "    fast_gnp_random_graph\n",
    "\n",
    "    Notes\n",
    "    -----\n",
    "    This algorithm [2]_ runs in $O(n^2)$ time.  For sparse graphs (that is, for\n",
    "    small values of $p$), :func:`fast_gnp_random_graph` is a faster algorithm.\n",
    "\n",
    "    :func:`binomial_graph` and :func:`erdos_renyi_graph` are\n",
    "    aliases for :func:`gnp_random_graph`.\n",
    "\n",
    "    >>> nx.binomial_graph is nx.gnp_random_graph\n",
    "    True\n",
    "    >>> nx.erdos_renyi_graph is nx.gnp_random_graph\n",
    "    True\n",
    "\n",
    "    References\n",
    "    ----------\n",
    "    .. [1] P. Erdős and A. Rényi, On Random Graphs, Publ. Math. 6, 290 (1959).\n",
    "    .. [2] E. N. Gilbert, Random Graphs, Ann. Math. Stat., 30, 1141 (1959).\n",
    "    \"\"\"\n",
    "    if directed:\n",
    "        edges = itertools.permutations(range(n), 2)\n",
    "        G = nx.DiGraph()\n",
    "    else:\n",
    "        edges = itertools.combinations(range(n), 2)\n",
    "        G = nx.Graph()\n",
    "    G.add_nodes_from(range(n))\n",
    "    if p <= 0:\n",
    "        return G\n",
    "    if p >= 1:\n",
    "        return complete_graph(n, create_using=G)\n",
    "\n",
    "    for e in edges:\n",
    "        if seed.random() < p:\n",
    "            G.add_edge(*e)\n",
    "    return G"
   ]
  },
  {
   "cell_type": "raw",
   "id": "208f91ab",
   "metadata": {},
   "source": [
    "@py_random_state(2)\n",
    "def barabasi_albert_analysis(n, m, seed=None, initial_graph=None, t=[], k_i=[[]], p_k = []):\n",
    "    if m < 1 or m >= n:\n",
    "        raise nx.NetworkXError(\n",
    "            f\"Barabási–Albert network must have m >= 1 and m < n, m = {m}, n = {n}\"\n",
    "        )\n",
    "\n",
    "    if initial_graph is None:\n",
    "        # Default initial graph : star graph on (m + 1) nodes\n",
    "        G = nx.star_graph(m)\n",
    "    else:\n",
    "        if len(initial_graph) < m or len(initial_graph) > n:\n",
    "            raise nx.NetworkXError(\n",
    "                f\"Barabási–Albert initial graph needs between m={m} and n={n} nodes\"\n",
    "            )\n",
    "        G = initial_graph.copy()\n",
    "\n",
    "    # List of existing nodes, with nodes repeated once for each adjacent edge\n",
    "    repeated_nodes = [n for n, d in G.degree() for _ in range(d)] # se il nodo 0 è legato a 3 nodi e l'1 a 2 allora è (0,0,0,1,1,...)\n",
    "    # Start adding the other n - m0 nodes.\n",
    "    source = len(G)\n",
    "    #\n",
    "    i = []\n",
    "    #\n",
    "    while source < n:\n",
    "        # Now choose m unique nodes from the existing nodes\n",
    "        # Pick uniformly from repeated_nodes (preferential attachment)\n",
    "        targets = _random_subset(repeated_nodes, m, seed)\n",
    "        # Add edges to m nodes from the source.\n",
    "        G.add_edges_from(zip([source] * m, targets)) # [10]*2 = [10, 10]\n",
    "        # Add one node to the list for each new edge just created.\n",
    "        repeated_nodes.extend(targets)\n",
    "        # And the new node \"source\" has m edges to add to the list.\n",
    "        repeated_nodes.extend([source] * m)\n",
    "   #     \n",
    "        if source in t:\n",
    "            i += [source]\n",
    "            k_i += [[]]\n",
    "            p_k += [list(G.degree)]\n",
    "        \n",
    "        iter = 0\n",
    "        for I in i:\n",
    "            k_i[iter] += [G.degree[I-1]]\n",
    "            iter += 1\n",
    "        \n",
    "        #nx.draw(G, with_labels=True)\n",
    "        #plt.show()\n",
    "    #\n",
    "        source += 1\n",
    "    return G"
   ]
  },
  {
   "cell_type": "markdown",
   "id": "a4cfab36",
   "metadata": {},
   "source": [
    "## Tasso di crescita"
   ]
  },
  {
   "cell_type": "markdown",
   "id": "aa841b34",
   "metadata": {},
   "source": [
    "Scale-free"
   ]
  },
  {
   "cell_type": "code",
   "execution_count": 56,
   "id": "5c2fc98d",
   "metadata": {},
   "outputs": [],
   "source": [
    "N = int(1e4)\n",
    "M = 4\n",
    "\n",
    "N0 = 20\n",
    "# BA = barabasi_albert_analysis(n,m, t=t, k_i=k_i, p_k = p_k)"
   ]
  },
  {
   "cell_type": "code",
   "execution_count": 57,
   "id": "15847f34",
   "metadata": {},
   "outputs": [],
   "source": [
    "nodes = [20, 120, 250]"
   ]
  },
  {
   "cell_type": "code",
   "execution_count": 58,
   "id": "c7ee0fdd",
   "metadata": {},
   "outputs": [],
   "source": [
    "BA = barabasi_albert(N0, M)\n",
    "k_i=[[]]\n",
    "I = []\n",
    "for x in range(N0):\n",
    "    if x in nodes:\n",
    "        I += [x]\n",
    "        k_i += [[]]\n",
    "        \n",
    "for t in range(20, N):\n",
    "    BA = barabasi_albert(t+1, M, initial_graph = BA)\n",
    "    if t in nodes:\n",
    "        I += [t]\n",
    "        k_i += [[]]\n",
    "        \n",
    "    iter = 0\n",
    "    for i in I:\n",
    "        k_i[iter] += [[t, BA.degree[i]]]\n",
    "        iter += 1"
   ]
  },
  {
   "cell_type": "code",
   "execution_count": 68,
   "id": "037bb4b3",
   "metadata": {},
   "outputs": [
    {
     "name": "stdout",
     "output_type": "stream",
     "text": [
      "fit for node 20 is 3.603649419560478*(t/t_i)^0.4800137664347932\n",
      "fit for node 120 is 5.300487984533786*(t/t_i)^0.45267943574489744\n",
      "fit for node 250 is 5.8167033765525105*(t/t_i)^0.5024080767938456\n"
     ]
    },
    {
     "data": {
      "image/png": "[encoded data removed]",
      "text/plain": [
       "<Figure size 720x360 with 1 Axes>"
      ]
     },
     "metadata": {
      "needs_background": "light"
     },
     "output_type": "display_data"
    }
   ],
   "source": [
    "def degree_growth_rate(x, m, a):\n",
    "    return m*np.power(x, a)\n",
    "\n",
    "popt = [0]*len(nodes)\n",
    "pcov = [0]*len(nodes)\n",
    "\n",
    "fig, ax = plt.subplots(figsize = (10, 5))\n",
    "\n",
    "for i in range(len(nodes)):\n",
    "    x = [time for time, k in k_i[i]][:4000]\n",
    "    y = [k for time, k in k_i[i]][:4000]\n",
    "    \n",
    "    plt.plot(x, y, '.', label = f\"Node {nodes[i]}\")\n",
    "    \n",
    "    popt[i], pcov[i] = curve_fit(degree_growth_rate, [xi/x[0] for xi in x], y)\n",
    "    plt.plot(x, degree_growth_rate([xi/x[0] for xi in x], *popt[i]), '-', \n",
    "             label = f\" - Fit for node {nodes[i]} is {np.round(popt[i][0], 3)}*(t/t_i)^{np.round(popt[i][1], 3)}\")\n",
    "    print(f\"fit for node {nodes[i]} is {popt[i][0]}*(t/t_i)^{popt[i][1]}\")\n",
    "#     print(stats.chisquare(y, degree_growth_rate(x, *popt[i])))\n",
    "\n",
    "ax.set_xlabel(\"Time (iterations)\")\n",
    "ax.set_ylabel(\"Degree\")\n",
    "ax.legend()\n",
    "\n",
    "# plt.xscale('log')\n",
    "# plt.yscale('log')\n",
    "\n",
    "plt.show()"
   ]
  },
  {
   "cell_type": "markdown",
   "id": "f3f64d88",
   "metadata": {},
   "source": [
    "## Distribuzione dei gradi"
   ]
  },
  {
   "cell_type": "markdown",
   "id": "b88132db",
   "metadata": {},
   "source": [
    "## Average path lenght"
   ]
  },
  {
   "cell_type": "code",
   "execution_count": 70,
   "id": "b49b6f0a",
   "metadata": {},
   "outputs": [],
   "source": [
    "N = [10+i*100 for i in range(30)]\n",
    "M = 3\n",
    "P = 0.5\n",
    "\n",
    "mean_path_scalefree = []\n",
    "mean_path_random = []\n",
    "max_degree_random = []\n",
    "max_degree_scale_free = []\n",
    "diameter_scalefree = []\n",
    "diameter_random = []\n",
    "\n",
    "Gb = star_graph(M)\n",
    "\n",
    "for i in range(len(N)):\n",
    "    Ge = nx.erdos_renyi_graph(N[i], P)\n",
    "    while min([d for n, d in Ge.degree()]) == 0:\n",
    "          Ge = nx.erdos_renyi_graph(N[i], P)\n",
    "    Gb = nx.barabasi_albert_graph(N[i], M, initial_graph = Gb)\n",
    "\n",
    "#     mean_path_scalefree += [nx.average_shortest_path_length(Gb)]  \n",
    "#     mean_path_random += [nx.average_shortest_path_length(Ge)] \n",
    "    \n",
    "    max_degree_random += [max([d for n,d in Ge.degree])]\n",
    "    max_degree_scale_free += [max([d for n,d in Gb.degree])]\n",
    "    \n",
    "#     diameter_scalefree += [nx.diameter(Gb)]\n",
    "#     diameter_random += [nx.diameter(Ge)]"
   ]
  },
  {
   "cell_type": "code",
   "execution_count": 71,
   "id": "721e3288",
   "metadata": {},
   "outputs": [
    {
     "ename": "ValueError",
     "evalue": "x and y must have same first dimension, but have shapes (30,) and (0,)",
     "output_type": "error",
     "traceback": [
      "\u001b[1;31m---------------------------------------------------------------------------\u001b[0m",
      "\u001b[1;31mValueError\u001b[0m                                Traceback (most recent call last)",
      "Input \u001b[1;32mIn [71]\u001b[0m, in \u001b[0;36m<cell line: 9>\u001b[1;34m()\u001b[0m\n\u001b[0;32m      6\u001b[0m ax[\u001b[38;5;241m1\u001b[39m]\u001b[38;5;241m.\u001b[39mplot(N, max_degree_scale_free, \u001b[38;5;124m'\u001b[39m\u001b[38;5;124m.\u001b[39m\u001b[38;5;124m'\u001b[39m, label \u001b[38;5;241m=\u001b[39m \u001b[38;5;124m'\u001b[39m\u001b[38;5;124mmax degree scale free\u001b[39m\u001b[38;5;124m'\u001b[39m)\n\u001b[0;32m      7\u001b[0m ax[\u001b[38;5;241m1\u001b[39m]\u001b[38;5;241m.\u001b[39mplot(N, max_degree_random, \u001b[38;5;124m'\u001b[39m\u001b[38;5;124m.\u001b[39m\u001b[38;5;124m'\u001b[39m, label \u001b[38;5;241m=\u001b[39m \u001b[38;5;124m'\u001b[39m\u001b[38;5;124mmax degree random\u001b[39m\u001b[38;5;124m'\u001b[39m)\n\u001b[1;32m----> 9\u001b[0m \u001b[43max\u001b[49m\u001b[43m[\u001b[49m\u001b[38;5;241;43m2\u001b[39;49m\u001b[43m]\u001b[49m\u001b[38;5;241;43m.\u001b[39;49m\u001b[43mplot\u001b[49m\u001b[43m(\u001b[49m\u001b[43mN\u001b[49m\u001b[43m,\u001b[49m\u001b[43m \u001b[49m\u001b[43mdiameter_random\u001b[49m\u001b[43m,\u001b[49m\u001b[43m \u001b[49m\u001b[38;5;124;43m'\u001b[39;49m\u001b[38;5;124;43m.\u001b[39;49m\u001b[38;5;124;43m'\u001b[39;49m\u001b[43m,\u001b[49m\u001b[43m \u001b[49m\u001b[43mlabel\u001b[49m\u001b[43m \u001b[49m\u001b[38;5;241;43m=\u001b[39;49m\u001b[43m \u001b[49m\u001b[38;5;124;43m'\u001b[39;49m\u001b[38;5;124;43mrandom_diameter\u001b[39;49m\u001b[38;5;124;43m'\u001b[39;49m\u001b[43m)\u001b[49m\n\u001b[0;32m     10\u001b[0m ax[\u001b[38;5;241m2\u001b[39m]\u001b[38;5;241m.\u001b[39mplot(N, diameter_scalefree, \u001b[38;5;124m'\u001b[39m\u001b[38;5;124m.\u001b[39m\u001b[38;5;124m'\u001b[39m, label \u001b[38;5;241m=\u001b[39m \u001b[38;5;124m'\u001b[39m\u001b[38;5;124mscale_free_diameter\u001b[39m\u001b[38;5;124m'\u001b[39m)\n\u001b[0;32m     12\u001b[0m \u001b[38;5;28;01mfor\u001b[39;00m i \u001b[38;5;129;01min\u001b[39;00m \u001b[38;5;28mrange\u001b[39m(\u001b[38;5;28mlen\u001b[39m(ax)):\n",
      "File \u001b[1;32m~\\AppData\\Local\\Packages\\PythonSoftwareFoundation.Python.3.10_qbz5n2kfra8p0\\LocalCache\\local-packages\\Python310\\site-packages\\matplotlib\\axes\\_axes.py:1632\u001b[0m, in \u001b[0;36mAxes.plot\u001b[1;34m(self, scalex, scaley, data, *args, **kwargs)\u001b[0m\n\u001b[0;32m   1390\u001b[0m \u001b[38;5;124;03m\"\"\"\u001b[39;00m\n\u001b[0;32m   1391\u001b[0m \u001b[38;5;124;03mPlot y versus x as lines and/or markers.\u001b[39;00m\n\u001b[0;32m   1392\u001b[0m \n\u001b[1;32m   (...)\u001b[0m\n\u001b[0;32m   1629\u001b[0m \u001b[38;5;124;03m(``'green'``) or hex strings (``'#008000'``).\u001b[39;00m\n\u001b[0;32m   1630\u001b[0m \u001b[38;5;124;03m\"\"\"\u001b[39;00m\n\u001b[0;32m   1631\u001b[0m kwargs \u001b[38;5;241m=\u001b[39m cbook\u001b[38;5;241m.\u001b[39mnormalize_kwargs(kwargs, mlines\u001b[38;5;241m.\u001b[39mLine2D)\n\u001b[1;32m-> 1632\u001b[0m lines \u001b[38;5;241m=\u001b[39m [\u001b[38;5;241m*\u001b[39m\u001b[38;5;28mself\u001b[39m\u001b[38;5;241m.\u001b[39m_get_lines(\u001b[38;5;241m*\u001b[39margs, data\u001b[38;5;241m=\u001b[39mdata, \u001b[38;5;241m*\u001b[39m\u001b[38;5;241m*\u001b[39mkwargs)]\n\u001b[0;32m   1633\u001b[0m \u001b[38;5;28;01mfor\u001b[39;00m line \u001b[38;5;129;01min\u001b[39;00m lines:\n\u001b[0;32m   1634\u001b[0m     \u001b[38;5;28mself\u001b[39m\u001b[38;5;241m.\u001b[39madd_line(line)\n",
      "File \u001b[1;32m~\\AppData\\Local\\Packages\\PythonSoftwareFoundation.Python.3.10_qbz5n2kfra8p0\\LocalCache\\local-packages\\Python310\\site-packages\\matplotlib\\axes\\_base.py:312\u001b[0m, in \u001b[0;36m_process_plot_var_args.__call__\u001b[1;34m(self, data, *args, **kwargs)\u001b[0m\n\u001b[0;32m    310\u001b[0m     this \u001b[38;5;241m+\u001b[39m\u001b[38;5;241m=\u001b[39m args[\u001b[38;5;241m0\u001b[39m],\n\u001b[0;32m    311\u001b[0m     args \u001b[38;5;241m=\u001b[39m args[\u001b[38;5;241m1\u001b[39m:]\n\u001b[1;32m--> 312\u001b[0m \u001b[38;5;28;01myield from\u001b[39;00m \u001b[38;5;28;43mself\u001b[39;49m\u001b[38;5;241;43m.\u001b[39;49m\u001b[43m_plot_args\u001b[49m\u001b[43m(\u001b[49m\u001b[43mthis\u001b[49m\u001b[43m,\u001b[49m\u001b[43m \u001b[49m\u001b[43mkwargs\u001b[49m\u001b[43m)\u001b[49m\n",
      "File \u001b[1;32m~\\AppData\\Local\\Packages\\PythonSoftwareFoundation.Python.3.10_qbz5n2kfra8p0\\LocalCache\\local-packages\\Python310\\site-packages\\matplotlib\\axes\\_base.py:498\u001b[0m, in \u001b[0;36m_process_plot_var_args._plot_args\u001b[1;34m(self, tup, kwargs, return_kwargs)\u001b[0m\n\u001b[0;32m    495\u001b[0m     \u001b[38;5;28mself\u001b[39m\u001b[38;5;241m.\u001b[39maxes\u001b[38;5;241m.\u001b[39myaxis\u001b[38;5;241m.\u001b[39mupdate_units(y)\n\u001b[0;32m    497\u001b[0m \u001b[38;5;28;01mif\u001b[39;00m x\u001b[38;5;241m.\u001b[39mshape[\u001b[38;5;241m0\u001b[39m] \u001b[38;5;241m!=\u001b[39m y\u001b[38;5;241m.\u001b[39mshape[\u001b[38;5;241m0\u001b[39m]:\n\u001b[1;32m--> 498\u001b[0m     \u001b[38;5;28;01mraise\u001b[39;00m \u001b[38;5;167;01mValueError\u001b[39;00m(\u001b[38;5;124mf\u001b[39m\u001b[38;5;124m\"\u001b[39m\u001b[38;5;124mx and y must have same first dimension, but \u001b[39m\u001b[38;5;124m\"\u001b[39m\n\u001b[0;32m    499\u001b[0m                      \u001b[38;5;124mf\u001b[39m\u001b[38;5;124m\"\u001b[39m\u001b[38;5;124mhave shapes \u001b[39m\u001b[38;5;132;01m{\u001b[39;00mx\u001b[38;5;241m.\u001b[39mshape\u001b[38;5;132;01m}\u001b[39;00m\u001b[38;5;124m and \u001b[39m\u001b[38;5;132;01m{\u001b[39;00my\u001b[38;5;241m.\u001b[39mshape\u001b[38;5;132;01m}\u001b[39;00m\u001b[38;5;124m\"\u001b[39m)\n\u001b[0;32m    500\u001b[0m \u001b[38;5;28;01mif\u001b[39;00m x\u001b[38;5;241m.\u001b[39mndim \u001b[38;5;241m>\u001b[39m \u001b[38;5;241m2\u001b[39m \u001b[38;5;129;01mor\u001b[39;00m y\u001b[38;5;241m.\u001b[39mndim \u001b[38;5;241m>\u001b[39m \u001b[38;5;241m2\u001b[39m:\n\u001b[0;32m    501\u001b[0m     \u001b[38;5;28;01mraise\u001b[39;00m \u001b[38;5;167;01mValueError\u001b[39;00m(\u001b[38;5;124mf\u001b[39m\u001b[38;5;124m\"\u001b[39m\u001b[38;5;124mx and y can be no greater than 2D, but have \u001b[39m\u001b[38;5;124m\"\u001b[39m\n\u001b[0;32m    502\u001b[0m                      \u001b[38;5;124mf\u001b[39m\u001b[38;5;124m\"\u001b[39m\u001b[38;5;124mshapes \u001b[39m\u001b[38;5;132;01m{\u001b[39;00mx\u001b[38;5;241m.\u001b[39mshape\u001b[38;5;132;01m}\u001b[39;00m\u001b[38;5;124m and \u001b[39m\u001b[38;5;132;01m{\u001b[39;00my\u001b[38;5;241m.\u001b[39mshape\u001b[38;5;132;01m}\u001b[39;00m\u001b[38;5;124m\"\u001b[39m)\n",
      "\u001b[1;31mValueError\u001b[0m: x and y must have same first dimension, but have shapes (30,) and (0,)"
     ]
    },
    {
     "data": {
      "image/png": "[encoded data removed]",
      "text/plain": [
       "<Figure size 864x360 with 3 Axes>"
      ]
     },
     "metadata": {
      "needs_background": "light"
     },
     "output_type": "display_data"
    }
   ],
   "source": [
    "fig, ax = plt.subplots(1, 3, figsize = (12, 5))\n",
    "\n",
    "# ax.plot(N, mean_path_scalefree, '.', label = 'scale_free_path')\n",
    "# ax.plot(N, mean_path_random, '.', label = 'random_path')\n",
    "\n",
    "ax[1].plot(N, max_degree_scale_free, '.', label = 'max degree scale free')\n",
    "ax[1].plot(N, max_degree_random, '.', label = 'max degree random')\n",
    "\n",
    "ax[2].plot(N, diameter_random, '.', label = 'random_diameter')\n",
    "ax[2].plot(N, diameter_scalefree, '.', label = 'scale_free_diameter')\n",
    "\n",
    "for i in range(len(ax)):\n",
    "    ax[i].set_xlabel(\"Number of nodes\")\n",
    "    ax[i].set_ylabel(\"Max degree\") \n",
    "    ax[i].legend()\n",
    "\n",
    "plt.show()"
   ]
  },
  {
   "cell_type": "code",
   "execution_count": 79,
   "id": "598845b1",
   "metadata": {},
   "outputs": [
    {
     "name": "stdout",
     "output_type": "stream",
     "text": [
      "Scale free fit parameters: [3.66141943 0.45796895] ∓ [0.16542334 0.00603263]\n"
     ]
    },
    {
     "data": {
      "image/png": "[encoded data removed]",
      "text/plain": [
       "<Figure size 432x288 with 1 Axes>"
      ]
     },
     "metadata": {
      "needs_background": "light"
     },
     "output_type": "display_data"
    }
   ],
   "source": [
    "def sqrt_law(x, a, b):\n",
    "    return a*np.power(x, b)\n",
    "\n",
    "def log_law(x, a):\n",
    "    return a*np.log(x)\n",
    "\n",
    "poptSF, pcovSF = curve_fit(sqrt_law, N, max_degree_scale_free)\n",
    "# poptR, pcovR = curve_fit(log_law, N, max_degree_random)\n",
    "# random_fit = np.polyfit(N, max_degree_random, 1)\n",
    "\n",
    "perrSF = np.sqrt(np.diag(pcovSF))\n",
    "# perrR = np.sqrt(np.diag(pcovR))\n",
    "\n",
    "print(\"Scale free fit parameters:\", poptSF, \"∓\", perrSF)\n",
    "# print(\"Random fit parameters:\", poptR, \"∓\", perrR)\n",
    "# print(\"Second random fit parameters:\", random_fit)\n",
    "\n",
    "# fitRandom2 = [random_fit[0]*n + random_fit[1] for n in N]\n",
    "fitScale = sqrt_law(N, *poptSF)\n",
    "# fitRandom = log_law(N, *poptR)\n",
    "\n",
    "fig, ax = plt.subplots()\n",
    "    \n",
    "ax.plot(N, max_degree_scale_free, '.', label = 'max_degree_scale_free')\n",
    "# ax.plot(N, max_degree_random, '.', label = 'max_degree_random')\n",
    "\n",
    "# ax.plot(N, fitRandom, '--', label = 'fitRandom')\n",
    "# ax.plot(N, fitRandom2, '--', label = 'fitRandom')\n",
    "ax.plot(N, fitScale, '-', label = f\"fit: a={round(poptSF[0],4)}, b={round(poptSF[1],4)}\")\n",
    "\n",
    "ax.set_xlabel(\"Number of nodes\")\n",
    "ax.set_ylabel(\"Max degree\") \n",
    "ax.legend()\n",
    "\n",
    "plt.show()"
   ]
  },
  {
   "cell_type": "code",
   "execution_count": 49,
   "id": "edd08384",
   "metadata": {},
   "outputs": [
    {
     "name": "stdout",
     "output_type": "stream",
     "text": [
      "Scale free fit parameters: [0.85888342] ∓ [0.01162263]\n"
     ]
    },
    {
     "data": {
      "image/png": "[encoded data removed]",
      "text/plain": [
       "<Figure size 432x288 with 1 Axes>"
      ]
     },
     "metadata": {
      "needs_background": "light"
     },
     "output_type": "display_data"
    }
   ],
   "source": [
    "def sqrt_law(x, a):\n",
    "    return a*np.sqrt(x)\n",
    "\n",
    "def log_law(x, a):\n",
    "    return a*np.log(x)\n",
    "\n",
    "poptSF, pcovSF = curve_fit(log_law, N, diameter_scalefree)\n",
    "# poptR, pcovR = curve_fit(log_law, N, diameter_random)\n",
    "# random_fit = np.polyfit(N, max_degree_random, 1)\n",
    "\n",
    "perrSF = np.sqrt(np.diag(pcovSF))\n",
    "# perrR = np.sqrt(np.diag(pcovR))\n",
    "\n",
    "print(\"Scale free fit parameters:\", poptSF, \"∓\", perrSF)\n",
    "# print(\"Random fit parameters:\", poptR, \"∓\", perrR)\n",
    "# print(\"Second random fit parameters:\", random_fit)\n",
    "\n",
    "# fitRandom2 = [random_fit[0]*n + random_fit[1] for n in N]\n",
    "fitScale = log_law(N, *poptSF)\n",
    "# fitRandom = log_law(N, *poptR)\n",
    "\n",
    "fig, ax = plt.subplots()\n",
    "    \n",
    "ax.plot(N, diameter_scalefree, '.', label = 'diameter_scale_free')\n",
    "# ax.plot(N, max_degree_random, '.', label = 'max_degree_random')\n",
    "\n",
    "# ax.plot(N, fitRandom, '--', label = 'fitRandom')\n",
    "# ax.plot(N, fitRandom2, '--', label = 'fitRandom')\n",
    "ax.plot(N, fitScale, '--', label = 'fitScaleFree')\n",
    "\n",
    "ax.set_xlabel(\"Number of nodes\")\n",
    "ax.set_ylabel(\"Diameter\") \n",
    "ax.legend()\n",
    "\n",
    "plt.show()"
   ]
  },
  {
   "cell_type": "code",
   "execution_count": null,
   "id": "bfa001c7",
   "metadata": {},
   "outputs": [],
   "source": []
  }
 ],
 "metadata": {
  "kernelspec": {
   "display_name": "Python 3 (ipykernel)",
   "language": "python",
   "name": "python3"
  },
  "language_info": {
   "codemirror_mode": {
    "name": "ipython",
    "version": 3
   },
   "file_extension": ".py",
   "mimetype": "text/x-python",
   "name": "python",
   "nbconvert_exporter": "python",
   "pygments_lexer": "ipython3",
   "version": "3.10.4"
  }
 },
 "nbformat": 4,
 "nbformat_minor": 5
}
