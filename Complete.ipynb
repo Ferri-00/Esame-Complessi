{
 "cells": [
  {
   "cell_type": "code",
   "execution_count": 1,
   "id": "2c46536e",
   "metadata": {},
   "outputs": [],
   "source": [
    "import networkx as nx\n",
    "import matplotlib.pyplot as plt\n",
    "import numpy as np"
   ]
  },
  {
   "cell_type": "code",
   "execution_count": 2,
   "id": "2d7e9450",
   "metadata": {},
   "outputs": [],
   "source": [
    "N = 5\n",
    "\n",
    "G = nx.complete_graph(N)"
   ]
  },
  {
   "cell_type": "code",
   "execution_count": 3,
   "id": "f89f7aa7",
   "metadata": {},
   "outputs": [
    {
     "data": {
      "image/png": "[encoded data removed]",
      "text/plain": [
       "<Figure size 432x288 with 1 Axes>"
      ]
     },
     "metadata": {},
     "output_type": "display_data"
    }
   ],
   "source": [
    "nx.draw(G, with_labels=True)    \n",
    "plt.show()\n",
    "\n",
    "nx.write_adjlist(G, \"CO.adjlist\")"
   ]
  },
  {
   "cell_type": "code",
   "execution_count": 4,
   "id": "709d119a",
   "metadata": {},
   "outputs": [],
   "source": [
    "adjacency = list(G.adjacency())\n",
    "A = []\n",
    "for a, b in adjacency :\n",
    "    A += [[0]*len(adjacency)] \n",
    "    for c in b : \n",
    "        A[a][c] = 1"
   ]
  },
  {
   "cell_type": "code",
   "execution_count": 5,
   "id": "7ece8dbd",
   "metadata": {},
   "outputs": [],
   "source": [
    "P = []\n",
    "for a, b in adjacency :\n",
    "    P += [[0]*len(adjacency)]\n",
    "    for c in b: \n",
    "        P[a][c] = 1./G.degree[a]"
   ]
  },
  {
   "cell_type": "code",
   "execution_count": 6,
   "id": "9ed4e8a8",
   "metadata": {},
   "outputs": [
    {
     "name": "stdout",
     "output_type": "stream",
     "text": [
      "Eigenvector found\n"
     ]
    }
   ],
   "source": [
    "matrixP = np.array(P)\n",
    "autovaloriP, autovettoriP = np.linalg.eig(np.transpose(matrixP))\n",
    "autovettoriP = np.transpose(autovettoriP)\n",
    "\n",
    "diff = [np.abs(autovaloriP[i] - 1) for i in range(N)]\n",
    "minDiff = min(diff)\n",
    "for i in range(N):\n",
    "    if np.abs(autovaloriP[i] - 1) == minDiff:\n",
    "        pS = autovettoriP[i]\n",
    "        print(\"Eigenvector found\")\n",
    "        break\n",
    "\n",
    "if pS[0] < 0:\n",
    "    pS = -pS"
   ]
  },
  {
   "cell_type": "code",
   "execution_count": 7,
   "id": "b88106cd",
   "metadata": {},
   "outputs": [
    {
     "data": {
      "text/plain": [
       "array([-0.25,  1.  , -0.25, -0.25, -0.25])"
      ]
     },
     "execution_count": 7,
     "metadata": {},
     "output_type": "execute_result"
    }
   ],
   "source": [
    "autovaloriP"
   ]
  },
  {
   "cell_type": "code",
   "execution_count": 8,
   "id": "1a4240fc",
   "metadata": {},
   "outputs": [],
   "source": [
    "matrixL = np.identity(N) - matrixP"
   ]
  },
  {
   "cell_type": "code",
   "execution_count": 9,
   "id": "36b7438a",
   "metadata": {},
   "outputs": [
    {
     "name": "stdout",
     "output_type": "stream",
     "text": [
      "Eigenvector found\n"
     ]
    }
   ],
   "source": [
    "autovaloriL, autovettoriL = np.linalg.eig(np.transpose(matrixL))\n",
    "autovettoriL = np.transpose(autovettoriL)\n",
    "\n",
    "diff = [np.abs(autovaloriL[i]) for i in range(N)]\n",
    "minDiff = min(diff)\n",
    "for i in range(N):\n",
    "    if np.abs(autovaloriL[i]) == minDiff:\n",
    "        pS_L = autovettoriL[i]\n",
    "        print(\"Eigenvector found\")\n",
    "        break\n",
    "\n",
    "if pS_L[0] < 0:\n",
    "    pS_L = -pS_L"
   ]
  },
  {
   "cell_type": "code",
   "execution_count": 10,
   "id": "879e1b36",
   "metadata": {},
   "outputs": [
    {
     "data": {
      "text/plain": [
       "array([1.25, 0.  , 1.25, 1.25, 1.25])"
      ]
     },
     "execution_count": 10,
     "metadata": {},
     "output_type": "execute_result"
    }
   ],
   "source": [
    "autovaloriL"
   ]
  },
  {
   "cell_type": "code",
   "execution_count": 11,
   "id": "81205e20",
   "metadata": {},
   "outputs": [
    {
     "data": {
      "text/plain": [
       "array([ True,  True,  True,  True,  True])"
      ]
     },
     "execution_count": 11,
     "metadata": {},
     "output_type": "execute_result"
    }
   ],
   "source": [
    "i = 13\n",
    "np.round(pS, i) == np.round(pS_L, i)"
   ]
  },
  {
   "cell_type": "code",
   "execution_count": 12,
   "id": "05b296db",
   "metadata": {},
   "outputs": [
    {
     "data": {
      "text/plain": [
       "True"
      ]
     },
     "execution_count": 12,
     "metadata": {},
     "output_type": "execute_result"
    }
   ],
   "source": [
    "np.round(1-max(autovaloriP[1:]), i) == np.round(min(autovaloriL[1:]), i)"
   ]
  },
  {
   "cell_type": "raw",
   "id": "65ffaaf4",
   "metadata": {},
   "source": [
    "FiedlerValue = round(min(autovaloriL, i)\n",
    "print(FiedlerValue)\n"
   ]
  },
  {
   "cell_type": "code",
   "execution_count": 13,
   "id": "16f19f17",
   "metadata": {},
   "outputs": [
    {
     "name": "stdout",
     "output_type": "stream",
     "text": [
      "[0.4472136 0.4472136 0.4472136 0.4472136 0.4472136]\n"
     ]
    }
   ],
   "source": [
    "pS = np.round(pS.real, i)\n",
    "print(pS)"
   ]
  },
  {
   "cell_type": "code",
   "execution_count": 14,
   "id": "e9e37293",
   "metadata": {},
   "outputs": [],
   "source": [
    "np.savetxt(\"CO-pS.txt\", pS, delimiter='\\n')"
   ]
  }
 ],
 "metadata": {
  "kernelspec": {
   "display_name": "Python 3 (ipykernel)",
   "language": "python",
   "name": "python3"
  },
  "language_info": {
   "codemirror_mode": {
    "name": "ipython",
    "version": 3
   },
   "file_extension": ".py",
   "mimetype": "text/x-python",
   "name": "python",
   "nbconvert_exporter": "python",
   "pygments_lexer": "ipython3",
   "version": "3.10.4"
  }
 },
 "nbformat": 4,
 "nbformat_minor": 5
}
