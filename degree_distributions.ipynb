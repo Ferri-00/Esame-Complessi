{
 "cells": [
  {
   "cell_type": "code",
   "execution_count": 1,
   "id": "a908a716",
   "metadata": {},
   "outputs": [],
   "source": [
    "import networkx as nx\n",
    "from networkx.utils import py_random_state\n",
    "from networkx.generators.random_graphs import _random_subset\n",
    "from networkx.generators.classic import star_graph\n",
    "import scipy.stats as stats\n",
    "from scipy.optimize import curve_fit\n",
    "import numpy as np\n",
    "\n",
    "import matplotlib.pyplot as plt\n",
    "\n",
    "import powerlaw"
   ]
  },
  {
   "cell_type": "markdown",
   "id": "34dd8b5f",
   "metadata": {},
   "source": [
    "Random Graph"
   ]
  },
  {
   "cell_type": "code",
   "execution_count": 2,
   "id": "6a296018",
   "metadata": {},
   "outputs": [
    {
     "name": "stdout",
     "output_type": "stream",
     "text": [
      "[0.001, 0.0, 0.0, 0.0, 0.001, 0.002, 0.001, 0.005, 0.001, 0.0, 0.0, 0.003, 0.002, 0.003, 0.003, 0.006, 0.004, 0.006, 0.006, 0.012, 0.004, 0.01, 0.009, 0.016, 0.01, 0.007, 0.011, 0.016, 0.017, 0.018, 0.019, 0.017, 0.024, 0.022, 0.022, 0.025, 0.032, 0.027, 0.021, 0.031, 0.029, 0.035, 0.02, 0.019, 0.036, 0.039, 0.029, 0.028, 0.03, 0.023, 0.023, 0.032, 0.019, 0.021, 0.011, 0.014, 0.023, 0.014, 0.012, 0.012, 0.009, 0.009, 0.013, 0.012, 0.007, 0.013, 0.009, 0.005, 0.007, 0.006, 0.011, 0.005, 0.001, 0.0, 0.0, 0.001, 0.003, 0.0, 0.002, 0.0, 0.0, 0.0, 0.001, 0.001, 0.001, 0.001]\n"
     ]
    },
    {
     "data": {
      "text/plain": [
       "Text(0, 0.5, 'P(k)')"
      ]
     },
     "execution_count": 2,
     "metadata": {},
     "output_type": "execute_result"
    },
    {
     "data": {
      "image/png": "[encoded data removed]",
      "text/plain": [
       "<Figure size 432x288 with 1 Axes>"
      ]
     },
     "metadata": {
      "needs_background": "light"
     },
     "output_type": "display_data"
    }
   ],
   "source": [
    "N = 1000\n",
    "P = 0.25\n",
    "\n",
    "G_r = nx.erdos_renyi_graph(N, P)\n",
    "while min([d for n, d in G_r.degree()]) == 0:\n",
    "          G_r = nx.erdos_renyi_graph(N, P)\n",
    "\n",
    "k = np.arange(min([d for n,d in G_r.degree]), max([d for n,d in G_r.degree])+1)\n",
    "p = [0]*len(k)\n",
    "\n",
    "k_mean =sum(k)/len(k)\n",
    "\n",
    "for i in range(len(k)):\n",
    "    for n,d in G_r.degree:\n",
    "        if k[i] == d:\n",
    "            p[i] += 1\n",
    "norm = sum(p)            \n",
    "\n",
    "            \n",
    "for i in range(len(p)):\n",
    "    p[i] = p[i]/norm\n",
    "\n",
    "print(p)  \n",
    "\n",
    "fig, ax = plt.subplots()\n",
    "ax.plot(k, p, '.', label = 'degrees distribution')\n",
    "ax.set_xlabel(\"Degrees\")\n",
    "ax.set_ylabel(\"P(k)\")  "
   ]
  },
  {
   "cell_type": "code",
   "execution_count": 3,
   "id": "79db1598",
   "metadata": {},
   "outputs": [
    {
     "data": {
      "image/png": "[encoded data removed]",
      "text/plain": [
       "<Figure size 432x288 with 1 Axes>"
      ]
     },
     "metadata": {
      "needs_background": "light"
     },
     "output_type": "display_data"
    },
    {
     "name": "stdout",
     "output_type": "stream",
     "text": [
      " - Data mean: 249.5\n",
      " - Mean from gaussian fit: 249.39835373366012 +/- 13.672929615200003\n",
      " - Std.dev. from poissonian fit: 13.672929615200003\n"
     ]
    },
    {
     "data": {
      "text/plain": [
       "Power_divergenceResult(statistic=0.11317837966647329, pvalue=1.0)"
      ]
     },
     "execution_count": 3,
     "metadata": {},
     "output_type": "execute_result"
    }
   ],
   "source": [
    "def gaus_law(x, a, mu=0, sigma=1):\n",
    "    return a*np.exp(-(x-mu)**2/(2*sigma**2))\n",
    "\n",
    "poptGaus, pcovGaus = curve_fit(gaus_law, k, p, \n",
    "                                         p0 = [1,k_mean, 1])\n",
    "\n",
    "fit_function = gaus_law(k, *poptGaus)\n",
    "\n",
    "fig, ax = plt.subplots()\n",
    "ax.plot(k, p, '.', label = 'degrees distribution')\n",
    "ax.set_xlabel(\"Degrees\")\n",
    "ax.set_ylabel(\"P(k)\")      \n",
    "ax.plot(k, fit_function, '.',\n",
    "               label = f\"fit: A={round(poptGaus[0],4)}, mean={round(poptGaus[1],3)}, sigma={round(poptGaus[2],3)}\")\n",
    "ax.legend()\n",
    "\n",
    "plt.show()\n",
    "\n",
    "\n",
    "\n",
    "print(\" - Data mean:\", k_mean)\n",
    "print(\" - Mean from gaussian fit:\", poptGaus[1], '+/-', poptGaus[2])\n",
    "print(\" - Std.dev. from poissonian fit:\", poptGaus[2])\n",
    "\n",
    "stats.chisquare(p,fit_function)\n",
    "\n"
   ]
  },
  {
   "cell_type": "markdown",
   "id": "d0694bed",
   "metadata": {},
   "source": [
    "Scale-free"
   ]
  },
  {
   "cell_type": "code",
   "execution_count": 26,
   "id": "92c72d60",
   "metadata": {},
   "outputs": [
    {
     "ename": "TypeError",
     "evalue": "barabasi_albert_graph() got an unexpected keyword argument 'initial_graph'",
     "output_type": "error",
     "traceback": [
      "\u001b[0;31m---------------------------------------------------------------------------\u001b[0m",
      "\u001b[0;31mTypeError\u001b[0m                                 Traceback (most recent call last)",
      "\u001b[0;32m<ipython-input-26-d37dc791eaaa>\u001b[0m in \u001b[0;36m<module>\u001b[0;34m\u001b[0m\n\u001b[1;32m      8\u001b[0m \u001b[0;34m\u001b[0m\u001b[0m\n\u001b[1;32m      9\u001b[0m \u001b[0;32mfor\u001b[0m \u001b[0mi\u001b[0m \u001b[0;32min\u001b[0m \u001b[0mrange\u001b[0m\u001b[0;34m(\u001b[0m\u001b[0;36m1\u001b[0m\u001b[0;34m,\u001b[0m\u001b[0mlen\u001b[0m\u001b[0;34m(\u001b[0m\u001b[0mN\u001b[0m\u001b[0;34m)\u001b[0m\u001b[0;34m)\u001b[0m\u001b[0;34m:\u001b[0m\u001b[0;34m\u001b[0m\u001b[0;34m\u001b[0m\u001b[0m\n\u001b[0;32m---> 10\u001b[0;31m     \u001b[0mG_s\u001b[0m \u001b[0;34m=\u001b[0m \u001b[0mnx\u001b[0m\u001b[0;34m.\u001b[0m\u001b[0mbarabasi_albert_graph\u001b[0m\u001b[0;34m(\u001b[0m\u001b[0mN\u001b[0m\u001b[0;34m[\u001b[0m\u001b[0mi\u001b[0m\u001b[0;34m]\u001b[0m\u001b[0;34m,\u001b[0m \u001b[0mM\u001b[0m\u001b[0;34m,\u001b[0m \u001b[0minitial_graph\u001b[0m \u001b[0;34m=\u001b[0m \u001b[0mG_s\u001b[0m\u001b[0;34m)\u001b[0m\u001b[0;34m\u001b[0m\u001b[0;34m\u001b[0m\u001b[0m\n\u001b[0m\u001b[1;32m     11\u001b[0m     \u001b[0mk\u001b[0m \u001b[0;34m=\u001b[0m \u001b[0mnp\u001b[0m\u001b[0;34m.\u001b[0m\u001b[0marange\u001b[0m\u001b[0;34m(\u001b[0m\u001b[0mmin\u001b[0m\u001b[0;34m(\u001b[0m\u001b[0;34m[\u001b[0m\u001b[0md\u001b[0m \u001b[0;32mfor\u001b[0m \u001b[0mn\u001b[0m\u001b[0;34m,\u001b[0m\u001b[0md\u001b[0m \u001b[0;32min\u001b[0m \u001b[0mG_s\u001b[0m\u001b[0;34m.\u001b[0m\u001b[0mdegree\u001b[0m\u001b[0;34m]\u001b[0m\u001b[0;34m)\u001b[0m\u001b[0;34m,\u001b[0m \u001b[0;36m100\u001b[0m\u001b[0;34m)\u001b[0m\u001b[0;34m\u001b[0m\u001b[0;34m\u001b[0m\u001b[0m\n\u001b[1;32m     12\u001b[0m     \u001b[0mp_k\u001b[0m \u001b[0;34m=\u001b[0m \u001b[0;34m[\u001b[0m\u001b[0;36m0\u001b[0m\u001b[0;34m]\u001b[0m\u001b[0;34m*\u001b[0m\u001b[0mlen\u001b[0m\u001b[0;34m(\u001b[0m\u001b[0mk\u001b[0m\u001b[0;34m)\u001b[0m \u001b[0;31m#vettore delle y (p(k))\u001b[0m\u001b[0;34m\u001b[0m\u001b[0;34m\u001b[0m\u001b[0m\n",
      "\u001b[0;31mTypeError\u001b[0m: barabasi_albert_graph() got an unexpected keyword argument 'initial_graph'"
     ]
    }
   ],
   "source": [
    "N = [10000+i*100000 for i in range(5)]\n",
    "M = 3\n",
    "\n",
    "def power_law(x, a, b):\n",
    "    return a*np.power(x, b)\n",
    "\n",
    "G_s = nx.barabasi_albert_graph(N[0], M)\n",
    "\n",
    "for i in range(1,len(N)):\n",
    "    G_s = nx.barabasi_albert_graph(N[i], M, initial_graph = G_s)\n",
    "    k = np.arange(min([d for n,d in G_s.degree]), 100)\n",
    "    p_k = [0]*len(k) #vettore delle y (p(k))\n",
    "\n",
    "    k_mean =sum(k)/len(k)\n",
    "    \n",
    "    \n",
    "\n",
    "    for i in range(len(k)):\n",
    "        for n,d in G_s.degree:\n",
    "            if k[i] == d:\n",
    "                p_k[i] += 1\n",
    "    norm = sum(p) \n",
    "    \n",
    "\n",
    "    \n",
    "    for i in range(len(p_k)): #normalizzo il vettore p(k)\n",
    "        p_k[i] = p_k[i]/norm\n",
    "    \n",
    "    fig, ax = plt.subplots()\n",
    "    ax.plot(k, p_k, '.', label = 'degrees distribution')\n",
    "    ax.set_xlabel(\"Degrees\")\n",
    "    ax.set_ylabel(\"P(k)\") \n",
    "    \n",
    "    # power fit\n",
    "    \n",
    "    poptPower, pcovPower = curve_fit(power_law, k, p_k) \n",
    "                                        \n",
    "    fit_function = power_law(k, *poptPower)\n",
    "    \n",
    "    ax.plot(k, fit_function, '.',\n",
    "               label = f\"fit: a={round(poptPower[0],3)}, b={round(poptPower[1],4)}\")\n",
    "    ax.legend()\n",
    "    plt.yscale('log')\n",
    "    \n",
    "    stats.chisquare(p_k, fit_function)\n",
    "\n",
    "   "
   ]
  },
  {
   "cell_type": "code",
   "execution_count": null,
   "id": "ed330d10",
   "metadata": {},
   "outputs": [],
   "source": []
  }
 ],
 "metadata": {
  "kernelspec": {
   "display_name": "Python 3",
   "language": "python",
   "name": "python3"
  },
  "language_info": {
   "codemirror_mode": {
    "name": "ipython",
    "version": 3
   },
   "file_extension": ".py",
   "mimetype": "text/x-python",
   "name": "python",
   "nbconvert_exporter": "python",
   "pygments_lexer": "ipython3",
   "version": "3.8.8"
  }
 },
 "nbformat": 4,
 "nbformat_minor": 5
}
