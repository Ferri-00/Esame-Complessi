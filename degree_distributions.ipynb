{
 "cells": [
  {
   "cell_type": "code",
   "execution_count": 2,
   "id": "3b45b986",
   "metadata": {},
   "outputs": [],
   "source": [
    "import networkx as nx\n",
    "from networkx.utils import py_random_state\n",
    "from networkx.generators.random_graphs import _random_subset\n",
    "from networkx.generators.classic import star_graph, complete_graph\n",
    "\n",
    "import scipy.stats as stats\n",
    "from scipy.optimize import curve_fit\n",
    "\n",
    "import numpy as np\n",
    "\n",
    "import matplotlib.pyplot as plt"
   ]
  },
  {
   "cell_type": "code",
   "execution_count": 3,
   "id": "da166fa6",
   "metadata": {},
   "outputs": [],
   "source": [
    "@py_random_state(2)\n",
    "def barabasi_albert(n, m, seed=None, initial_graph=None):\n",
    "    \"\"\"Returns a random graph using Barabási–Albert preferential attachment\n",
    "\n",
    "    A graph of $n$ nodes is grown by attaching new nodes each with $m$\n",
    "    edges that are preferentially attached to existing nodes with high degree.\n",
    "\n",
    "    Parameters\n",
    "    ----------\n",
    "    n : int\n",
    "        Number of nodes\n",
    "    m : int\n",
    "        Number of edges to attach from a new node to existing nodes\n",
    "    seed : integer, random_state, or None (default)\n",
    "        Indicator of random number generation state.\n",
    "        See :ref:`Randomness<randomness>`.\n",
    "    initial_graph : Graph or None (default)\n",
    "        Initial network for Barabási–Albert algorithm.\n",
    "        It should be a connected graph for most use cases.\n",
    "        A copy of `initial_graph` is used.\n",
    "        If None, starts from a star graph on (m+1) nodes.\n",
    "\n",
    "    Returns\n",
    "    -------\n",
    "    G : Graph\n",
    "\n",
    "    Raises\n",
    "    ------\n",
    "    NetworkXError\n",
    "        If `m` does not satisfy ``1 <= m < n``, or\n",
    "        the initial graph number of nodes m0 does not satisfy ``m <= m0 <= n``.\n",
    "\n",
    "    References\n",
    "    ----------\n",
    "    .. [1] A. L. Barabási and R. Albert \"Emergence of scaling in\n",
    "       random networks\", Science 286, pp 509-512, 1999.\n",
    "    \"\"\"\n",
    "\n",
    "    if m < 1 or m >= n:\n",
    "        raise nx.NetworkXError(\n",
    "            f\"Barabási–Albert network must have m >= 1 and m < n, m = {m}, n = {n}\"\n",
    "        )\n",
    "\n",
    "    if initial_graph is None:\n",
    "        # Default initial graph : star graph on (m + 1) nodes\n",
    "        G = star_graph(m)\n",
    "    else:\n",
    "        if len(initial_graph) < m or len(initial_graph) > n:\n",
    "            raise nx.NetworkXError(\n",
    "                f\"Barabási–Albert initial graph needs between m={m} and n={n} nodes\"\n",
    "            )\n",
    "        G = initial_graph.copy()\n",
    "\n",
    "    # List of existing nodes, with nodes repeated once for each adjacent edge\n",
    "    repeated_nodes = [n for n, d in G.degree() for _ in range(d)]\n",
    "    # Start adding the other n - m0 nodes.\n",
    "    source = len(G)\n",
    "    while source < n:\n",
    "        # Now choose m unique nodes from the existing nodes\n",
    "        # Pick uniformly from repeated_nodes (preferential attachment)\n",
    "        targets = _random_subset(repeated_nodes, m, seed)\n",
    "        # Add edges to m nodes from the source.\n",
    "        G.add_edges_from(zip([source] * m, targets))\n",
    "        # Add one node to the list for each new edge just created.\n",
    "        repeated_nodes.extend(targets)\n",
    "        # And the new node \"source\" has m edges to add to the list.\n",
    "        repeated_nodes.extend([source] * m)\n",
    "\n",
    "        source += 1\n",
    "    return G"
   ]
  },
  {
   "cell_type": "markdown",
   "id": "6897193e",
   "metadata": {},
   "source": [
    "## Distribuzione dei gradi"
   ]
  },
  {
   "cell_type": "markdown",
   "id": "c76ec11a",
   "metadata": {},
   "source": [
    "Random Graph"
   ]
  },
  {
   "cell_type": "code",
   "execution_count": 4,
   "id": "ad0cbf99",
   "metadata": {},
   "outputs": [],
   "source": [
    "N = int(1e4)\n",
    "P = 0.05\n",
    "\n",
    "G_r = nx.erdos_renyi_graph(N, P)\n",
    "while min([d for n, d in G_r.degree()]) == 0:\n",
    "          G_r = nx.erdos_renyi_graph(N, P)\n",
    "\n",
    "k = np.arange(min([d for n,d in G_r.degree]), max([d for n,d in G_r.degree])+1)\n",
    "p = [0]*len(k)\n",
    "\n",
    "k_mean =sum(k)/len(k)\n",
    "for i in range(len(k)):\n",
    "    for n,d in G_r.degree:\n",
    "        if k[i] == d:\n",
    "            p[i] += 1\n",
    "\n",
    "norm = sum(p)                        \n",
    "for i in range(len(p)):\n",
    "    p[i] = p[i]/norm"
   ]
  },
  {
   "cell_type": "code",
   "execution_count": 8,
   "id": "88fc2723",
   "metadata": {},
   "outputs": [
    {
     "data": {
      "image/png": "[encoded data removed]",
      "text/plain": [
       "<Figure size 432x288 with 1 Axes>"
      ]
     },
     "metadata": {
      "needs_background": "light"
     },
     "output_type": "display_data"
    },
    {
     "name": "stdout",
     "output_type": "stream",
     "text": [
      " - Data mean: 507.0\n",
      " - Mean from gaussian fit: 500.00271729028304 +/- 21.88475210012054\n",
      "Power_divergenceResult(statistic=0.030311010538211707, pvalue=1.0)\n"
     ]
    }
   ],
   "source": [
    "def gaus_law(x, a, mu=0, sigma=1):\n",
    "    return a*np.exp(-(x-mu)**2/(2*sigma**2))\n",
    "\n",
    "poptGaus, pcovGaus = curve_fit(gaus_law, k, p, \n",
    "                               p0 = [1,k_mean, 1])\n",
    "\n",
    "fit_function = gaus_law(k, *poptGaus)\n",
    "\n",
    "fig, ax = plt.subplots()\n",
    "\n",
    "ax.plot(k, p, '.', label = 'degrees distribution')\n",
    "ax.plot(k, fit_function, '-',\n",
    "        label = f\"fit: a={round(poptGaus[0],4)}, mean={round(poptGaus[1],3)}, sigma={round(poptGaus[2],3)}\")\n",
    "plt.ylim([0., 0.025])\n",
    "\n",
    "ax.set_xlabel(\"Degrees\")\n",
    "ax.set_ylabel(\"P(k)\")      \n",
    "ax.legend()\n",
    "\n",
    "plt.show()\n",
    "\n",
    "print(\" - Data mean:\", k_mean)\n",
    "print(\" - Mean from gaussian fit:\", poptGaus[1], '+/-', poptGaus[2])\n",
    "\n",
    "print(stats.chisquare(p,fit_function))"
   ]
  },
  {
   "cell_type": "markdown",
   "id": "4bd32da7",
   "metadata": {},
   "source": [
    "Scale-free"
   ]
  },
  {
   "cell_type": "code",
   "execution_count": 83,
   "id": "8d4b337e",
   "metadata": {},
   "outputs": [],
   "source": [
    "N = 5e4\n",
    "M = 4\n",
    "\n",
    "G_s = barabasi_albert(N, M)\n",
    "\n",
    "k = np.arange(min([d for n,d in G_s.degree]), max([d for n,d in G_s.degree])+1)\n",
    "p = [0]*len(k)\n",
    "\n",
    "k_mean = sum(k)/len(k)\n",
    "for i in range(len(k)):\n",
    "    for n, d in G_s.degree:\n",
    "        if k[i] == d:\n",
    "            p[i] += 1\n",
    "\n",
    "norm = sum(p)   \n",
    "\n",
    "for i in range(len(p)):\n",
    "    p[i] = p[i]/norm\n",
    "    "
   ]
  },
  {
   "cell_type": "code",
   "execution_count": 84,
   "id": "ed649e83",
   "metadata": {},
   "outputs": [
    {
     "name": "stdout",
     "output_type": "stream",
     "text": [
      "Power_divergenceResult(statistic=0.01761619875648633, pvalue=1.0)\n"
     ]
    },
    {
     "data": {
      "image/png": "[encoded data removed]",
      "text/plain": [
       "<Figure size 432x288 with 1 Axes>"
      ]
     },
     "metadata": {
      "needs_background": "light"
     },
     "output_type": "display_data"
    }
   ],
   "source": [
    "def power_law(x, a, b):\n",
    "    return a*np.power(x, b)\n",
    "\n",
    "x_low = 15\n",
    "poptPower, pcovPower = curve_fit(power_law, k[x_low:], p[x_low:]) \n",
    "\n",
    "\n",
    "fit_function = power_law(k[x_low:], *poptPower)\n",
    "\n",
    "fig, ax = plt.subplots()\n",
    "\n",
    "ax.plot(k[15:], p[15:], '.', label = 'degrees distribution')\n",
    "ax.plot(k[x_low:], fit_function, '-',\n",
    "        label = f\"fit: a={round(poptPower[0],3)}, b={round(poptPower[1],4)}\")\n",
    "\n",
    "ax.set_xlabel(\"Degrees\")\n",
    "ax.set_ylabel(\"P(k)\")\n",
    "ax.xaxis\n",
    "ax.legend()\n",
    "\n",
    "#plt.xscale('log')\n",
    "#plt.yscale('log')\n",
    "\n",
    "print(stats.chisquare(p[x_low:], fit_function))\n",
    "\n",
    "plt.show()"
   ]
  },
  {
   "cell_type": "code",
   "execution_count": null,
   "id": "9addd65e",
   "metadata": {},
   "outputs": [],
   "source": []
  }
 ],
 "metadata": {
  "kernelspec": {
   "display_name": "Python 3",
   "language": "python",
   "name": "python3"
  },
  "language_info": {
   "codemirror_mode": {
    "name": "ipython",
    "version": 3
   },
   "file_extension": ".py",
   "mimetype": "text/x-python",
   "name": "python",
   "nbconvert_exporter": "python",
   "pygments_lexer": "ipython3",
   "version": "3.8.8"
  }
 },
 "nbformat": 4,
 "nbformat_minor": 5
}
