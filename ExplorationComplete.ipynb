{
 "cells": [
  {
   "cell_type": "code",
   "execution_count": 1,
   "id": "ecb81724",
   "metadata": {},
   "outputs": [],
   "source": [
    "import networkx as nx\n",
    "from networkx.utils import py_random_state\n",
    "from networkx.generators.random_graphs import _random_subset\n",
    "from networkx.generators.classic import star_graph\n",
    "\n",
    "import matplotlib.pyplot as plt\n",
    "\n",
    "import scipy.stats as stats\n",
    "from scipy.optimize import curve_fit\n",
    "\n",
    "import numpy as np\n",
    "import random\n",
    "import time"
   ]
  },
  {
   "cell_type": "code",
   "execution_count": 2,
   "id": "39070248",
   "metadata": {},
   "outputs": [],
   "source": [
    "def linear_search(lys, element):\n",
    "    for i in range(len(lys)):\n",
    "        if lys[i] == element:\n",
    "            return i\n",
    "    return -1\n",
    "\n",
    "seed = np.random.RandomState()\n",
    "def exploration_time (G, explorations_per_graph):\n",
    "    start_node = _random_subset(G.nodes, 1, seed).pop()\n",
    "        \n",
    "    def exploration(node, G, explored_nodes):\n",
    "        if linear_search(explored_nodes, node) < 0:\n",
    "            explored_nodes += [node]\n",
    "        neighbours = list(G[node])\n",
    "        new_node = _random_subset(neighbours, 1, seed).pop()\n",
    "        return new_node\n",
    "\n",
    "    exploration_time = []\n",
    "    explored_nodes = []\n",
    "    \n",
    "    for i in range(explorations_per_graph):\n",
    "        t = 0\n",
    "        while True:\n",
    "            start_node = exploration(start_node, G, explored_nodes)\n",
    "\n",
    "            if len(explored_nodes) == len(G.nodes):\n",
    "                exploration_time += [t]\n",
    "                explored_nodes.clear()\n",
    "                break\n",
    "            t += 1\n",
    "\n",
    "    mean_exploration_time = sum(exploration_time)/explorations_per_graph\n",
    "    print(\"Mean exploration time:\", mean_exploration_time, \"for\", len(G.nodes) ,\"nodes\")\n",
    "\n",
    "    return mean_exploration_time"
   ]
  },
  {
   "cell_type": "code",
   "execution_count": 3,
   "id": "6277c2cc",
   "metadata": {},
   "outputs": [],
   "source": [
    "time_steps = int(1e5) \n",
    "explorations_per_graph = 3"
   ]
  },
  {
   "cell_type": "code",
   "execution_count": null,
   "id": "606f4b94",
   "metadata": {},
   "outputs": [
    {
     "name": "stdout",
     "output_type": "stream",
     "text": [
      "Mean exploration time: 1311.3333333333333 for 200 nodes\n",
      "Mean exploration time: 4810.333333333333 for 700 nodes\n",
      "Mean exploration time: 9255.0 for 1200 nodes\n",
      "Mean exploration time: 12406.333333333334 for 1700 nodes\n",
      "Mean exploration time: 20868.0 for 2200 nodes\n",
      "Mean exploration time: 21141.333333333332 for 2700 nodes\n",
      "Mean exploration time: 27996.333333333332 for 3200 nodes\n",
      "Mean exploration time: 33124.333333333336 for 3700 nodes\n",
      "Mean exploration time: 38340.0 for 4200 nodes\n",
      "Mean exploration time: 43379.333333333336 for 4700 nodes\n",
      "Mean exploration time: 43476.0 for 5200 nodes\n",
      "Mean exploration time: 46642.333333333336 for 5700 nodes\n",
      "Mean exploration time: 71016.66666666667 for 6200 nodes\n",
      "Mean exploration time: 64101.333333333336 for 6700 nodes\n",
      "Mean exploration time: 75488.66666666667 for 7200 nodes\n",
      "Mean exploration time: 82226.0 for 7700 nodes\n",
      "Mean exploration time: 76544.33333333333 for 8200 nodes\n",
      "Mean exploration time: 86485.33333333333 for 8700 nodes\n",
      "Mean exploration time: 88698.0 for 9200 nodes\n",
      "Mean exploration time: 92887.0 for 9700 nodes\n",
      "Mean exploration time: 92014.66666666667 for 10200 nodes\n",
      "Mean exploration time: 94267.0 for 10700 nodes\n",
      "Mean exploration time: 121873.66666666667 for 11200 nodes\n",
      "Mean exploration time: 153903.66666666666 for 11700 nodes\n",
      "Mean exploration time: 122959.0 for 12200 nodes\n",
      "Mean exploration time: 134438.0 for 12700 nodes\n",
      "Mean exploration time: 138781.0 for 13200 nodes\n",
      "Mean exploration time: 134106.66666666666 for 13700 nodes\n",
      "Mean exploration time: 132944.0 for 14200 nodes\n",
      "Mean exploration time: 167942.66666666666 for 14700 nodes\n",
      "Mean exploration time: 169907.66666666666 for 15200 nodes\n",
      "Mean exploration time: 161036.33333333334 for 15700 nodes\n"
     ]
    }
   ],
   "source": [
    "t0 = time.time()\n",
    "\n",
    "Times = []\n",
    "N = [200+500*i for i in range(40)]\n",
    "\n",
    "for i in range(len(N)):\n",
    "    G = nx.complete_graph(N[i])\n",
    "    Times += [exploration_time(G, explorations_per_graph)]\n",
    "    \n",
    "print(f\"done in {int((time.time()-t0)/60)} minutes and {((time.time()-t0)%60)} seconds\")"
   ]
  },
  {
   "cell_type": "code",
   "execution_count": null,
   "id": "057eafb2",
   "metadata": {},
   "outputs": [],
   "source": [
    "def log_law(x, a):\n",
    "    return a*x*np.log(x) \n",
    "\n",
    "popt, pcov = curve_fit(log_law, N, Times)\n",
    "\n",
    "linear_fit=np.polyfit(N,Times,1)\n",
    "print(linear_fit)\n",
    "\n",
    "fit = [linear_fit[0]*n+linear_fit[1] for n in N]\n",
    "fit_log = log_law(np.array(N), *popt)\n",
    "\n",
    "fig, ax = plt.subplots()\n",
    "    \n",
    "ax.plot(N, Times, '.', label = f\"Exploration time\")\n",
    "ax.plot(N, fit, '-', label = f\"fit: {round(linear_fit[1],4)} + x • {round(linear_fit[0],3)}\")\n",
    "ax.plot(N, fit_log, '-', label = f\"fit: {round(popt[0],4)} • N • log(N)\")\n",
    "\n",
    "ax.set_xlabel(\"Number of nodes\")\n",
    "ax.set_ylabel(f\"Exploration time\")\n",
    "\n",
    "ax.legend()\n",
    "\n",
    "plt.show()"
   ]
  }
 ],
 "metadata": {
  "kernelspec": {
   "display_name": "Python 3 (ipykernel)",
   "language": "python",
   "name": "python3"
  },
  "language_info": {
   "codemirror_mode": {
    "name": "ipython",
    "version": 3
   },
   "file_extension": ".py",
   "mimetype": "text/x-python",
   "name": "python",
   "nbconvert_exporter": "python",
   "pygments_lexer": "ipython3",
   "version": "3.10.4"
  }
 },
 "nbformat": 4,
 "nbformat_minor": 5
}
