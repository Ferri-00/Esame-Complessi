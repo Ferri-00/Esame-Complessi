{
 "cells": [
  {
   "cell_type": "code",
   "execution_count": 119,
   "id": "919b4c06",
   "metadata": {},
   "outputs": [],
   "source": [
    "import networkx as nx\n",
    "import matplotlib.pyplot as plt\n",
    "from networkx.utils import py_random_state\n",
    "from networkx.generators.random_graphs import _random_subset\n",
    "import numpy as np\n",
    "import random\n"
   ]
  },
  {
   "cell_type": "code",
   "execution_count": 85,
   "id": "00ddbfa6",
   "metadata": {},
   "outputs": [],
   "source": [
    "G = nx.Graph()"
   ]
  },
  {
   "cell_type": "markdown",
   "id": "7a44bb96",
   "metadata": {},
   "source": [
    "Creating a graph with the BarabasiAlbert algorithm"
   ]
  },
  {
   "cell_type": "code",
   "execution_count": 86,
   "id": "18255b01",
   "metadata": {},
   "outputs": [],
   "source": [
    "N = 1E4\n",
    "M = 3\n",
    "G = nx.barabasi_albert_graph(N,M, )\n",
    "nx.draw(G, with_labels=True)\n",
    "plt.show()\n"
   ]
  },
  {
   "cell_type": "code",
   "execution_count": 87,
   "id": "fb2e1499",
   "metadata": {},
   "outputs": [],
   "source": [
    "G.add_nodes_from([2, 3])"
   ]
  },
  {
   "cell_type": "markdown",
   "id": "20a4f4b3",
   "metadata": {},
   "source": [
    "You can also add nodes along with node attributes if your container yields 2-tuples of the form (node, node_attribute_dict):"
   ]
  },
  {
   "cell_type": "code",
   "execution_count": 88,
   "id": "3f46f2a3",
   "metadata": {},
   "outputs": [],
   "source": [
    "G.add_nodes_from([\n",
    "    (4, {\"color\": \"red\"}),\n",
    "    (5, {\"color\": \"green\"}),\n",
    "])"
   ]
  },
  {
   "cell_type": "markdown",
   "id": "9c074847",
   "metadata": {},
   "source": [
    "G can also be grown by adding one edge at a time, by adding a list of edges,"
   ]
  },
  {
   "cell_type": "code",
   "execution_count": 89,
   "id": "8c42c212",
   "metadata": {},
   "outputs": [],
   "source": [
    "G.add_edge(1, 2)\n",
    "e = (2, 3)\n",
    "G.add_edge(*e)  # unpack edge tuple*\n",
    "\n",
    "G.add_edges_from([(1, 2), (1, 3)])"
   ]
  },
  {
   "cell_type": "code",
   "execution_count": 90,
   "id": "6f6c44aa",
   "metadata": {},
   "outputs": [
    {
     "data": {
      "image/png": "[encoded data removed]",
      "text/plain": [
       "<Figure size 432x288 with 1 Axes>"
      ]
     },
     "metadata": {},
     "output_type": "display_data"
    }
   ],
   "source": [
    "nx.draw(G, with_labels=True)\n",
    "plt.show()"
   ]
  },
  {
   "cell_type": "code",
   "execution_count": 91,
   "id": "c2ff29d9",
   "metadata": {},
   "outputs": [
    {
     "data": {
      "text/plain": [
       "5"
      ]
     },
     "execution_count": 91,
     "metadata": {},
     "output_type": "execute_result"
    }
   ],
   "source": [
    "G.number_of_nodes()"
   ]
  },
  {
   "cell_type": "code",
   "execution_count": 92,
   "id": "7d6fb30f",
   "metadata": {},
   "outputs": [
    {
     "data": {
      "text/plain": [
       "3"
      ]
     },
     "execution_count": 92,
     "metadata": {},
     "output_type": "execute_result"
    }
   ],
   "source": [
    "G.number_of_edges()"
   ]
  },
  {
   "cell_type": "code",
   "execution_count": 93,
   "id": "442c8bf6",
   "metadata": {},
   "outputs": [
    {
     "data": {
      "text/plain": [
       "[1, 2, 3, 4, 5]"
      ]
     },
     "execution_count": 93,
     "metadata": {},
     "output_type": "execute_result"
    }
   ],
   "source": [
    "list(G.nodes)"
   ]
  },
  {
   "cell_type": "code",
   "execution_count": 94,
   "id": "183d50b0",
   "metadata": {},
   "outputs": [
    {
     "data": {
      "text/plain": [
       "[(1, 2), (1, 3), (2, 3)]"
      ]
     },
     "execution_count": 94,
     "metadata": {},
     "output_type": "execute_result"
    }
   ],
   "source": [
    "list(G.edges)"
   ]
  },
  {
   "cell_type": "code",
   "execution_count": 95,
   "id": "1ec2ee7e",
   "metadata": {},
   "outputs": [
    {
     "data": {
      "text/plain": [
       "[2, 3]"
      ]
     },
     "execution_count": 95,
     "metadata": {},
     "output_type": "execute_result"
    }
   ],
   "source": [
    "list(G.adj[1])  # or list(G.neighbors(1))"
   ]
  },
  {
   "cell_type": "code",
   "execution_count": 96,
   "id": "7cf896a5",
   "metadata": {},
   "outputs": [
    {
     "data": {
      "text/plain": [
       "2"
      ]
     },
     "execution_count": 96,
     "metadata": {},
     "output_type": "execute_result"
    }
   ],
   "source": [
    "G.degree[1]  # the number of edges incident to 1"
   ]
  },
  {
   "cell_type": "markdown",
   "id": "4be99dea",
   "metadata": {},
   "source": [
    "You can get/set the attributes of an edge using subscript notation if the edge already exists."
   ]
  },
  {
   "cell_type": "code",
   "execution_count": 97,
   "id": "c6e61593",
   "metadata": {},
   "outputs": [
    {
     "data": {
      "text/plain": [
       "{'color': 'red'}"
      ]
     },
     "execution_count": 97,
     "metadata": {},
     "output_type": "execute_result"
    }
   ],
   "source": [
    "G.add_edge(1, 3)\n",
    "G[1][3]['color'] = \"blue\"\n",
    "G.edges[1, 2]['color'] = \"red\"\n",
    "G.edges[1, 2]\n"
   ]
  },
  {
   "cell_type": "markdown",
   "id": "2c72a7b1",
   "metadata": {},
   "source": [
    "Fast examination of all (node, adjacency) pairs is achieved using G.adjacency(), or G.adj.items(). Note that for undirected graphs, adjacency iteration sees each edge twice."
   ]
  },
  {
   "cell_type": "code",
   "execution_count": 98,
   "id": "fd18cd16",
   "metadata": {},
   "outputs": [
    {
     "data": {
      "text/plain": [
       "[(1, {2: {'color': 'red'}, 3: {'color': 'blue'}}),\n",
       " (2, {1: {'color': 'red'}, 3: {}}),\n",
       " (3, {2: {}, 1: {'color': 'blue'}}),\n",
       " (4, {}),\n",
       " (5, {})]"
      ]
     },
     "execution_count": 98,
     "metadata": {},
     "output_type": "execute_result"
    }
   ],
   "source": [
    "list(G.adjacency())"
   ]
  },
  {
   "cell_type": "code",
   "execution_count": 99,
   "id": "e0fed266",
   "metadata": {},
   "outputs": [
    {
     "data": {
      "text/plain": [
       "ItemsView(AdjacencyView({1: {2: {'color': 'red'}, 3: {'color': 'blue'}}, 2: {1: {'color': 'red'}, 3: {}}, 3: {2: {}, 1: {'color': 'blue'}}, 4: {}, 5: {}}))"
      ]
     },
     "execution_count": 99,
     "metadata": {},
     "output_type": "execute_result"
    }
   ],
   "source": [
    "G.adj.items()"
   ]
  },
  {
   "cell_type": "code",
   "execution_count": null,
   "id": "5511b499",
   "metadata": {},
   "outputs": [],
   "source": []
  },
  {
   "cell_type": "code",
   "execution_count": null,
   "id": "969cd8be",
   "metadata": {},
   "outputs": [],
   "source": []
  },
  {
   "cell_type": "code",
   "execution_count": null,
   "id": "aac77302",
   "metadata": {},
   "outputs": [],
   "source": []
  },
  {
   "cell_type": "markdown",
   "id": "0aa871ad",
   "metadata": {},
   "source": [
    "The DiGraph class provides additional methods and properties specific to directed edges,"
   ]
  },
  {
   "cell_type": "code",
   "execution_count": 100,
   "id": "4c6ce8c4",
   "metadata": {},
   "outputs": [],
   "source": [
    "DG = nx.DiGraph()\n",
    "DG.add_edge(2, 1)   # adds the nodes in order 2, 1\n",
    "DG.add_edge(1, 3)\n",
    "DG.add_edge(2, 4)\n",
    "DG.add_edge(1, 2)\n",
    "assert list(DG.successors(2)) == [1, 4]\n",
    "assert list(DG.edges) == [(2, 1), (2, 4), (1, 3), (1, 2)]"
   ]
  },
  {
   "cell_type": "code",
   "execution_count": 101,
   "id": "d41208a0",
   "metadata": {
    "scrolled": true
   },
   "outputs": [
    {
     "data": {
      "image/png": "[encoded data removed]",
      "text/plain": [
       "<Figure size 432x288 with 1 Axes>"
      ]
     },
     "metadata": {},
     "output_type": "display_data"
    }
   ],
   "source": [
    "nx.draw(DG, with_labels=True)\n",
    "plt.show()"
   ]
  },
  {
   "cell_type": "code",
   "execution_count": 102,
   "id": "45d15ff2",
   "metadata": {},
   "outputs": [
    {
     "data": {
      "text/plain": [
       "[1, 4]"
      ]
     },
     "execution_count": 102,
     "metadata": {},
     "output_type": "execute_result"
    }
   ],
   "source": [
    "list(DG.successors(2))"
   ]
  },
  {
   "cell_type": "code",
   "execution_count": 103,
   "id": "6acfad2a",
   "metadata": {
    "scrolled": false
   },
   "outputs": [
    {
     "data": {
      "text/plain": [
       "[(2, 1), (2, 4), (1, 3), (1, 2)]"
      ]
     },
     "execution_count": 103,
     "metadata": {},
     "output_type": "execute_result"
    }
   ],
   "source": [
    "list(DG.edges)"
   ]
  },
  {
   "cell_type": "code",
   "execution_count": 104,
   "id": "2bd93485",
   "metadata": {},
   "outputs": [
    {
     "data": {
      "image/png": "[encoded data removed]",
      "text/plain": [
       "<Figure size 432x288 with 1 Axes>"
      ]
     },
     "metadata": {},
     "output_type": "display_data"
    }
   ],
   "source": [
    "\n",
    "G= nx.barabasi_albert_graph(20,3)\n",
    "nx.draw(G, with_labels=True)\n",
    "plt.show()\n"
   ]
  },
  {
   "cell_type": "code",
   "execution_count": null,
   "id": "47e23d51",
   "metadata": {},
   "outputs": [],
   "source": []
  },
  {
   "cell_type": "code",
   "execution_count": 105,
   "id": "6271b18e",
   "metadata": {},
   "outputs": [],
   "source": [
    "for n in G.nodes:\n",
    "    G.nodes[n]['status'] = 0"
   ]
  },
  {
   "cell_type": "code",
   "execution_count": 106,
   "id": "04ed042c",
   "metadata": {},
   "outputs": [
    {
     "data": {
      "text/plain": [
       "NodeView((0, 1, 2, 3, 4, 5, 6, 7, 8, 9, 10, 11, 12, 13, 14, 15, 16, 17, 18, 19))"
      ]
     },
     "execution_count": 106,
     "metadata": {},
     "output_type": "execute_result"
    }
   ],
   "source": [
    "# lista dei nodi del grafico G\n",
    "\n",
    "G.nodes"
   ]
  },
  {
   "cell_type": "code",
   "execution_count": 107,
   "id": "9a326dc0",
   "metadata": {},
   "outputs": [
    {
     "data": {
      "text/plain": [
       "NodeDataView({0: {'status': 0}, 1: {'status': 0}, 2: {'status': 0}, 3: {'status': 0}, 4: {'status': 0}, 5: {'status': 0}, 6: {'status': 0}, 7: {'status': 0}, 8: {'status': 0}, 9: {'status': 0}, 10: {'status': 0}, 11: {'status': 0}, 12: {'status': 0}, 13: {'status': 0}, 14: {'status': 0}, 15: {'status': 0}, 16: {'status': 0}, 17: {'status': 0}, 18: {'status': 0}, 19: {'status': 0}})"
      ]
     },
     "execution_count": 107,
     "metadata": {},
     "output_type": "execute_result"
    }
   ],
   "source": [
    "# lista degli attributi dei nodi del grafico G\n",
    "\n",
    "G.nodes.data()"
   ]
  },
  {
   "cell_type": "code",
   "execution_count": 108,
   "id": "f8bf7eba",
   "metadata": {},
   "outputs": [
    {
     "data": {
      "text/plain": [
       "EdgeView([(0, 3), (0, 5), (0, 6), (0, 10), (0, 12), (0, 14), (1, 3), (1, 4), (1, 5), (1, 9), (1, 13), (1, 14), (2, 3), (2, 4), (2, 6), (2, 8), (3, 4), (3, 5), (3, 6), (3, 8), (3, 14), (3, 15), (3, 17), (4, 7), (4, 15), (4, 18), (5, 7), (5, 9), (5, 11), (5, 12), (5, 15), (5, 19), (6, 7), (6, 10), (6, 11), (6, 13), (6, 17), (6, 18), (6, 19), (7, 8), (7, 9), (7, 16), (8, 10), (8, 11), (8, 16), (8, 18), (9, 13), (10, 12), (12, 17), (13, 19), (14, 16)])"
      ]
     },
     "execution_count": 108,
     "metadata": {},
     "output_type": "execute_result"
    }
   ],
   "source": [
    "G.edges"
   ]
  },
  {
   "cell_type": "code",
   "execution_count": 109,
   "id": "2103b706",
   "metadata": {},
   "outputs": [
    {
     "data": {
      "text/plain": [
       "[{0, 1, 2, 3, 4, 5, 6, 7, 8, 9, 10, 11, 12, 13, 14, 15, 16, 17, 18, 19}]"
      ]
     },
     "execution_count": 109,
     "metadata": {},
     "output_type": "execute_result"
    }
   ],
   "source": [
    "list(nx.connected_components(G))"
   ]
  },
  {
   "cell_type": "code",
   "execution_count": 110,
   "id": "e0269d7d",
   "metadata": {},
   "outputs": [
    {
     "name": "stdout",
     "output_type": "stream",
     "text": [
      "[(0, 6), (1, 6), (2, 4), (3, 10), (4, 6), (5, 9), (6, 10), (7, 6), (8, 7), (9, 4), (10, 4), (11, 3), (12, 4), (13, 4), (14, 4), (15, 3), (16, 3), (17, 3), (18, 3), (19, 3)]\n"
     ]
    }
   ],
   "source": [
    "# G.degree() restituisce la lista di connessioni dei nodi del grafico dove n = nodo e d = degree, connessioni\n",
    "print(G.degree())\n",
    "\n",
    "\n",
    "values = sorted(d for n, d in G.degree())"
   ]
  },
  {
   "cell_type": "code",
   "execution_count": 111,
   "id": "50cf868c",
   "metadata": {},
   "outputs": [
    {
     "data": {
      "image/png": "[encoded data removed]",
      "text/plain": [
       "<Figure size 432x288 with 1 Axes>"
      ]
     },
     "metadata": {
      "needs_background": "light"
     },
     "output_type": "display_data"
    }
   ],
   "source": [
    "plt.hist(values)\n",
    "plt.show()"
   ]
  },
  {
   "cell_type": "code",
   "execution_count": 112,
   "id": "31cf93fa",
   "metadata": {},
   "outputs": [],
   "source": [
    "# G.neighbors(n) restituisce un iteratore sui vicini dell'n-esimo nodo del grafico G\n"
   ]
  },
  {
   "cell_type": "code",
   "execution_count": 113,
   "id": "11851f99",
   "metadata": {},
   "outputs": [
    {
     "data": {
      "text/plain": [
       "{0: 0.4,\n",
       " 1: 0.3333333333333333,\n",
       " 2: 0.5,\n",
       " 3: 0.26666666666666666,\n",
       " 4: 0.2,\n",
       " 5: 0.16666666666666666,\n",
       " 6: 0.1111111111111111,\n",
       " 7: 0.13333333333333333,\n",
       " 8: 0.09523809523809523,\n",
       " 9: 0.5,\n",
       " 10: 0.3333333333333333,\n",
       " 11: 0,\n",
       " 12: 0.3333333333333333,\n",
       " 13: 0.3333333333333333,\n",
       " 14: 0.3333333333333333,\n",
       " 15: 0.6666666666666666,\n",
       " 16: 0.3333333333333333,\n",
       " 17: 0.3333333333333333,\n",
       " 18: 0,\n",
       " 19: 0.3333333333333333}"
      ]
     },
     "execution_count": 113,
     "metadata": {},
     "output_type": "execute_result"
    }
   ],
   "source": [
    "nx.clustering(G)"
   ]
  },
  {
   "cell_type": "code",
   "execution_count": null,
   "id": "6e6b9045",
   "metadata": {},
   "outputs": [],
   "source": [
    "\n",
    "\n"
   ]
  },
  {
   "cell_type": "code",
   "execution_count": null,
   "id": "a4aaa03e",
   "metadata": {},
   "outputs": [],
   "source": []
  },
  {
   "cell_type": "code",
   "execution_count": 114,
   "id": "d07a86af",
   "metadata": {},
   "outputs": [
    {
     "data": {
      "text/plain": [
       "<dict_itemiterator at 0x7fc1db69f900>"
      ]
     },
     "execution_count": 114,
     "metadata": {},
     "output_type": "execute_result"
    }
   ],
   "source": [
    "G.adjacency()"
   ]
  },
  {
   "cell_type": "code",
   "execution_count": 115,
   "id": "c414c28d",
   "metadata": {},
   "outputs": [],
   "source": [
    "G= nx.barabasi_albert_graph(10,2)"
   ]
  },
  {
   "cell_type": "code",
   "execution_count": 116,
   "id": "489cb560",
   "metadata": {},
   "outputs": [
    {
     "data": {
      "image/png": "[encoded data removed]",
      "text/plain": [
       "<Figure size 432x288 with 1 Axes>"
      ]
     },
     "metadata": {},
     "output_type": "display_data"
    }
   ],
   "source": [
    "nx.draw(G)"
   ]
  },
  {
   "cell_type": "code",
   "execution_count": 117,
   "id": "9dbc23ca",
   "metadata": {},
   "outputs": [
    {
     "data": {
      "text/plain": [
       "[(0, {2: {}, 6: {}}),\n",
       " (1, {2: {}, 3: {}, 4: {}, 5: {}, 7: {}, 9: {}}),\n",
       " (2, {0: {}, 1: {}, 3: {}, 4: {}, 5: {}}),\n",
       " (3, {1: {}, 2: {}}),\n",
       " (4, {1: {}, 2: {}, 7: {}, 8: {}}),\n",
       " (5, {1: {}, 2: {}, 6: {}, 8: {}}),\n",
       " (6, {0: {}, 5: {}, 9: {}}),\n",
       " (7, {1: {}, 4: {}}),\n",
       " (8, {4: {}, 5: {}}),\n",
       " (9, {1: {}, 6: {}})]"
      ]
     },
     "execution_count": 117,
     "metadata": {},
     "output_type": "execute_result"
    }
   ],
   "source": [
    "adjacency = list(G.adjacency())\n",
    "adjacency\n"
   ]
  },
  {
   "cell_type": "code",
   "execution_count": 131,
   "id": "a61292a9",
   "metadata": {},
   "outputs": [
    {
     "name": "stdout",
     "output_type": "stream",
     "text": [
      "[0, 1, 3, 0, 2, 1, 1, 0, 2, 0]\n"
     ]
    }
   ],
   "source": [
    "A = []\n",
    "for a,b in adjacency :\n",
    "    A+=[[0]*len(adjacency)] \n",
    "    for c in b : \n",
    "        A[a][c] = 1  \n",
    "len(A)\n",
    "\n",
    "P = []\n",
    "for r,c in adjacency :\n",
    "    P+=[[0]*len(A)]\n",
    "    for d in c: \n",
    "        P[r][d] = A[r][d] / G.degree[r]\n",
    "        \n",
    "for n in G.nodes:\n",
    "    G.nodes[n]['N_i'] = 2\n",
    "    \n",
    "seed = np.random.RandomState()\n",
    "\n",
    "evolution = [0] * len(G.nodes)\n",
    "    \n",
    "for n in G.nodes:\n",
    "    neighbours = list(G[n])\n",
    "    new_node = _random_subset(neighbours, 1, seed).pop()\n",
    "    evolution[new_node] += 1\n",
    "    \n",
    "print(evolution)    \n",
    "  \n",
    "\n",
    "   \n",
    "\n",
    "        "
   ]
  },
  {
   "cell_type": "code",
   "execution_count": null,
   "id": "51ebbf22",
   "metadata": {},
   "outputs": [],
   "source": []
  },
  {
   "cell_type": "code",
   "execution_count": null,
   "id": "e3f64422",
   "metadata": {},
   "outputs": [],
   "source": []
  }
 ],
 "metadata": {
  "kernelspec": {
   "display_name": "Python 3 (ipykernel)",
   "language": "python",
   "name": "python3"
  },
  "language_info": {
   "codemirror_mode": {
    "name": "ipython",
    "version": 3
   },
   "file_extension": ".py",
   "mimetype": "text/x-python",
   "name": "python",
   "nbconvert_exporter": "python",
   "pygments_lexer": "ipython3",
   "version": "3.9.7"
  }
 },
 "nbformat": 4,
 "nbformat_minor": 5
}
